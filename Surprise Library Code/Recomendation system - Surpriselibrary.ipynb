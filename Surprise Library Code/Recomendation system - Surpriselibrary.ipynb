{
 "cells": [
  {
   "cell_type": "code",
   "execution_count": 1,
   "metadata": {},
   "outputs": [],
   "source": [
    "import warnings\n",
    "warnings.filterwarnings('ignore')\n",
    "\n",
    "from IPython.core.interactiveshell import InteractiveShell\n",
    "InteractiveShell.ast_node_interactivity = 'all'\n",
    "\n",
    "\n",
    "import math\n",
    "import numpy as np\n",
    "import pandas as pd\n",
    "\n",
    "import seaborn as sns\n",
    "import matplotlib.pyplot as plt\n",
    "sns.set_style('whitegrid')\n",
    "%matplotlib inline"
   ]
  },
  {
   "cell_type": "code",
   "execution_count": 2,
   "metadata": {},
   "outputs": [],
   "source": [
    "kaggle_visible_evaluation = pd. read_csv(\"kaggle_visible_evaluation_triplets.txt\", sep=\"\\t\",names=['user_id','song_id','freq'])"
   ]
  },
  {
   "cell_type": "code",
   "execution_count": 3,
   "metadata": {},
   "outputs": [
    {
     "data": {
      "text/html": [
       "<div>\n",
       "<style scoped>\n",
       "    .dataframe tbody tr th:only-of-type {\n",
       "        vertical-align: middle;\n",
       "    }\n",
       "\n",
       "    .dataframe tbody tr th {\n",
       "        vertical-align: top;\n",
       "    }\n",
       "\n",
       "    .dataframe thead th {\n",
       "        text-align: right;\n",
       "    }\n",
       "</style>\n",
       "<table border=\"1\" class=\"dataframe\">\n",
       "  <thead>\n",
       "    <tr style=\"text-align: right;\">\n",
       "      <th></th>\n",
       "      <th>user_id</th>\n",
       "      <th>song_id</th>\n",
       "      <th>freq</th>\n",
       "    </tr>\n",
       "  </thead>\n",
       "  <tbody>\n",
       "    <tr>\n",
       "      <th>0</th>\n",
       "      <td>fd50c4007b68a3737fe052d5a4f78ce8aa117f3d</td>\n",
       "      <td>SOBONKR12A58A7A7E0</td>\n",
       "      <td>1</td>\n",
       "    </tr>\n",
       "    <tr>\n",
       "      <th>1</th>\n",
       "      <td>fd50c4007b68a3737fe052d5a4f78ce8aa117f3d</td>\n",
       "      <td>SOEGIYH12A6D4FC0E3</td>\n",
       "      <td>1</td>\n",
       "    </tr>\n",
       "    <tr>\n",
       "      <th>2</th>\n",
       "      <td>fd50c4007b68a3737fe052d5a4f78ce8aa117f3d</td>\n",
       "      <td>SOFLJQZ12A6D4FADA6</td>\n",
       "      <td>1</td>\n",
       "    </tr>\n",
       "    <tr>\n",
       "      <th>3</th>\n",
       "      <td>fd50c4007b68a3737fe052d5a4f78ce8aa117f3d</td>\n",
       "      <td>SOHTKMO12AB01843B0</td>\n",
       "      <td>1</td>\n",
       "    </tr>\n",
       "    <tr>\n",
       "      <th>4</th>\n",
       "      <td>fd50c4007b68a3737fe052d5a4f78ce8aa117f3d</td>\n",
       "      <td>SODQZCY12A6D4F9D11</td>\n",
       "      <td>1</td>\n",
       "    </tr>\n",
       "  </tbody>\n",
       "</table>\n",
       "</div>"
      ],
      "text/plain": [
       "                                    user_id             song_id  freq\n",
       "0  fd50c4007b68a3737fe052d5a4f78ce8aa117f3d  SOBONKR12A58A7A7E0     1\n",
       "1  fd50c4007b68a3737fe052d5a4f78ce8aa117f3d  SOEGIYH12A6D4FC0E3     1\n",
       "2  fd50c4007b68a3737fe052d5a4f78ce8aa117f3d  SOFLJQZ12A6D4FADA6     1\n",
       "3  fd50c4007b68a3737fe052d5a4f78ce8aa117f3d  SOHTKMO12AB01843B0     1\n",
       "4  fd50c4007b68a3737fe052d5a4f78ce8aa117f3d  SODQZCY12A6D4F9D11     1"
      ]
     },
     "execution_count": 3,
     "metadata": {},
     "output_type": "execute_result"
    }
   ],
   "source": [
    "kaggle_visible_evaluation.head()"
   ]
  },
  {
   "cell_type": "code",
   "execution_count": 4,
   "metadata": {},
   "outputs": [],
   "source": [
    "unique_tracks = pd. read_csv(\"unique_tracks.txt\",sep='<SEP>',names= ['track_id','song_id','artist_name','title'])"
   ]
  },
  {
   "cell_type": "code",
   "execution_count": 5,
   "metadata": {},
   "outputs": [
    {
     "data": {
      "text/html": [
       "<div>\n",
       "<style scoped>\n",
       "    .dataframe tbody tr th:only-of-type {\n",
       "        vertical-align: middle;\n",
       "    }\n",
       "\n",
       "    .dataframe tbody tr th {\n",
       "        vertical-align: top;\n",
       "    }\n",
       "\n",
       "    .dataframe thead th {\n",
       "        text-align: right;\n",
       "    }\n",
       "</style>\n",
       "<table border=\"1\" class=\"dataframe\">\n",
       "  <thead>\n",
       "    <tr style=\"text-align: right;\">\n",
       "      <th></th>\n",
       "      <th>track_id</th>\n",
       "      <th>song_id</th>\n",
       "      <th>artist_name</th>\n",
       "      <th>title</th>\n",
       "    </tr>\n",
       "  </thead>\n",
       "  <tbody>\n",
       "    <tr>\n",
       "      <th>0</th>\n",
       "      <td>TRMMMYQ128F932D901</td>\n",
       "      <td>SOQMMHC12AB0180CB8</td>\n",
       "      <td>Faster Pussy cat</td>\n",
       "      <td>Silent Night</td>\n",
       "    </tr>\n",
       "    <tr>\n",
       "      <th>1</th>\n",
       "      <td>TRMMMKD128F425225D</td>\n",
       "      <td>SOVFVAK12A8C1350D9</td>\n",
       "      <td>Karkkiautomaatti</td>\n",
       "      <td>Tanssi vaan</td>\n",
       "    </tr>\n",
       "    <tr>\n",
       "      <th>2</th>\n",
       "      <td>TRMMMRX128F93187D9</td>\n",
       "      <td>SOGTUKN12AB017F4F1</td>\n",
       "      <td>Hudson Mohawke</td>\n",
       "      <td>No One Could Ever</td>\n",
       "    </tr>\n",
       "    <tr>\n",
       "      <th>3</th>\n",
       "      <td>TRMMMCH128F425532C</td>\n",
       "      <td>SOBNYVR12A8C13558C</td>\n",
       "      <td>Yerba Brava</td>\n",
       "      <td>Si Vos Querés</td>\n",
       "    </tr>\n",
       "    <tr>\n",
       "      <th>4</th>\n",
       "      <td>TRMMMWA128F426B589</td>\n",
       "      <td>SOHSBXH12A8C13B0DF</td>\n",
       "      <td>Der Mystic</td>\n",
       "      <td>Tangle Of Aspens</td>\n",
       "    </tr>\n",
       "  </tbody>\n",
       "</table>\n",
       "</div>"
      ],
      "text/plain": [
       "             track_id             song_id       artist_name              title\n",
       "0  TRMMMYQ128F932D901  SOQMMHC12AB0180CB8  Faster Pussy cat       Silent Night\n",
       "1  TRMMMKD128F425225D  SOVFVAK12A8C1350D9  Karkkiautomaatti        Tanssi vaan\n",
       "2  TRMMMRX128F93187D9  SOGTUKN12AB017F4F1    Hudson Mohawke  No One Could Ever\n",
       "3  TRMMMCH128F425532C  SOBNYVR12A8C13558C       Yerba Brava      Si Vos Querés\n",
       "4  TRMMMWA128F426B589  SOHSBXH12A8C13B0DF        Der Mystic   Tangle Of Aspens"
      ]
     },
     "execution_count": 5,
     "metadata": {},
     "output_type": "execute_result"
    }
   ],
   "source": [
    "unique_tracks.head()"
   ]
  },
  {
   "cell_type": "code",
   "execution_count": 6,
   "metadata": {},
   "outputs": [],
   "source": [
    "song_df = pd.merge(kaggle_visible_evaluation,unique_tracks.drop_duplicates(['song_id']), on=\"song_id\", how=\"left\")\n"
   ]
  },
  {
   "cell_type": "code",
   "execution_count": 7,
   "metadata": {},
   "outputs": [
    {
     "data": {
      "text/html": [
       "<div>\n",
       "<style scoped>\n",
       "    .dataframe tbody tr th:only-of-type {\n",
       "        vertical-align: middle;\n",
       "    }\n",
       "\n",
       "    .dataframe tbody tr th {\n",
       "        vertical-align: top;\n",
       "    }\n",
       "\n",
       "    .dataframe thead th {\n",
       "        text-align: right;\n",
       "    }\n",
       "</style>\n",
       "<table border=\"1\" class=\"dataframe\">\n",
       "  <thead>\n",
       "    <tr style=\"text-align: right;\">\n",
       "      <th></th>\n",
       "      <th>user_id</th>\n",
       "      <th>song_id</th>\n",
       "      <th>freq</th>\n",
       "      <th>track_id</th>\n",
       "      <th>artist_name</th>\n",
       "      <th>title</th>\n",
       "    </tr>\n",
       "  </thead>\n",
       "  <tbody>\n",
       "    <tr>\n",
       "      <th>0</th>\n",
       "      <td>fd50c4007b68a3737fe052d5a4f78ce8aa117f3d</td>\n",
       "      <td>SOBONKR12A58A7A7E0</td>\n",
       "      <td>1</td>\n",
       "      <td>TRAEHHJ12903CF492F</td>\n",
       "      <td>Dwight Yoakam</td>\n",
       "      <td>You're The One</td>\n",
       "    </tr>\n",
       "    <tr>\n",
       "      <th>1</th>\n",
       "      <td>fd50c4007b68a3737fe052d5a4f78ce8aa117f3d</td>\n",
       "      <td>SOEGIYH12A6D4FC0E3</td>\n",
       "      <td>1</td>\n",
       "      <td>TRLGMFJ128F4217DBE</td>\n",
       "      <td>Barry Tuckwell/Academy of St Martin-in-the-Fie...</td>\n",
       "      <td>Horn Concerto No. 4 in E flat K495: II. Romanc...</td>\n",
       "    </tr>\n",
       "    <tr>\n",
       "      <th>2</th>\n",
       "      <td>fd50c4007b68a3737fe052d5a4f78ce8aa117f3d</td>\n",
       "      <td>SOFLJQZ12A6D4FADA6</td>\n",
       "      <td>1</td>\n",
       "      <td>TRTNDNE128F1486812</td>\n",
       "      <td>Cartola</td>\n",
       "      <td>Tive Sim</td>\n",
       "    </tr>\n",
       "    <tr>\n",
       "      <th>3</th>\n",
       "      <td>fd50c4007b68a3737fe052d5a4f78ce8aa117f3d</td>\n",
       "      <td>SOHTKMO12AB01843B0</td>\n",
       "      <td>1</td>\n",
       "      <td>TRASTUE128F930D488</td>\n",
       "      <td>Lonnie Gordon</td>\n",
       "      <td>Catch You Baby (Steve Pitron &amp; Max Sanna Radio...</td>\n",
       "    </tr>\n",
       "    <tr>\n",
       "      <th>4</th>\n",
       "      <td>fd50c4007b68a3737fe052d5a4f78ce8aa117f3d</td>\n",
       "      <td>SODQZCY12A6D4F9D11</td>\n",
       "      <td>1</td>\n",
       "      <td>TRFPLWO128F1486B9E</td>\n",
       "      <td>Miguel Calo</td>\n",
       "      <td>El Cuatrero</td>\n",
       "    </tr>\n",
       "  </tbody>\n",
       "</table>\n",
       "</div>"
      ],
      "text/plain": [
       "                                    user_id             song_id  freq  \\\n",
       "0  fd50c4007b68a3737fe052d5a4f78ce8aa117f3d  SOBONKR12A58A7A7E0     1   \n",
       "1  fd50c4007b68a3737fe052d5a4f78ce8aa117f3d  SOEGIYH12A6D4FC0E3     1   \n",
       "2  fd50c4007b68a3737fe052d5a4f78ce8aa117f3d  SOFLJQZ12A6D4FADA6     1   \n",
       "3  fd50c4007b68a3737fe052d5a4f78ce8aa117f3d  SOHTKMO12AB01843B0     1   \n",
       "4  fd50c4007b68a3737fe052d5a4f78ce8aa117f3d  SODQZCY12A6D4F9D11     1   \n",
       "\n",
       "             track_id                                        artist_name  \\\n",
       "0  TRAEHHJ12903CF492F                                      Dwight Yoakam   \n",
       "1  TRLGMFJ128F4217DBE  Barry Tuckwell/Academy of St Martin-in-the-Fie...   \n",
       "2  TRTNDNE128F1486812                                            Cartola   \n",
       "3  TRASTUE128F930D488                                      Lonnie Gordon   \n",
       "4  TRFPLWO128F1486B9E                                        Miguel Calo   \n",
       "\n",
       "                                               title  \n",
       "0                                     You're The One  \n",
       "1  Horn Concerto No. 4 in E flat K495: II. Romanc...  \n",
       "2                                           Tive Sim  \n",
       "3  Catch You Baby (Steve Pitron & Max Sanna Radio...  \n",
       "4                                        El Cuatrero  "
      ]
     },
     "execution_count": 7,
     "metadata": {},
     "output_type": "execute_result"
    }
   ],
   "source": [
    "song_df.head()"
   ]
  },
  {
   "cell_type": "markdown",
   "metadata": {},
   "source": [
    "**Let's delete the unnessery columns**"
   ]
  },
  {
   "cell_type": "code",
   "execution_count": 8,
   "metadata": {},
   "outputs": [],
   "source": [
    "song_df.drop(['track_id'],axis=1, inplace=True)"
   ]
  },
  {
   "cell_type": "markdown",
   "metadata": {},
   "source": [
    "# Final data is"
   ]
  },
  {
   "cell_type": "code",
   "execution_count": 9,
   "metadata": {},
   "outputs": [
    {
     "data": {
      "text/html": [
       "<div>\n",
       "<style scoped>\n",
       "    .dataframe tbody tr th:only-of-type {\n",
       "        vertical-align: middle;\n",
       "    }\n",
       "\n",
       "    .dataframe tbody tr th {\n",
       "        vertical-align: top;\n",
       "    }\n",
       "\n",
       "    .dataframe thead th {\n",
       "        text-align: right;\n",
       "    }\n",
       "</style>\n",
       "<table border=\"1\" class=\"dataframe\">\n",
       "  <thead>\n",
       "    <tr style=\"text-align: right;\">\n",
       "      <th></th>\n",
       "      <th>user_id</th>\n",
       "      <th>song_id</th>\n",
       "      <th>freq</th>\n",
       "      <th>artist_name</th>\n",
       "      <th>title</th>\n",
       "    </tr>\n",
       "  </thead>\n",
       "  <tbody>\n",
       "    <tr>\n",
       "      <th>0</th>\n",
       "      <td>fd50c4007b68a3737fe052d5a4f78ce8aa117f3d</td>\n",
       "      <td>SOBONKR12A58A7A7E0</td>\n",
       "      <td>1</td>\n",
       "      <td>Dwight Yoakam</td>\n",
       "      <td>You're The One</td>\n",
       "    </tr>\n",
       "    <tr>\n",
       "      <th>1</th>\n",
       "      <td>fd50c4007b68a3737fe052d5a4f78ce8aa117f3d</td>\n",
       "      <td>SOEGIYH12A6D4FC0E3</td>\n",
       "      <td>1</td>\n",
       "      <td>Barry Tuckwell/Academy of St Martin-in-the-Fie...</td>\n",
       "      <td>Horn Concerto No. 4 in E flat K495: II. Romanc...</td>\n",
       "    </tr>\n",
       "    <tr>\n",
       "      <th>2</th>\n",
       "      <td>fd50c4007b68a3737fe052d5a4f78ce8aa117f3d</td>\n",
       "      <td>SOFLJQZ12A6D4FADA6</td>\n",
       "      <td>1</td>\n",
       "      <td>Cartola</td>\n",
       "      <td>Tive Sim</td>\n",
       "    </tr>\n",
       "    <tr>\n",
       "      <th>3</th>\n",
       "      <td>fd50c4007b68a3737fe052d5a4f78ce8aa117f3d</td>\n",
       "      <td>SOHTKMO12AB01843B0</td>\n",
       "      <td>1</td>\n",
       "      <td>Lonnie Gordon</td>\n",
       "      <td>Catch You Baby (Steve Pitron &amp; Max Sanna Radio...</td>\n",
       "    </tr>\n",
       "    <tr>\n",
       "      <th>4</th>\n",
       "      <td>fd50c4007b68a3737fe052d5a4f78ce8aa117f3d</td>\n",
       "      <td>SODQZCY12A6D4F9D11</td>\n",
       "      <td>1</td>\n",
       "      <td>Miguel Calo</td>\n",
       "      <td>El Cuatrero</td>\n",
       "    </tr>\n",
       "  </tbody>\n",
       "</table>\n",
       "</div>"
      ],
      "text/plain": [
       "                                    user_id             song_id  freq  \\\n",
       "0  fd50c4007b68a3737fe052d5a4f78ce8aa117f3d  SOBONKR12A58A7A7E0     1   \n",
       "1  fd50c4007b68a3737fe052d5a4f78ce8aa117f3d  SOEGIYH12A6D4FC0E3     1   \n",
       "2  fd50c4007b68a3737fe052d5a4f78ce8aa117f3d  SOFLJQZ12A6D4FADA6     1   \n",
       "3  fd50c4007b68a3737fe052d5a4f78ce8aa117f3d  SOHTKMO12AB01843B0     1   \n",
       "4  fd50c4007b68a3737fe052d5a4f78ce8aa117f3d  SODQZCY12A6D4F9D11     1   \n",
       "\n",
       "                                         artist_name  \\\n",
       "0                                      Dwight Yoakam   \n",
       "1  Barry Tuckwell/Academy of St Martin-in-the-Fie...   \n",
       "2                                            Cartola   \n",
       "3                                      Lonnie Gordon   \n",
       "4                                        Miguel Calo   \n",
       "\n",
       "                                               title  \n",
       "0                                     You're The One  \n",
       "1  Horn Concerto No. 4 in E flat K495: II. Romanc...  \n",
       "2                                           Tive Sim  \n",
       "3  Catch You Baby (Steve Pitron & Max Sanna Radio...  \n",
       "4                                        El Cuatrero  "
      ]
     },
     "execution_count": 9,
     "metadata": {},
     "output_type": "execute_result"
    }
   ],
   "source": [
    "song_df.head()"
   ]
  },
  {
   "cell_type": "code",
   "execution_count": 10,
   "metadata": {},
   "outputs": [
    {
     "data": {
      "text/plain": [
       "Index(['user_id', 'song_id', 'freq', 'artist_name', 'title'], dtype='object')"
      ]
     },
     "execution_count": 10,
     "metadata": {},
     "output_type": "execute_result"
    }
   ],
   "source": [
    "song_df.columns          # to know the column names in the data"
   ]
  },
  {
   "cell_type": "code",
   "execution_count": 11,
   "metadata": {},
   "outputs": [
    {
     "data": {
      "text/plain": [
       "(1450933, 5)"
      ]
     },
     "execution_count": 11,
     "metadata": {},
     "output_type": "execute_result"
    }
   ],
   "source": [
    "song_df.shape            # to the shape of the data"
   ]
  },
  {
   "cell_type": "code",
   "execution_count": 12,
   "metadata": {},
   "outputs": [
    {
     "name": "stdout",
     "output_type": "stream",
     "text": [
      "Total number of observations are: 1450933\n"
     ]
    }
   ],
   "source": [
    "print('Total number of observations are:',song_df.shape[0])"
   ]
  },
  {
   "cell_type": "markdown",
   "metadata": {},
   "source": [
    "### Let's check is there any missing values ###"
   ]
  },
  {
   "cell_type": "code",
   "execution_count": 13,
   "metadata": {},
   "outputs": [
    {
     "data": {
      "text/plain": [
       "user_id        0\n",
       "song_id        0\n",
       "freq           0\n",
       "artist_name    0\n",
       "title          1\n",
       "dtype: int64"
      ]
     },
     "execution_count": 13,
     "metadata": {},
     "output_type": "execute_result"
    }
   ],
   "source": [
    "song_df.isnull().sum()"
   ]
  },
  {
   "cell_type": "markdown",
   "metadata": {},
   "source": [
    "- There is 1 missing value in the release column data. let's drop that row"
   ]
  },
  {
   "cell_type": "code",
   "execution_count": 14,
   "metadata": {},
   "outputs": [],
   "source": [
    "song_df.dropna(inplace=True)"
   ]
  },
  {
   "cell_type": "code",
   "execution_count": 15,
   "metadata": {},
   "outputs": [
    {
     "data": {
      "text/plain": [
       "(1450932, 5)"
      ]
     },
     "execution_count": 15,
     "metadata": {},
     "output_type": "execute_result"
    }
   ],
   "source": [
    "song_df.shape"
   ]
  },
  {
   "cell_type": "code",
   "execution_count": 16,
   "metadata": {},
   "outputs": [
    {
     "name": "stdout",
     "output_type": "stream",
     "text": [
      "<class 'pandas.core.frame.DataFrame'>\n",
      "Int64Index: 1450932 entries, 0 to 1450932\n",
      "Data columns (total 5 columns):\n",
      " #   Column       Non-Null Count    Dtype \n",
      "---  ------       --------------    ----- \n",
      " 0   user_id      1450932 non-null  object\n",
      " 1   song_id      1450932 non-null  object\n",
      " 2   freq         1450932 non-null  int64 \n",
      " 3   artist_name  1450932 non-null  object\n",
      " 4   title        1450932 non-null  object\n",
      "dtypes: int64(1), object(4)\n",
      "memory usage: 66.4+ MB\n"
     ]
    }
   ],
   "source": [
    "song_df.info()"
   ]
  },
  {
   "cell_type": "markdown",
   "metadata": {},
   "source": [
    "- In the given data 4 are object type (**Categorical columns**) columns and 1 is int type(**Numaric type**)"
   ]
  },
  {
   "cell_type": "markdown",
   "metadata": {},
   "source": [
    "### Let's look in to column by column \n",
    "\n",
    "## Univariate analysis\n",
    "\n",
    "#### user "
   ]
  },
  {
   "cell_type": "code",
   "execution_count": 17,
   "metadata": {},
   "outputs": [
    {
     "name": "stdout",
     "output_type": "stream",
     "text": [
      "Total number of users in the data are : 110000\n"
     ]
    }
   ],
   "source": [
    "print('Total number of users in the data are :',song_df.user_id.nunique())"
   ]
  },
  {
   "cell_type": "code",
   "execution_count": 18,
   "metadata": {},
   "outputs": [
    {
     "data": {
      "text/plain": [
       "cddbaf7ec9763081d66df930f910aa4284c889f7    5\n",
       "f7452b9dabac66080bc2ceccdb4d76cf2b78859b    5\n",
       "cd920a50dae23931175a8ebdc97a66534a372184    5\n",
       "fe38a4c79d6463e322f4644ed5f950af5c62fe1d    5\n",
       "f6ed579f4b84f36905e4006c2a84849651a0b381    5\n",
       "Name: user_id, dtype: int64"
      ]
     },
     "execution_count": 18,
     "metadata": {},
     "output_type": "execute_result"
    },
    {
     "name": "stdout",
     "output_type": "stream",
     "text": [
      "**************************************************\n"
     ]
    },
    {
     "data": {
      "text/plain": [
       "7d90be8dfdbde170f036ce8a4b915440137cb11c    53\n",
       "0f8308935bcbb9a1e04ebb7c4d41c037e5f23b90    52\n",
       "d30e18323f15426c3cdc8585252ed34459916f51    52\n",
       "2e424b28bff1f62a2dae22a918f09f9c30c06d1b    52\n",
       "016a24e91a72c159a5048ab1b9b2ba5ce761b526    52\n",
       "Name: user_id, dtype: int64"
      ]
     },
     "execution_count": 18,
     "metadata": {},
     "output_type": "execute_result"
    }
   ],
   "source": [
    "song_df.user_id.value_counts().sort_values(ascending=True).head()\n",
    "print('**************************************************')\n",
    "song_df.user_id.value_counts().sort_values(ascending=False).head()"
   ]
  },
  {
   "cell_type": "code",
   "execution_count": 19,
   "metadata": {},
   "outputs": [],
   "source": [
    "user = pd.DataFrame(song_df.user_id.value_counts())"
   ]
  },
  {
   "cell_type": "code",
   "execution_count": 20,
   "metadata": {},
   "outputs": [
    {
     "data": {
      "text/html": [
       "<div>\n",
       "<style scoped>\n",
       "    .dataframe tbody tr th:only-of-type {\n",
       "        vertical-align: middle;\n",
       "    }\n",
       "\n",
       "    .dataframe tbody tr th {\n",
       "        vertical-align: top;\n",
       "    }\n",
       "\n",
       "    .dataframe thead th {\n",
       "        text-align: right;\n",
       "    }\n",
       "</style>\n",
       "<table border=\"1\" class=\"dataframe\">\n",
       "  <thead>\n",
       "    <tr style=\"text-align: right;\">\n",
       "      <th></th>\n",
       "      <th>user_id</th>\n",
       "    </tr>\n",
       "  </thead>\n",
       "  <tbody>\n",
       "    <tr>\n",
       "      <th>3f1c1e5e92748f40d6d4a195d4712505be82ff48</th>\n",
       "      <td>30</td>\n",
       "    </tr>\n",
       "    <tr>\n",
       "      <th>12478fdccc0ab275755ad17c1900abb657d1c651</th>\n",
       "      <td>30</td>\n",
       "    </tr>\n",
       "    <tr>\n",
       "      <th>612713d34f9f49f5e7b28d6c3bde3acebd08844c</th>\n",
       "      <td>30</td>\n",
       "    </tr>\n",
       "    <tr>\n",
       "      <th>1507a98c2a736133ab4a082c99481b69785bdcf0</th>\n",
       "      <td>30</td>\n",
       "    </tr>\n",
       "    <tr>\n",
       "      <th>4a9b64d89bd54f35c21a393ae57e6fa0ad2e9860</th>\n",
       "      <td>30</td>\n",
       "    </tr>\n",
       "    <tr>\n",
       "      <th>...</th>\n",
       "      <td>...</td>\n",
       "    </tr>\n",
       "    <tr>\n",
       "      <th>25282d2a39d4f5f282940ed00d899dcb646cf5f5</th>\n",
       "      <td>21</td>\n",
       "    </tr>\n",
       "    <tr>\n",
       "      <th>6a21c410422e83fd4dc65a2bf6828891c8fd3dcd</th>\n",
       "      <td>21</td>\n",
       "    </tr>\n",
       "    <tr>\n",
       "      <th>5bf5c2ab1ac4fd70437176470fc835ba45e31ebb</th>\n",
       "      <td>21</td>\n",
       "    </tr>\n",
       "    <tr>\n",
       "      <th>c8fc53ddfd93cb09450a8062d8639fb9923007d2</th>\n",
       "      <td>21</td>\n",
       "    </tr>\n",
       "    <tr>\n",
       "      <th>775377ab5a82ea6844b98b9d761f289f51df27e6</th>\n",
       "      <td>21</td>\n",
       "    </tr>\n",
       "  </tbody>\n",
       "</table>\n",
       "<p>14392 rows × 1 columns</p>\n",
       "</div>"
      ],
      "text/plain": [
       "                                          user_id\n",
       "3f1c1e5e92748f40d6d4a195d4712505be82ff48       30\n",
       "12478fdccc0ab275755ad17c1900abb657d1c651       30\n",
       "612713d34f9f49f5e7b28d6c3bde3acebd08844c       30\n",
       "1507a98c2a736133ab4a082c99481b69785bdcf0       30\n",
       "4a9b64d89bd54f35c21a393ae57e6fa0ad2e9860       30\n",
       "...                                           ...\n",
       "25282d2a39d4f5f282940ed00d899dcb646cf5f5       21\n",
       "6a21c410422e83fd4dc65a2bf6828891c8fd3dcd       21\n",
       "5bf5c2ab1ac4fd70437176470fc835ba45e31ebb       21\n",
       "c8fc53ddfd93cb09450a8062d8639fb9923007d2       21\n",
       "775377ab5a82ea6844b98b9d761f289f51df27e6       21\n",
       "\n",
       "[14392 rows x 1 columns]"
      ]
     },
     "execution_count": 20,
     "metadata": {},
     "output_type": "execute_result"
    }
   ],
   "source": [
    "user[(user.user_id>20) & (user.user_id<31)]"
   ]
  },
  {
   "cell_type": "code",
   "execution_count": 21,
   "metadata": {},
   "outputs": [],
   "source": [
    "user_less_then_5 = list(user[user.user_id <6].index)\n",
    "Between_6_to_10 = list(user[(user.user_id >5)&(user.user_id <11)].index)\n",
    "Between_11_to_20 = list(user[(user.user_id >10)&(user.user_id<21)].index)\n",
    "Between_21_to_30 = list(user[(user.user_id >20)&(user.user_id<31)].index)\n",
    "Between_31_to_40 = list(user[(user.user_id >30)&(user.user_id<41)].index)\n",
    "Between_41_to_50 = list(user[(user.user_id >40)&(user.user_id<51)].index)\n",
    "user_more_then_5 = list(user[user.user_id >50].index)"
   ]
  },
  {
   "cell_type": "code",
   "execution_count": 22,
   "metadata": {},
   "outputs": [],
   "source": [
    "user_data = {'less_then_5': len(user_less_then_5),\\\n",
    "            \"Between_6_to_10\":len(Between_6_to_10),\\\n",
    "            'Between_11_to_20':len(Between_11_to_20),\\\n",
    "            'Between_21_to_30':len(Between_21_to_30),\\\n",
    "            'Between_31_to_40':len(Between_31_to_40),\\\n",
    "            'Between_41_to_50':len(Between_41_to_50),\\\n",
    "            'user_more_then_5':len(user_more_then_5)}"
   ]
  },
  {
   "cell_type": "code",
   "execution_count": 23,
   "metadata": {},
   "outputs": [
    {
     "data": {
      "text/plain": [
       "{'less_then_5': 13097,\n",
       " 'Between_6_to_10': 41221,\n",
       " 'Between_11_to_20': 36179,\n",
       " 'Between_21_to_30': 14392,\n",
       " 'Between_31_to_40': 4525,\n",
       " 'Between_41_to_50': 574,\n",
       " 'user_more_then_5': 12}"
      ]
     },
     "execution_count": 23,
     "metadata": {},
     "output_type": "execute_result"
    }
   ],
   "source": [
    "user_data"
   ]
  },
  {
   "cell_type": "code",
   "execution_count": 24,
   "metadata": {},
   "outputs": [
    {
     "data": {
      "text/plain": [
       "<Figure size 1080x360 with 0 Axes>"
      ]
     },
     "execution_count": 24,
     "metadata": {},
     "output_type": "execute_result"
    },
    {
     "data": {
      "text/plain": [
       "<BarContainer object of 7 artists>"
      ]
     },
     "execution_count": 24,
     "metadata": {},
     "output_type": "execute_result"
    },
    {
     "data": {
      "image/png": "[encoded data removed]",
      "text/plain": [
       "<Figure size 1080x360 with 1 Axes>"
      ]
     },
     "metadata": {
      "needs_background": "light"
     },
     "output_type": "display_data"
    }
   ],
   "source": [
    "plt.figure(figsize=(15,5))\n",
    "keys = user_data. keys()\n",
    "values = user_data. values()\n",
    "plt. bar(keys, values)\n"
   ]
  },
  {
   "cell_type": "markdown",
   "metadata": {},
   "source": [
    "- As we are seeing the people who are listing songs in B/W 6 to 10 are more in the data"
   ]
  },
  {
   "cell_type": "markdown",
   "metadata": {},
   "source": [
    "- From above one we can say that every user is listing minimum of **5** songs\n",
    "- maximum number fo songs listed by single user in the given data is **53** songs"
   ]
  },
  {
   "cell_type": "markdown",
   "metadata": {},
   "source": [
    "### song id"
   ]
  },
  {
   "cell_type": "code",
   "execution_count": 25,
   "metadata": {},
   "outputs": [
    {
     "name": "stdout",
     "output_type": "stream",
     "text": [
      "Total number of unique songs in the data are : 163205\n"
     ]
    }
   ],
   "source": [
    "print('Total number of unique songs in the data are :',song_df.song_id.nunique())"
   ]
  },
  {
   "cell_type": "code",
   "execution_count": 26,
   "metadata": {},
   "outputs": [
    {
     "data": {
      "text/plain": [
       "SOCIDHC12AB0189063    1\n",
       "SOLQWXL12A8C1346D0    1\n",
       "SOIKIMN12B35058499    1\n",
       "SOHSTXE12A8C140E96    1\n",
       "SOLITQP12A6D4FB043    1\n",
       "Name: song_id, dtype: int64"
      ]
     },
     "execution_count": 26,
     "metadata": {},
     "output_type": "execute_result"
    },
    {
     "name": "stdout",
     "output_type": "stream",
     "text": [
      "**************************************************\n"
     ]
    },
    {
     "data": {
      "text/plain": [
       "SOFRQTD12A81C233C0    5043\n",
       "SOAUWYT12A81C206F1    4483\n",
       "SOBONKR12A58A7A7E0    4136\n",
       "SOAXGDH12A8C13F8A1    3780\n",
       "SOSXLTC12AF72A7F54    3672\n",
       "Name: song_id, dtype: int64"
      ]
     },
     "execution_count": 26,
     "metadata": {},
     "output_type": "execute_result"
    }
   ],
   "source": [
    "song_df.song_id.value_counts().sort_values(ascending=True).head()\n",
    "print('**************************************************')\n",
    "song_df.song_id.value_counts().sort_values(ascending=False).head()"
   ]
  },
  {
   "cell_type": "markdown",
   "metadata": {},
   "source": [
    "- **song id SOFRQTD12A81C233C0 is the highest number of listed song in the data.**\n",
    "- **There are some songs that are just listned once by user**"
   ]
  },
  {
   "cell_type": "code",
   "execution_count": 27,
   "metadata": {},
   "outputs": [
    {
     "data": {
      "text/plain": [
       "64746"
      ]
     },
     "execution_count": 27,
     "metadata": {},
     "output_type": "execute_result"
    }
   ],
   "source": [
    "(song_df.song_id.value_counts()==1).sum()"
   ]
  },
  {
   "cell_type": "code",
   "execution_count": null,
   "metadata": {},
   "outputs": [],
   "source": []
  },
  {
   "cell_type": "code",
   "execution_count": 28,
   "metadata": {},
   "outputs": [],
   "source": [
    "song_info = pd.DataFrame(song_df.song_id.value_counts())"
   ]
  },
  {
   "cell_type": "code",
   "execution_count": 29,
   "metadata": {},
   "outputs": [
    {
     "data": {
      "text/html": [
       "<div>\n",
       "<style scoped>\n",
       "    .dataframe tbody tr th:only-of-type {\n",
       "        vertical-align: middle;\n",
       "    }\n",
       "\n",
       "    .dataframe tbody tr th {\n",
       "        vertical-align: top;\n",
       "    }\n",
       "\n",
       "    .dataframe thead th {\n",
       "        text-align: right;\n",
       "    }\n",
       "</style>\n",
       "<table border=\"1\" class=\"dataframe\">\n",
       "  <thead>\n",
       "    <tr style=\"text-align: right;\">\n",
       "      <th></th>\n",
       "      <th>song_id</th>\n",
       "    </tr>\n",
       "  </thead>\n",
       "  <tbody>\n",
       "    <tr>\n",
       "      <th>SOFRQTD12A81C233C0</th>\n",
       "      <td>5043</td>\n",
       "    </tr>\n",
       "    <tr>\n",
       "      <th>SOAUWYT12A81C206F1</th>\n",
       "      <td>4483</td>\n",
       "    </tr>\n",
       "    <tr>\n",
       "      <th>SOBONKR12A58A7A7E0</th>\n",
       "      <td>4136</td>\n",
       "    </tr>\n",
       "    <tr>\n",
       "      <th>SOAXGDH12A8C13F8A1</th>\n",
       "      <td>3780</td>\n",
       "    </tr>\n",
       "    <tr>\n",
       "      <th>SOSXLTC12AF72A7F54</th>\n",
       "      <td>3672</td>\n",
       "    </tr>\n",
       "  </tbody>\n",
       "</table>\n",
       "</div>"
      ],
      "text/plain": [
       "                    song_id\n",
       "SOFRQTD12A81C233C0     5043\n",
       "SOAUWYT12A81C206F1     4483\n",
       "SOBONKR12A58A7A7E0     4136\n",
       "SOAXGDH12A8C13F8A1     3780\n",
       "SOSXLTC12AF72A7F54     3672"
      ]
     },
     "execution_count": 29,
     "metadata": {},
     "output_type": "execute_result"
    }
   ],
   "source": [
    "song_info.head()"
   ]
  },
  {
   "cell_type": "code",
   "execution_count": 30,
   "metadata": {},
   "outputs": [
    {
     "data": {
      "text/html": [
       "<div>\n",
       "<style scoped>\n",
       "    .dataframe tbody tr th:only-of-type {\n",
       "        vertical-align: middle;\n",
       "    }\n",
       "\n",
       "    .dataframe tbody tr th {\n",
       "        vertical-align: top;\n",
       "    }\n",
       "\n",
       "    .dataframe thead th {\n",
       "        text-align: right;\n",
       "    }\n",
       "</style>\n",
       "<table border=\"1\" class=\"dataframe\">\n",
       "  <thead>\n",
       "    <tr style=\"text-align: right;\">\n",
       "      <th></th>\n",
       "      <th>song_id</th>\n",
       "    </tr>\n",
       "  </thead>\n",
       "  <tbody>\n",
       "    <tr>\n",
       "      <th>SOMPVIV12AF72A3C84</th>\n",
       "      <td>1</td>\n",
       "    </tr>\n",
       "    <tr>\n",
       "      <th>SOJAUET12AB018A7E8</th>\n",
       "      <td>1</td>\n",
       "    </tr>\n",
       "    <tr>\n",
       "      <th>SOJHEVD12A6D4F7623</th>\n",
       "      <td>1</td>\n",
       "    </tr>\n",
       "    <tr>\n",
       "      <th>SOPRFMS12A6D4F867D</th>\n",
       "      <td>1</td>\n",
       "    </tr>\n",
       "    <tr>\n",
       "      <th>SOGCUIP12A6D4FA6F7</th>\n",
       "      <td>1</td>\n",
       "    </tr>\n",
       "    <tr>\n",
       "      <th>...</th>\n",
       "      <td>...</td>\n",
       "    </tr>\n",
       "    <tr>\n",
       "      <th>SOADWVI12A6D4F7DB6</th>\n",
       "      <td>1</td>\n",
       "    </tr>\n",
       "    <tr>\n",
       "      <th>SOQRHTD12A6D4FBEBE</th>\n",
       "      <td>1</td>\n",
       "    </tr>\n",
       "    <tr>\n",
       "      <th>SOSZOOH12A8C13A4EA</th>\n",
       "      <td>1</td>\n",
       "    </tr>\n",
       "    <tr>\n",
       "      <th>SOMUEUH12AB0181EB7</th>\n",
       "      <td>1</td>\n",
       "    </tr>\n",
       "    <tr>\n",
       "      <th>SOCIDHC12AB0189063</th>\n",
       "      <td>1</td>\n",
       "    </tr>\n",
       "  </tbody>\n",
       "</table>\n",
       "<p>64746 rows × 1 columns</p>\n",
       "</div>"
      ],
      "text/plain": [
       "                    song_id\n",
       "SOMPVIV12AF72A3C84        1\n",
       "SOJAUET12AB018A7E8        1\n",
       "SOJHEVD12A6D4F7623        1\n",
       "SOPRFMS12A6D4F867D        1\n",
       "SOGCUIP12A6D4FA6F7        1\n",
       "...                     ...\n",
       "SOADWVI12A6D4F7DB6        1\n",
       "SOQRHTD12A6D4FBEBE        1\n",
       "SOSZOOH12A8C13A4EA        1\n",
       "SOMUEUH12AB0181EB7        1\n",
       "SOCIDHC12AB0189063        1\n",
       "\n",
       "[64746 rows x 1 columns]"
      ]
     },
     "execution_count": 30,
     "metadata": {},
     "output_type": "execute_result"
    }
   ],
   "source": [
    "song_info[song_info.song_id==1]"
   ]
  },
  {
   "cell_type": "code",
   "execution_count": 31,
   "metadata": {},
   "outputs": [
    {
     "data": {
      "text/plain": [
       "39.67157868937839"
      ]
     },
     "execution_count": 31,
     "metadata": {},
     "output_type": "execute_result"
    }
   ],
   "source": [
    "(song_info[song_info.song_id==1].shape[0]/song_info.shape[0])*100"
   ]
  },
  {
   "cell_type": "markdown",
   "metadata": {},
   "source": [
    "- **In the given data there are 64746 songs that are just once by the user in the entire data. This value is nearly 40% in the total songs.**"
   ]
  },
  {
   "cell_type": "code",
   "execution_count": 32,
   "metadata": {},
   "outputs": [
    {
     "data": {
      "text/plain": [
       "Index(['SOFRQTD12A81C233C0', 'SOAUWYT12A81C206F1', 'SOBONKR12A58A7A7E0',\n",
       "       'SOAXGDH12A8C13F8A1', 'SOSXLTC12AF72A7F54', 'SONYKOW12AB01849C9',\n",
       "       'SOEGIYH12A6D4FC0E3', 'SODJWHY12A8C142CCE', 'SOLFXKT12AB017E3E0',\n",
       "       'SOFLJQZ12A6D4FADA6', 'SOUSMXX12AB0185C24', 'SOUVTSM12AC468F6A7',\n",
       "       'SOHTKMO12AB01843B0', 'SOTWNDJ12A8C143984', 'SOWCKVR12A8C142411',\n",
       "       'SOBOUPA12A6D4F81F1', 'SOOFYTN12A6D4F9B35', 'SOPUCYA12A8C13A694',\n",
       "       'SOVDSJC12A58A7A271', 'SOPPROJ12AB0184E18', 'SOKLRPJ12A8C13C3FE',\n",
       "       'SOPTLQL12AB018D56F', 'SOUFTBI12AB0183F65', 'SODGVGW12AC9075A8D',\n",
       "       'SOBOAFP12A8C131F36', 'SOSCIZP12AB0181D2F', 'SOCVTLJ12A6310F0FD',\n",
       "       'SOLRGVL12A8C143BC3', 'SOFKABN12A8AE476C6', 'SOXFPND12AB017C9D1',\n",
       "       'SOKUPAO12AB018D576', 'SOCKSGZ12A58A7CA4B', 'SOPXKYD12A6D4FA876',\n",
       "       'SOUNZHU12A8AE47481', 'SOTWSXL12A8C143349', 'SOTCMDJ12A6D4F8528',\n",
       "       'SOPQLBY12A6310E992', 'SOSZJFV12AB01878CB', 'SOULTKQ12AB018A183',\n",
       "       'SOGPBAW12A6D4F9F22', 'SOUFPNI12A8C142D19', 'SOADJQJ12A8C141D38',\n",
       "       'SOWEHOM12A6BD4E09E', 'SOVWADY12AB0189C63', 'SOANQFY12AB0183239',\n",
       "       'SOLLNTU12A6701CFDC', 'SONHWUN12AC468C014', 'SONQCXC12A6D4F6A37',\n",
       "       'SOWEJXA12A6701C574', 'SONIQRE12AF72A2B02'],\n",
       "      dtype='object')"
      ]
     },
     "execution_count": 32,
     "metadata": {},
     "output_type": "execute_result"
    }
   ],
   "source": [
    "song_info[song_info.song_id>1000].index"
   ]
  },
  {
   "cell_type": "code",
   "execution_count": 33,
   "metadata": {},
   "outputs": [],
   "source": [
    "song_listned_morethen_1000 = list(song_info[song_info.song_id>999].index)\n",
    "song_between_500_to_1000 = list(song_info[(song_info.song_id<1000)&(song_info.song_id>500)].index)\n",
    "song_between_500_to_100= list(song_info[(song_info.song_id<501)&(song_info.song_id>101)].index)\n",
    "song_between_100_to_50 = list(song_info[(song_info.song_id<101)&(song_info.song_id>50)].index)\n",
    "song_between_50_to_10 = list(song_info[(song_info.song_id<51)&(song_info.song_id>10)].index)\n",
    "song_between_10_to_5 = list(song_info[(song_info.song_id<11)&(song_info.song_id>5)].index)\n",
    "song_less_then_5 = list(song_info[song_info.song_id<6].index)"
   ]
  },
  {
   "cell_type": "code",
   "execution_count": 34,
   "metadata": {},
   "outputs": [],
   "source": [
    "song_data = {'song_listned_morethen_1000': len(song_listned_morethen_1000),\\\n",
    "            \"song_between_500_to_1000\":len(song_between_500_to_1000),\\\n",
    "            'song_between_500_to_100':len(song_between_500_to_100),\\\n",
    "            'song_between_100_to_50':len(song_between_100_to_50),\\\n",
    "            'song_between_50_to_10':len(song_between_50_to_10),\\\n",
    "            'song_between_10_to_5':len(song_between_10_to_5),\\\n",
    "            'song_less_then_5':len(song_less_then_5)}"
   ]
  },
  {
   "cell_type": "code",
   "execution_count": 35,
   "metadata": {},
   "outputs": [
    {
     "data": {
      "text/plain": [
       "{'song_listned_morethen_1000': 51,\n",
       " 'song_between_500_to_1000': 108,\n",
       " 'song_between_500_to_100': 1567,\n",
       " 'song_between_100_to_50': 2919,\n",
       " 'song_between_50_to_10': 19964,\n",
       " 'song_between_10_to_5': 16993,\n",
       " 'song_less_then_5': 121571}"
      ]
     },
     "execution_count": 35,
     "metadata": {},
     "output_type": "execute_result"
    }
   ],
   "source": [
    "song_data"
   ]
  },
  {
   "cell_type": "code",
   "execution_count": 36,
   "metadata": {},
   "outputs": [
    {
     "data": {
      "text/plain": [
       "<Figure size 1440x360 with 0 Axes>"
      ]
     },
     "execution_count": 36,
     "metadata": {},
     "output_type": "execute_result"
    },
    {
     "data": {
      "text/plain": [
       "<BarContainer object of 7 artists>"
      ]
     },
     "execution_count": 36,
     "metadata": {},
     "output_type": "execute_result"
    },
    {
     "data": {
      "image/png": "[encoded data removed]",
      "text/plain": [
       "<Figure size 1440x360 with 1 Axes>"
      ]
     },
     "metadata": {
      "needs_background": "light"
     },
     "output_type": "display_data"
    }
   ],
   "source": [
    "plt.figure(figsize=(20,5))\n",
    "keys = song_data. keys()\n",
    "values = song_data. values()\n",
    "plt. bar(keys, values)\n"
   ]
  },
  {
   "cell_type": "markdown",
   "metadata": {},
   "source": [
    "### Freq  \n",
    "\n",
    "- Number of times user listned single song"
   ]
  },
  {
   "cell_type": "code",
   "execution_count": 37,
   "metadata": {},
   "outputs": [
    {
     "data": {
      "text/plain": [
       "count    1.450932e+06\n",
       "mean     3.187151e+00\n",
       "std      7.051666e+00\n",
       "min      1.000000e+00\n",
       "25%      1.000000e+00\n",
       "50%      1.000000e+00\n",
       "75%      3.000000e+00\n",
       "max      9.230000e+02\n",
       "Name: freq, dtype: float64"
      ]
     },
     "execution_count": 37,
     "metadata": {},
     "output_type": "execute_result"
    }
   ],
   "source": [
    "song_df.freq.describe()                  # To get the basic staistics"
   ]
  },
  {
   "cell_type": "code",
   "execution_count": 38,
   "metadata": {},
   "outputs": [
    {
     "data": {
      "text/html": [
       "<div>\n",
       "<style scoped>\n",
       "    .dataframe tbody tr th:only-of-type {\n",
       "        vertical-align: middle;\n",
       "    }\n",
       "\n",
       "    .dataframe tbody tr th {\n",
       "        vertical-align: top;\n",
       "    }\n",
       "\n",
       "    .dataframe thead th {\n",
       "        text-align: right;\n",
       "    }\n",
       "</style>\n",
       "<table border=\"1\" class=\"dataframe\">\n",
       "  <thead>\n",
       "    <tr style=\"text-align: right;\">\n",
       "      <th></th>\n",
       "      <th>user_id</th>\n",
       "      <th>song_id</th>\n",
       "      <th>freq</th>\n",
       "      <th>artist_name</th>\n",
       "      <th>title</th>\n",
       "    </tr>\n",
       "  </thead>\n",
       "  <tbody>\n",
       "    <tr>\n",
       "      <th>1449167</th>\n",
       "      <td>22bb29714137fa47083963c30e1a26f1bf517e7d</td>\n",
       "      <td>SOXTUWG12AB018A2E2</td>\n",
       "      <td>923</td>\n",
       "      <td>Kilgore</td>\n",
       "      <td>Drop The Hammer (Album Version)</td>\n",
       "    </tr>\n",
       "  </tbody>\n",
       "</table>\n",
       "</div>"
      ],
      "text/plain": [
       "                                          user_id             song_id  freq  \\\n",
       "1449167  22bb29714137fa47083963c30e1a26f1bf517e7d  SOXTUWG12AB018A2E2   923   \n",
       "\n",
       "        artist_name                            title  \n",
       "1449167     Kilgore  Drop The Hammer (Album Version)  "
      ]
     },
     "execution_count": 38,
     "metadata": {},
     "output_type": "execute_result"
    }
   ],
   "source": [
    "song_df[song_df.freq ==923]"
   ]
  },
  {
   "cell_type": "markdown",
   "metadata": {},
   "source": [
    "- maximum number of times a song is listned by user is 923\n",
    "  - user id is **22bb29714137fa47083963c30e1a26f1bf517e7d**\n",
    "  - song id is **SOXTUWG12AB018A2E2**"
   ]
  },
  {
   "cell_type": "code",
   "execution_count": 39,
   "metadata": {},
   "outputs": [
    {
     "data": {
      "text/plain": [
       "<AxesSubplot:xlabel='freq', ylabel='Density'>"
      ]
     },
     "execution_count": 39,
     "metadata": {},
     "output_type": "execute_result"
    },
    {
     "data": {
      "image/png": "[encoded data removed]",
      "text/plain": [
       "<Figure size 432x288 with 1 Axes>"
      ]
     },
     "metadata": {
      "needs_background": "light"
     },
     "output_type": "display_data"
    }
   ],
   "source": [
    "sns.distplot(song_df.freq,)"
   ]
  },
  {
   "cell_type": "code",
   "execution_count": 40,
   "metadata": {},
   "outputs": [
    {
     "data": {
      "text/plain": [
       "<Figure size 3600x288 with 0 Axes>"
      ]
     },
     "execution_count": 40,
     "metadata": {},
     "output_type": "execute_result"
    },
    {
     "data": {
      "text/plain": [
       "<AxesSubplot:>"
      ]
     },
     "execution_count": 40,
     "metadata": {},
     "output_type": "execute_result"
    },
    {
     "data": {
      "image/png": "[encoded data removed]",
      "text/plain": [
       "<Figure size 3600x288 with 1 Axes>"
      ]
     },
     "metadata": {
      "needs_background": "light"
     },
     "output_type": "display_data"
    }
   ],
   "source": [
    "plt.figure(figsize=(50,4))\n",
    "\n",
    "song_df.freq.value_counts().plot(kind='bar')"
   ]
  },
  {
   "cell_type": "code",
   "execution_count": 41,
   "metadata": {},
   "outputs": [
    {
     "data": {
      "text/plain": [
       "<AxesSubplot:>"
      ]
     },
     "execution_count": 41,
     "metadata": {},
     "output_type": "execute_result"
    },
    {
     "data": {
      "image/png": "[encoded data removed]",
      "text/plain": [
       "<Figure size 432x288 with 1 Axes>"
      ]
     },
     "metadata": {
      "needs_background": "light"
     },
     "output_type": "display_data"
    }
   ],
   "source": [
    "song_df.freq.hist()"
   ]
  },
  {
   "cell_type": "markdown",
   "metadata": {},
   "source": [
    "- From the two plots we can see that the most of the songs listned in B/W 1-50"
   ]
  },
  {
   "cell_type": "markdown",
   "metadata": {},
   "source": [
    "**Let's look in to the outliers**"
   ]
  },
  {
   "cell_type": "code",
   "execution_count": 42,
   "metadata": {},
   "outputs": [],
   "source": [
    "def Upper_lower(col):\n",
    "    Q1= np.percentile(col,25)\n",
    "    Q3= np.percentile(col,75)\n",
    "    IQR = Q3-Q1\n",
    "    Upper = Q3+1.5*IQR\n",
    "    Lower = Q1-1.5*IQR\n",
    "    return(Upper,Lower)\n",
    "    "
   ]
  },
  {
   "cell_type": "code",
   "execution_count": 43,
   "metadata": {},
   "outputs": [
    {
     "data": {
      "text/plain": [
       "(6.0, -2.0)"
      ]
     },
     "execution_count": 43,
     "metadata": {},
     "output_type": "execute_result"
    }
   ],
   "source": [
    "Upper,Lower = Upper_lower(song_df.freq)\n",
    "Upper,Lower"
   ]
  },
  {
   "cell_type": "code",
   "execution_count": 44,
   "metadata": {},
   "outputs": [
    {
     "data": {
      "text/html": [
       "<div>\n",
       "<style scoped>\n",
       "    .dataframe tbody tr th:only-of-type {\n",
       "        vertical-align: middle;\n",
       "    }\n",
       "\n",
       "    .dataframe tbody tr th {\n",
       "        vertical-align: top;\n",
       "    }\n",
       "\n",
       "    .dataframe thead th {\n",
       "        text-align: right;\n",
       "    }\n",
       "</style>\n",
       "<table border=\"1\" class=\"dataframe\">\n",
       "  <thead>\n",
       "    <tr style=\"text-align: right;\">\n",
       "      <th></th>\n",
       "      <th>user_id</th>\n",
       "      <th>song_id</th>\n",
       "      <th>freq</th>\n",
       "      <th>artist_name</th>\n",
       "      <th>title</th>\n",
       "    </tr>\n",
       "  </thead>\n",
       "  <tbody>\n",
       "    <tr>\n",
       "      <th>28</th>\n",
       "      <td>9be82340a8b5ef32357fe5af957ccd54736ece95</td>\n",
       "      <td>SOHGGAH12A58A795BE</td>\n",
       "      <td>15</td>\n",
       "      <td>Slum Village</td>\n",
       "      <td>Climax</td>\n",
       "    </tr>\n",
       "    <tr>\n",
       "      <th>55</th>\n",
       "      <td>91b8fac7dc5e03f6cfaf6e2aa7171f14a8354d62</td>\n",
       "      <td>SODBXDO12A6D4FCD4F</td>\n",
       "      <td>14</td>\n",
       "      <td>Dario Marianelli</td>\n",
       "      <td>Love Letters</td>\n",
       "    </tr>\n",
       "    <tr>\n",
       "      <th>62</th>\n",
       "      <td>91b8fac7dc5e03f6cfaf6e2aa7171f14a8354d62</td>\n",
       "      <td>SOUDGEV12A8C135FC9</td>\n",
       "      <td>10</td>\n",
       "      <td>Counting Crows / Vanessa Carlton</td>\n",
       "      <td>Big Yellow Taxi</td>\n",
       "    </tr>\n",
       "    <tr>\n",
       "      <th>86</th>\n",
       "      <td>0f40e074aab2c5f47b7ddc2277fb0295b5b3a058</td>\n",
       "      <td>SORIWEH12A8C13D4A6</td>\n",
       "      <td>54</td>\n",
       "      <td>Was (Not Was)</td>\n",
       "      <td>The Sky's Ablaze</td>\n",
       "    </tr>\n",
       "    <tr>\n",
       "      <th>119</th>\n",
       "      <td>e9dc6b4c2b22aa6dc8260e1963021567728055b2</td>\n",
       "      <td>SOYOMRA12A6D4F9975</td>\n",
       "      <td>11</td>\n",
       "      <td>Phil Collins</td>\n",
       "      <td>You Can't Hurry Love</td>\n",
       "    </tr>\n",
       "    <tr>\n",
       "      <th>...</th>\n",
       "      <td>...</td>\n",
       "      <td>...</td>\n",
       "      <td>...</td>\n",
       "      <td>...</td>\n",
       "      <td>...</td>\n",
       "    </tr>\n",
       "    <tr>\n",
       "      <th>1450855</th>\n",
       "      <td>07f2f354a2a4390624e0d04e4a555ef67e98f673</td>\n",
       "      <td>SOECSYA12A8C134C34</td>\n",
       "      <td>41</td>\n",
       "      <td>Catupecu Machu</td>\n",
       "      <td>Origen Extremo</td>\n",
       "    </tr>\n",
       "    <tr>\n",
       "      <th>1450856</th>\n",
       "      <td>07f2f354a2a4390624e0d04e4a555ef67e98f673</td>\n",
       "      <td>SODPPBT12A8C141D90</td>\n",
       "      <td>9</td>\n",
       "      <td>Kings Of Leon</td>\n",
       "      <td>Closer</td>\n",
       "    </tr>\n",
       "    <tr>\n",
       "      <th>1450859</th>\n",
       "      <td>07f2f354a2a4390624e0d04e4a555ef67e98f673</td>\n",
       "      <td>SOGMNZG12AB0182DAD</td>\n",
       "      <td>24</td>\n",
       "      <td>Veto</td>\n",
       "      <td>You Are A Knife</td>\n",
       "    </tr>\n",
       "    <tr>\n",
       "      <th>1450870</th>\n",
       "      <td>07f2f354a2a4390624e0d04e4a555ef67e98f673</td>\n",
       "      <td>SONGIXY12A58A7BB42</td>\n",
       "      <td>10</td>\n",
       "      <td>LCD Soundsystem</td>\n",
       "      <td>Someone Great</td>\n",
       "    </tr>\n",
       "    <tr>\n",
       "      <th>1450890</th>\n",
       "      <td>fc072bde2043756ea30ff07e4a5311e34825b4df</td>\n",
       "      <td>SOCFUTD12A6310D896</td>\n",
       "      <td>9</td>\n",
       "      <td>The Rolling Stones</td>\n",
       "      <td>Almost Hear You Sigh (1994 Digital Remaster)</td>\n",
       "    </tr>\n",
       "  </tbody>\n",
       "</table>\n",
       "<p>141757 rows × 5 columns</p>\n",
       "</div>"
      ],
      "text/plain": [
       "                                          user_id             song_id  freq  \\\n",
       "28       9be82340a8b5ef32357fe5af957ccd54736ece95  SOHGGAH12A58A795BE    15   \n",
       "55       91b8fac7dc5e03f6cfaf6e2aa7171f14a8354d62  SODBXDO12A6D4FCD4F    14   \n",
       "62       91b8fac7dc5e03f6cfaf6e2aa7171f14a8354d62  SOUDGEV12A8C135FC9    10   \n",
       "86       0f40e074aab2c5f47b7ddc2277fb0295b5b3a058  SORIWEH12A8C13D4A6    54   \n",
       "119      e9dc6b4c2b22aa6dc8260e1963021567728055b2  SOYOMRA12A6D4F9975    11   \n",
       "...                                           ...                 ...   ...   \n",
       "1450855  07f2f354a2a4390624e0d04e4a555ef67e98f673  SOECSYA12A8C134C34    41   \n",
       "1450856  07f2f354a2a4390624e0d04e4a555ef67e98f673  SODPPBT12A8C141D90     9   \n",
       "1450859  07f2f354a2a4390624e0d04e4a555ef67e98f673  SOGMNZG12AB0182DAD    24   \n",
       "1450870  07f2f354a2a4390624e0d04e4a555ef67e98f673  SONGIXY12A58A7BB42    10   \n",
       "1450890  fc072bde2043756ea30ff07e4a5311e34825b4df  SOCFUTD12A6310D896     9   \n",
       "\n",
       "                              artist_name  \\\n",
       "28                           Slum Village   \n",
       "55                       Dario Marianelli   \n",
       "62       Counting Crows / Vanessa Carlton   \n",
       "86                          Was (Not Was)   \n",
       "119                          Phil Collins   \n",
       "...                                   ...   \n",
       "1450855                    Catupecu Machu   \n",
       "1450856                     Kings Of Leon   \n",
       "1450859                              Veto   \n",
       "1450870                   LCD Soundsystem   \n",
       "1450890                The Rolling Stones   \n",
       "\n",
       "                                                title  \n",
       "28                                             Climax  \n",
       "55                                       Love Letters  \n",
       "62                                    Big Yellow Taxi  \n",
       "86                                   The Sky's Ablaze  \n",
       "119                              You Can't Hurry Love  \n",
       "...                                               ...  \n",
       "1450855                                Origen Extremo  \n",
       "1450856                                        Closer  \n",
       "1450859                               You Are A Knife  \n",
       "1450870                                 Someone Great  \n",
       "1450890  Almost Hear You Sigh (1994 Digital Remaster)  \n",
       "\n",
       "[141757 rows x 5 columns]"
      ]
     },
     "execution_count": 44,
     "metadata": {},
     "output_type": "execute_result"
    }
   ],
   "source": [
    "song_df[(song_df.freq<Lower)|(song_df.freq>Upper)]"
   ]
  },
  {
   "cell_type": "code",
   "execution_count": 45,
   "metadata": {},
   "outputs": [
    {
     "data": {
      "text/plain": [
       "9.770065034060865"
      ]
     },
     "execution_count": 45,
     "metadata": {},
     "output_type": "execute_result"
    }
   ],
   "source": [
    "(song_df[(song_df.freq<Lower)|(song_df.freq>Upper)].shape[0]/song_df.shape[0])*100"
   ]
  },
  {
   "cell_type": "code",
   "execution_count": 46,
   "metadata": {},
   "outputs": [
    {
     "data": {
      "text/plain": [
       "<AxesSubplot:xlabel='freq'>"
      ]
     },
     "execution_count": 46,
     "metadata": {},
     "output_type": "execute_result"
    },
    {
     "data": {
      "image/png": "[encoded data removed]",
      "text/plain": [
       "<Figure size 432x288 with 1 Axes>"
      ]
     },
     "metadata": {
      "needs_background": "light"
     },
     "output_type": "display_data"
    }
   ],
   "source": [
    "sns.boxplot(song_df.freq)"
   ]
  },
  {
   "cell_type": "markdown",
   "metadata": {},
   "source": [
    "### Artist_name"
   ]
  },
  {
   "cell_type": "code",
   "execution_count": 47,
   "metadata": {},
   "outputs": [
    {
     "data": {
      "text/html": [
       "<div>\n",
       "<style scoped>\n",
       "    .dataframe tbody tr th:only-of-type {\n",
       "        vertical-align: middle;\n",
       "    }\n",
       "\n",
       "    .dataframe tbody tr th {\n",
       "        vertical-align: top;\n",
       "    }\n",
       "\n",
       "    .dataframe thead th {\n",
       "        text-align: right;\n",
       "    }\n",
       "</style>\n",
       "<table border=\"1\" class=\"dataframe\">\n",
       "  <thead>\n",
       "    <tr style=\"text-align: right;\">\n",
       "      <th></th>\n",
       "      <th>artist_name</th>\n",
       "    </tr>\n",
       "  </thead>\n",
       "  <tbody>\n",
       "    <tr>\n",
       "      <th>Coldplay</th>\n",
       "      <td>12279</td>\n",
       "    </tr>\n",
       "    <tr>\n",
       "      <th>Kings Of Leon</th>\n",
       "      <td>8514</td>\n",
       "    </tr>\n",
       "    <tr>\n",
       "      <th>Florence + The Machine</th>\n",
       "      <td>8213</td>\n",
       "    </tr>\n",
       "    <tr>\n",
       "      <th>Justin Bieber</th>\n",
       "      <td>7669</td>\n",
       "    </tr>\n",
       "    <tr>\n",
       "      <th>Jack Johnson</th>\n",
       "      <td>6784</td>\n",
       "    </tr>\n",
       "    <tr>\n",
       "      <th>...</th>\n",
       "      <td>...</td>\n",
       "    </tr>\n",
       "    <tr>\n",
       "      <th>Dandy Livingstone</th>\n",
       "      <td>1</td>\n",
       "    </tr>\n",
       "    <tr>\n",
       "      <th>Derrick Harriott / The Crystalites</th>\n",
       "      <td>1</td>\n",
       "    </tr>\n",
       "    <tr>\n",
       "      <th>The King Cole Trio</th>\n",
       "      <td>1</td>\n",
       "    </tr>\n",
       "    <tr>\n",
       "      <th>Surgery</th>\n",
       "      <td>1</td>\n",
       "    </tr>\n",
       "    <tr>\n",
       "      <th>Rufus Featuring Chaka Khan</th>\n",
       "      <td>1</td>\n",
       "    </tr>\n",
       "  </tbody>\n",
       "</table>\n",
       "<p>28360 rows × 1 columns</p>\n",
       "</div>"
      ],
      "text/plain": [
       "                                    artist_name\n",
       "Coldplay                                  12279\n",
       "Kings Of Leon                              8514\n",
       "Florence + The Machine                     8213\n",
       "Justin Bieber                              7669\n",
       "Jack Johnson                               6784\n",
       "...                                         ...\n",
       "Dandy Livingstone                             1\n",
       "Derrick Harriott / The Crystalites            1\n",
       "The King Cole Trio                            1\n",
       "Surgery                                       1\n",
       "Rufus Featuring Chaka Khan                    1\n",
       "\n",
       "[28360 rows x 1 columns]"
      ]
     },
     "execution_count": 47,
     "metadata": {},
     "output_type": "execute_result"
    }
   ],
   "source": [
    "artist  = pd.DataFrame(song_df.artist_name.value_counts())\n",
    "artist"
   ]
  },
  {
   "cell_type": "markdown",
   "metadata": {},
   "source": [
    "- **There are  28360 artists in the given data**"
   ]
  },
  {
   "cell_type": "code",
   "execution_count": 48,
   "metadata": {},
   "outputs": [
    {
     "data": {
      "text/plain": [
       "Index(['Coldplay', 'Kings Of Leon', 'Florence + The Machine', 'Justin Bieber',\n",
       "       'Jack Johnson', 'Train', 'The Black Keys', 'Eminem', 'OneRepublic',\n",
       "       'Muse'],\n",
       "      dtype='object')"
      ]
     },
     "execution_count": 48,
     "metadata": {},
     "output_type": "execute_result"
    }
   ],
   "source": [
    "# The top 10 populer artists in the given data are \n",
    "\n",
    "artist.index[:10]"
   ]
  },
  {
   "cell_type": "code",
   "execution_count": 49,
   "metadata": {},
   "outputs": [
    {
     "data": {
      "text/plain": [
       "<AxesSubplot:>"
      ]
     },
     "execution_count": 49,
     "metadata": {},
     "output_type": "execute_result"
    },
    {
     "data": {
      "image/png": "[encoded data removed]",
      "text/plain": [
       "<Figure size 432x288 with 1 Axes>"
      ]
     },
     "metadata": {
      "needs_background": "light"
     },
     "output_type": "display_data"
    }
   ],
   "source": [
    "artist[:10].plot(kind='bar')"
   ]
  },
  {
   "cell_type": "code",
   "execution_count": 50,
   "metadata": {},
   "outputs": [
    {
     "data": {
      "text/html": [
       "<div>\n",
       "<style scoped>\n",
       "    .dataframe tbody tr th:only-of-type {\n",
       "        vertical-align: middle;\n",
       "    }\n",
       "\n",
       "    .dataframe tbody tr th {\n",
       "        vertical-align: top;\n",
       "    }\n",
       "\n",
       "    .dataframe thead th {\n",
       "        text-align: right;\n",
       "    }\n",
       "</style>\n",
       "<table border=\"1\" class=\"dataframe\">\n",
       "  <thead>\n",
       "    <tr style=\"text-align: right;\">\n",
       "      <th></th>\n",
       "      <th>artist_name</th>\n",
       "    </tr>\n",
       "  </thead>\n",
       "  <tbody>\n",
       "    <tr>\n",
       "      <th>Barkmarket</th>\n",
       "      <td>1</td>\n",
       "    </tr>\n",
       "    <tr>\n",
       "      <th>Romain Virgo</th>\n",
       "      <td>1</td>\n",
       "    </tr>\n",
       "    <tr>\n",
       "      <th>Wynona Carr</th>\n",
       "      <td>1</td>\n",
       "    </tr>\n",
       "    <tr>\n",
       "      <th>Eugene Francis Jnr</th>\n",
       "      <td>1</td>\n",
       "    </tr>\n",
       "    <tr>\n",
       "      <th>Angie Stone / Diamond Stone</th>\n",
       "      <td>1</td>\n",
       "    </tr>\n",
       "    <tr>\n",
       "      <th>...</th>\n",
       "      <td>...</td>\n",
       "    </tr>\n",
       "    <tr>\n",
       "      <th>Dandy Livingstone</th>\n",
       "      <td>1</td>\n",
       "    </tr>\n",
       "    <tr>\n",
       "      <th>Derrick Harriott / The Crystalites</th>\n",
       "      <td>1</td>\n",
       "    </tr>\n",
       "    <tr>\n",
       "      <th>The King Cole Trio</th>\n",
       "      <td>1</td>\n",
       "    </tr>\n",
       "    <tr>\n",
       "      <th>Surgery</th>\n",
       "      <td>1</td>\n",
       "    </tr>\n",
       "    <tr>\n",
       "      <th>Rufus Featuring Chaka Khan</th>\n",
       "      <td>1</td>\n",
       "    </tr>\n",
       "  </tbody>\n",
       "</table>\n",
       "<p>5497 rows × 1 columns</p>\n",
       "</div>"
      ],
      "text/plain": [
       "                                    artist_name\n",
       "Barkmarket                                    1\n",
       "Romain Virgo                                  1\n",
       "Wynona Carr                                   1\n",
       "Eugene Francis Jnr                            1\n",
       "Angie Stone / Diamond Stone                   1\n",
       "...                                         ...\n",
       "Dandy Livingstone                             1\n",
       "Derrick Harriott / The Crystalites            1\n",
       "The King Cole Trio                            1\n",
       "Surgery                                       1\n",
       "Rufus Featuring Chaka Khan                    1\n",
       "\n",
       "[5497 rows x 1 columns]"
      ]
     },
     "execution_count": 50,
     "metadata": {},
     "output_type": "execute_result"
    }
   ],
   "source": [
    "artist[artist.artist_name ==1]"
   ]
  },
  {
   "cell_type": "code",
   "execution_count": 51,
   "metadata": {},
   "outputs": [
    {
     "data": {
      "text/plain": [
       "0.29862482369534554"
      ]
     },
     "execution_count": 51,
     "metadata": {},
     "output_type": "execute_result"
    }
   ],
   "source": [
    "artist[artist.artist_name <3].shape[0]/artist.shape[0]"
   ]
  },
  {
   "cell_type": "markdown",
   "metadata": {},
   "source": [
    "- There are few artists who are just occoured once or twise in the given data (**nearly 30%**)\n",
    "\n",
    "- As we no the title and song id is representing the same "
   ]
  },
  {
   "cell_type": "code",
   "execution_count": 52,
   "metadata": {},
   "outputs": [],
   "source": [
    "artist_more_then_1000 = list(artist[artist.artist_name>999].index)\n",
    "artist_between_500_to_1000 = list(artist[(artist.artist_name<1000)&(artist.artist_name>500)].index)\n",
    "artist_between_500_to_100= list(artist[(artist.artist_name<501)&(artist.artist_name>101)].index)\n",
    "artist_between_100_to_50 = list(artist[(artist.artist_name<101)&(artist.artist_name>50)].index)\n",
    "artist_between_50_to_10 = list(artist[(artist.artist_name<51)&(song_info.song_id>10)].index)\n",
    "artist_between_10_to_5 = list(artist[(artist.artist_name<11)&(artist.artist_name>5)].index)\n",
    "artist_less_then_5 = list(artist[(artist.artist_name<6)].index)"
   ]
  },
  {
   "cell_type": "code",
   "execution_count": 53,
   "metadata": {},
   "outputs": [
    {
     "data": {
      "text/plain": [
       "1806"
      ]
     },
     "execution_count": 53,
     "metadata": {},
     "output_type": "execute_result"
    }
   ],
   "source": [
    "len(artist_between_100_to_50)"
   ]
  },
  {
   "cell_type": "code",
   "execution_count": 54,
   "metadata": {},
   "outputs": [],
   "source": [
    "artist_data = {'artist_more_then_1000': len(artist_more_then_1000),\\\n",
    "            \"artist_between_500_to_1000\":len(artist_between_500_to_1000),\\\n",
    "            'artist_between_500_to_100':len(artist_between_500_to_100),\\\n",
    "            'artist_between_100_to_50':len(artist_between_100_to_50),\\\n",
    "            'artist_between_50_to_10':len(artist_between_50_to_10),\\\n",
    "            'artist_between_10_to_5':len(artist_between_10_to_5),\\\n",
    "            'artist_less_then_5':len(artist_less_then_5)}"
   ]
  },
  {
   "cell_type": "code",
   "execution_count": 55,
   "metadata": {},
   "outputs": [
    {
     "data": {
      "text/plain": [
       "{'artist_more_then_1000': 214,\n",
       " 'artist_between_500_to_1000': 309,\n",
       " 'artist_between_500_to_100': 1958,\n",
       " 'artist_between_100_to_50': 1806,\n",
       " 'artist_between_50_to_10': 0,\n",
       " 'artist_between_10_to_5': 3749,\n",
       " 'artist_less_then_5': 13321}"
      ]
     },
     "execution_count": 55,
     "metadata": {},
     "output_type": "execute_result"
    }
   ],
   "source": [
    "artist_data"
   ]
  },
  {
   "cell_type": "code",
   "execution_count": 56,
   "metadata": {},
   "outputs": [
    {
     "data": {
      "text/plain": [
       "<Figure size 1440x360 with 0 Axes>"
      ]
     },
     "execution_count": 56,
     "metadata": {},
     "output_type": "execute_result"
    },
    {
     "data": {
      "text/plain": [
       "<BarContainer object of 7 artists>"
      ]
     },
     "execution_count": 56,
     "metadata": {},
     "output_type": "execute_result"
    },
    {
     "data": {
      "image/png": "[encoded data removed]",
      "text/plain": [
       "<Figure size 1440x360 with 1 Axes>"
      ]
     },
     "metadata": {
      "needs_background": "light"
     },
     "output_type": "display_data"
    }
   ],
   "source": [
    "plt.figure(figsize=(20,5))\n",
    "keys = artist_data. keys()\n",
    "values = artist_data. values()\n",
    "plt. bar(keys, values)\n"
   ]
  },
  {
   "cell_type": "code",
   "execution_count": 57,
   "metadata": {},
   "outputs": [],
   "source": [
    "title_info = pd.DataFrame(song_df.title.value_counts())"
   ]
  },
  {
   "cell_type": "code",
   "execution_count": 58,
   "metadata": {},
   "outputs": [
    {
     "data": {
      "text/html": [
       "<div>\n",
       "<style scoped>\n",
       "    .dataframe tbody tr th:only-of-type {\n",
       "        vertical-align: middle;\n",
       "    }\n",
       "\n",
       "    .dataframe tbody tr th {\n",
       "        vertical-align: top;\n",
       "    }\n",
       "\n",
       "    .dataframe thead th {\n",
       "        text-align: right;\n",
       "    }\n",
       "</style>\n",
       "<table border=\"1\" class=\"dataframe\">\n",
       "  <thead>\n",
       "    <tr style=\"text-align: right;\">\n",
       "      <th></th>\n",
       "      <th>title</th>\n",
       "    </tr>\n",
       "  </thead>\n",
       "  <tbody>\n",
       "    <tr>\n",
       "      <th>Sehr kosmisch</th>\n",
       "      <td>5043</td>\n",
       "    </tr>\n",
       "    <tr>\n",
       "      <th>Undo</th>\n",
       "      <td>4483</td>\n",
       "    </tr>\n",
       "    <tr>\n",
       "      <th>You're The One</th>\n",
       "      <td>4270</td>\n",
       "    </tr>\n",
       "    <tr>\n",
       "      <th>Dog Days Are Over (Radio Edit)</th>\n",
       "      <td>3780</td>\n",
       "    </tr>\n",
       "    <tr>\n",
       "      <th>Revelry</th>\n",
       "      <td>3672</td>\n",
       "    </tr>\n",
       "    <tr>\n",
       "      <th>...</th>\n",
       "      <td>...</td>\n",
       "    </tr>\n",
       "    <tr>\n",
       "      <th>Mia (LP Version)</th>\n",
       "      <td>1</td>\n",
       "    </tr>\n",
       "    <tr>\n",
       "      <th>Land Of The Miracle</th>\n",
       "      <td>1</td>\n",
       "    </tr>\n",
       "    <tr>\n",
       "      <th>Kitchen Girl</th>\n",
       "      <td>1</td>\n",
       "    </tr>\n",
       "    <tr>\n",
       "      <th>If I Had Left It Up To You (Live) (2001 Digital Remaster)</th>\n",
       "      <td>1</td>\n",
       "    </tr>\n",
       "    <tr>\n",
       "      <th>Ella Tiene Un Don</th>\n",
       "      <td>1</td>\n",
       "    </tr>\n",
       "  </tbody>\n",
       "</table>\n",
       "<p>137622 rows × 1 columns</p>\n",
       "</div>"
      ],
      "text/plain": [
       "                                                    title\n",
       "Sehr kosmisch                                        5043\n",
       "Undo                                                 4483\n",
       "You're The One                                       4270\n",
       "Dog Days Are Over (Radio Edit)                       3780\n",
       "Revelry                                              3672\n",
       "...                                                   ...\n",
       "Mia (LP Version)                                        1\n",
       "Land Of The Miracle                                     1\n",
       "Kitchen Girl                                            1\n",
       "If I Had Left It Up To You (Live) (2001 Digital...      1\n",
       "Ella Tiene Un Don                                       1\n",
       "\n",
       "[137622 rows x 1 columns]"
      ]
     },
     "execution_count": 58,
     "metadata": {},
     "output_type": "execute_result"
    }
   ],
   "source": [
    "title_info"
   ]
  },
  {
   "cell_type": "code",
   "execution_count": 59,
   "metadata": {},
   "outputs": [
    {
     "data": {
      "text/plain": [
       "Index(['Sehr kosmisch', 'Undo', 'You're The One',\n",
       "       'Dog Days Are Over (Radio Edit)', 'Revelry', 'Secrets',\n",
       "       'Horn Concerto No. 4 in E flat K495: II. Romance (Andante cantabile)',\n",
       "       'Hey_ Soul Sister', 'Fireflies', 'Tive Sim'],\n",
       "      dtype='object')"
      ]
     },
     "execution_count": 59,
     "metadata": {},
     "output_type": "execute_result"
    }
   ],
   "source": [
    "title_info[:10].index"
   ]
  },
  {
   "cell_type": "code",
   "execution_count": 60,
   "metadata": {},
   "outputs": [
    {
     "data": {
      "text/plain": [
       "<AxesSubplot:>"
      ]
     },
     "execution_count": 60,
     "metadata": {},
     "output_type": "execute_result"
    },
    {
     "data": {
      "image/png": "[encoded data removed]",
      "text/plain": [
       "<Figure size 432x288 with 1 Axes>"
      ]
     },
     "metadata": {
      "needs_background": "light"
     },
     "output_type": "display_data"
    }
   ],
   "source": [
    "title_info[:10].plot(kind='bar')"
   ]
  },
  {
   "cell_type": "markdown",
   "metadata": {},
   "source": [
    "- Top 10 populer songs in the data are shown in the above graph"
   ]
  },
  {
   "cell_type": "code",
   "execution_count": 61,
   "metadata": {},
   "outputs": [
    {
     "data": {
      "text/html": [
       "<div>\n",
       "<style scoped>\n",
       "    .dataframe tbody tr th:only-of-type {\n",
       "        vertical-align: middle;\n",
       "    }\n",
       "\n",
       "    .dataframe tbody tr th {\n",
       "        vertical-align: top;\n",
       "    }\n",
       "\n",
       "    .dataframe thead th {\n",
       "        text-align: right;\n",
       "    }\n",
       "</style>\n",
       "<table border=\"1\" class=\"dataframe\">\n",
       "  <thead>\n",
       "    <tr style=\"text-align: right;\">\n",
       "      <th></th>\n",
       "      <th>title</th>\n",
       "    </tr>\n",
       "  </thead>\n",
       "  <tbody>\n",
       "    <tr>\n",
       "      <th>No Song Unheard</th>\n",
       "      <td>1</td>\n",
       "    </tr>\n",
       "    <tr>\n",
       "      <th>The Unwinding Cable Car (Live Version)</th>\n",
       "      <td>1</td>\n",
       "    </tr>\n",
       "    <tr>\n",
       "      <th>Sleepy Time Gal</th>\n",
       "      <td>1</td>\n",
       "    </tr>\n",
       "    <tr>\n",
       "      <th>Where Are You Now? (Batman Forever Sountrack)</th>\n",
       "      <td>1</td>\n",
       "    </tr>\n",
       "    <tr>\n",
       "      <th>Devil'S Nightmare</th>\n",
       "      <td>1</td>\n",
       "    </tr>\n",
       "    <tr>\n",
       "      <th>...</th>\n",
       "      <td>...</td>\n",
       "    </tr>\n",
       "    <tr>\n",
       "      <th>Mia (LP Version)</th>\n",
       "      <td>1</td>\n",
       "    </tr>\n",
       "    <tr>\n",
       "      <th>Land Of The Miracle</th>\n",
       "      <td>1</td>\n",
       "    </tr>\n",
       "    <tr>\n",
       "      <th>Kitchen Girl</th>\n",
       "      <td>1</td>\n",
       "    </tr>\n",
       "    <tr>\n",
       "      <th>If I Had Left It Up To You (Live) (2001 Digital Remaster)</th>\n",
       "      <td>1</td>\n",
       "    </tr>\n",
       "    <tr>\n",
       "      <th>Ella Tiene Un Don</th>\n",
       "      <td>1</td>\n",
       "    </tr>\n",
       "  </tbody>\n",
       "</table>\n",
       "<p>51217 rows × 1 columns</p>\n",
       "</div>"
      ],
      "text/plain": [
       "                                                    title\n",
       "No Song Unheard                                         1\n",
       "The Unwinding Cable Car (Live Version)                  1\n",
       "Sleepy Time Gal                                         1\n",
       "Where Are You Now? (Batman Forever Sountrack)           1\n",
       "Devil'S Nightmare                                       1\n",
       "...                                                   ...\n",
       "Mia (LP Version)                                        1\n",
       "Land Of The Miracle                                     1\n",
       "Kitchen Girl                                            1\n",
       "If I Had Left It Up To You (Live) (2001 Digital...      1\n",
       "Ella Tiene Un Don                                       1\n",
       "\n",
       "[51217 rows x 1 columns]"
      ]
     },
     "execution_count": 61,
     "metadata": {},
     "output_type": "execute_result"
    }
   ],
   "source": [
    "title_info[title_info.title==1]"
   ]
  },
  {
   "cell_type": "code",
   "execution_count": 62,
   "metadata": {},
   "outputs": [
    {
     "data": {
      "text/plain": [
       "37.21570679106539"
      ]
     },
     "execution_count": 62,
     "metadata": {},
     "output_type": "execute_result"
    }
   ],
   "source": [
    "(title_info[title_info.title==1].shape[0]/title_info.shape[0])*100"
   ]
  },
  {
   "cell_type": "markdown",
   "metadata": {},
   "source": [
    "- There are 51220  songs which are just listned once by the user in the entire data(**around 37%**)"
   ]
  },
  {
   "cell_type": "code",
   "execution_count": 63,
   "metadata": {},
   "outputs": [
    {
     "data": {
      "text/html": [
       "<div>\n",
       "<style scoped>\n",
       "    .dataframe tbody tr th:only-of-type {\n",
       "        vertical-align: middle;\n",
       "    }\n",
       "\n",
       "    .dataframe tbody tr th {\n",
       "        vertical-align: top;\n",
       "    }\n",
       "\n",
       "    .dataframe thead th {\n",
       "        text-align: right;\n",
       "    }\n",
       "</style>\n",
       "<table border=\"1\" class=\"dataframe\">\n",
       "  <thead>\n",
       "    <tr style=\"text-align: right;\">\n",
       "      <th></th>\n",
       "      <th>user_id</th>\n",
       "      <th>song_id</th>\n",
       "      <th>freq</th>\n",
       "      <th>artist_name</th>\n",
       "      <th>title</th>\n",
       "    </tr>\n",
       "  </thead>\n",
       "  <tbody>\n",
       "    <tr>\n",
       "      <th>0</th>\n",
       "      <td>fd50c4007b68a3737fe052d5a4f78ce8aa117f3d</td>\n",
       "      <td>SOBONKR12A58A7A7E0</td>\n",
       "      <td>1</td>\n",
       "      <td>Dwight Yoakam</td>\n",
       "      <td>You're The One</td>\n",
       "    </tr>\n",
       "    <tr>\n",
       "      <th>1</th>\n",
       "      <td>fd50c4007b68a3737fe052d5a4f78ce8aa117f3d</td>\n",
       "      <td>SOEGIYH12A6D4FC0E3</td>\n",
       "      <td>1</td>\n",
       "      <td>Barry Tuckwell/Academy of St Martin-in-the-Fie...</td>\n",
       "      <td>Horn Concerto No. 4 in E flat K495: II. Romanc...</td>\n",
       "    </tr>\n",
       "    <tr>\n",
       "      <th>2</th>\n",
       "      <td>fd50c4007b68a3737fe052d5a4f78ce8aa117f3d</td>\n",
       "      <td>SOFLJQZ12A6D4FADA6</td>\n",
       "      <td>1</td>\n",
       "      <td>Cartola</td>\n",
       "      <td>Tive Sim</td>\n",
       "    </tr>\n",
       "    <tr>\n",
       "      <th>3</th>\n",
       "      <td>fd50c4007b68a3737fe052d5a4f78ce8aa117f3d</td>\n",
       "      <td>SOHTKMO12AB01843B0</td>\n",
       "      <td>1</td>\n",
       "      <td>Lonnie Gordon</td>\n",
       "      <td>Catch You Baby (Steve Pitron &amp; Max Sanna Radio...</td>\n",
       "    </tr>\n",
       "    <tr>\n",
       "      <th>4</th>\n",
       "      <td>fd50c4007b68a3737fe052d5a4f78ce8aa117f3d</td>\n",
       "      <td>SODQZCY12A6D4F9D11</td>\n",
       "      <td>1</td>\n",
       "      <td>Miguel Calo</td>\n",
       "      <td>El Cuatrero</td>\n",
       "    </tr>\n",
       "  </tbody>\n",
       "</table>\n",
       "</div>"
      ],
      "text/plain": [
       "                                    user_id             song_id  freq  \\\n",
       "0  fd50c4007b68a3737fe052d5a4f78ce8aa117f3d  SOBONKR12A58A7A7E0     1   \n",
       "1  fd50c4007b68a3737fe052d5a4f78ce8aa117f3d  SOEGIYH12A6D4FC0E3     1   \n",
       "2  fd50c4007b68a3737fe052d5a4f78ce8aa117f3d  SOFLJQZ12A6D4FADA6     1   \n",
       "3  fd50c4007b68a3737fe052d5a4f78ce8aa117f3d  SOHTKMO12AB01843B0     1   \n",
       "4  fd50c4007b68a3737fe052d5a4f78ce8aa117f3d  SODQZCY12A6D4F9D11     1   \n",
       "\n",
       "                                         artist_name  \\\n",
       "0                                      Dwight Yoakam   \n",
       "1  Barry Tuckwell/Academy of St Martin-in-the-Fie...   \n",
       "2                                            Cartola   \n",
       "3                                      Lonnie Gordon   \n",
       "4                                        Miguel Calo   \n",
       "\n",
       "                                               title  \n",
       "0                                     You're The One  \n",
       "1  Horn Concerto No. 4 in E flat K495: II. Romanc...  \n",
       "2                                           Tive Sim  \n",
       "3  Catch You Baby (Steve Pitron & Max Sanna Radio...  \n",
       "4                                        El Cuatrero  "
      ]
     },
     "execution_count": 63,
     "metadata": {},
     "output_type": "execute_result"
    }
   ],
   "source": [
    "song_df.head()"
   ]
  },
  {
   "cell_type": "code",
   "execution_count": 64,
   "metadata": {},
   "outputs": [],
   "source": [
    "song_df['song'] = song_df['artist_name'] +'-'+song_df['title']"
   ]
  },
  {
   "cell_type": "code",
   "execution_count": 65,
   "metadata": {},
   "outputs": [
    {
     "data": {
      "text/html": [
       "<div>\n",
       "<style scoped>\n",
       "    .dataframe tbody tr th:only-of-type {\n",
       "        vertical-align: middle;\n",
       "    }\n",
       "\n",
       "    .dataframe tbody tr th {\n",
       "        vertical-align: top;\n",
       "    }\n",
       "\n",
       "    .dataframe thead th {\n",
       "        text-align: right;\n",
       "    }\n",
       "</style>\n",
       "<table border=\"1\" class=\"dataframe\">\n",
       "  <thead>\n",
       "    <tr style=\"text-align: right;\">\n",
       "      <th></th>\n",
       "      <th>user_id</th>\n",
       "      <th>song_id</th>\n",
       "      <th>freq</th>\n",
       "      <th>artist_name</th>\n",
       "      <th>title</th>\n",
       "      <th>song</th>\n",
       "    </tr>\n",
       "  </thead>\n",
       "  <tbody>\n",
       "    <tr>\n",
       "      <th>0</th>\n",
       "      <td>fd50c4007b68a3737fe052d5a4f78ce8aa117f3d</td>\n",
       "      <td>SOBONKR12A58A7A7E0</td>\n",
       "      <td>1</td>\n",
       "      <td>Dwight Yoakam</td>\n",
       "      <td>You're The One</td>\n",
       "      <td>Dwight Yoakam-You're The One</td>\n",
       "    </tr>\n",
       "    <tr>\n",
       "      <th>1</th>\n",
       "      <td>fd50c4007b68a3737fe052d5a4f78ce8aa117f3d</td>\n",
       "      <td>SOEGIYH12A6D4FC0E3</td>\n",
       "      <td>1</td>\n",
       "      <td>Barry Tuckwell/Academy of St Martin-in-the-Fie...</td>\n",
       "      <td>Horn Concerto No. 4 in E flat K495: II. Romanc...</td>\n",
       "      <td>Barry Tuckwell/Academy of St Martin-in-the-Fie...</td>\n",
       "    </tr>\n",
       "    <tr>\n",
       "      <th>2</th>\n",
       "      <td>fd50c4007b68a3737fe052d5a4f78ce8aa117f3d</td>\n",
       "      <td>SOFLJQZ12A6D4FADA6</td>\n",
       "      <td>1</td>\n",
       "      <td>Cartola</td>\n",
       "      <td>Tive Sim</td>\n",
       "      <td>Cartola-Tive Sim</td>\n",
       "    </tr>\n",
       "    <tr>\n",
       "      <th>3</th>\n",
       "      <td>fd50c4007b68a3737fe052d5a4f78ce8aa117f3d</td>\n",
       "      <td>SOHTKMO12AB01843B0</td>\n",
       "      <td>1</td>\n",
       "      <td>Lonnie Gordon</td>\n",
       "      <td>Catch You Baby (Steve Pitron &amp; Max Sanna Radio...</td>\n",
       "      <td>Lonnie Gordon-Catch You Baby (Steve Pitron &amp; M...</td>\n",
       "    </tr>\n",
       "    <tr>\n",
       "      <th>4</th>\n",
       "      <td>fd50c4007b68a3737fe052d5a4f78ce8aa117f3d</td>\n",
       "      <td>SODQZCY12A6D4F9D11</td>\n",
       "      <td>1</td>\n",
       "      <td>Miguel Calo</td>\n",
       "      <td>El Cuatrero</td>\n",
       "      <td>Miguel Calo-El Cuatrero</td>\n",
       "    </tr>\n",
       "  </tbody>\n",
       "</table>\n",
       "</div>"
      ],
      "text/plain": [
       "                                    user_id             song_id  freq  \\\n",
       "0  fd50c4007b68a3737fe052d5a4f78ce8aa117f3d  SOBONKR12A58A7A7E0     1   \n",
       "1  fd50c4007b68a3737fe052d5a4f78ce8aa117f3d  SOEGIYH12A6D4FC0E3     1   \n",
       "2  fd50c4007b68a3737fe052d5a4f78ce8aa117f3d  SOFLJQZ12A6D4FADA6     1   \n",
       "3  fd50c4007b68a3737fe052d5a4f78ce8aa117f3d  SOHTKMO12AB01843B0     1   \n",
       "4  fd50c4007b68a3737fe052d5a4f78ce8aa117f3d  SODQZCY12A6D4F9D11     1   \n",
       "\n",
       "                                         artist_name  \\\n",
       "0                                      Dwight Yoakam   \n",
       "1  Barry Tuckwell/Academy of St Martin-in-the-Fie...   \n",
       "2                                            Cartola   \n",
       "3                                      Lonnie Gordon   \n",
       "4                                        Miguel Calo   \n",
       "\n",
       "                                               title  \\\n",
       "0                                     You're The One   \n",
       "1  Horn Concerto No. 4 in E flat K495: II. Romanc...   \n",
       "2                                           Tive Sim   \n",
       "3  Catch You Baby (Steve Pitron & Max Sanna Radio...   \n",
       "4                                        El Cuatrero   \n",
       "\n",
       "                                                song  \n",
       "0                       Dwight Yoakam-You're The One  \n",
       "1  Barry Tuckwell/Academy of St Martin-in-the-Fie...  \n",
       "2                                   Cartola-Tive Sim  \n",
       "3  Lonnie Gordon-Catch You Baby (Steve Pitron & M...  \n",
       "4                            Miguel Calo-El Cuatrero  "
      ]
     },
     "execution_count": 65,
     "metadata": {},
     "output_type": "execute_result"
    }
   ],
   "source": [
    "song_df.head()"
   ]
  },
  {
   "cell_type": "code",
   "execution_count": 66,
   "metadata": {},
   "outputs": [],
   "source": [
    "train_data_grouped = song_df.groupby(['song']).agg({'user_id': 'count'}).reset_index()\n",
    "# The column named user_id is replaced by the name score.\n",
    "train_data_grouped.rename(columns = {'user_id': 'score'}, inplace = True)"
   ]
  },
  {
   "cell_type": "code",
   "execution_count": 67,
   "metadata": {},
   "outputs": [
    {
     "data": {
      "text/html": [
       "<div>\n",
       "<style scoped>\n",
       "    .dataframe tbody tr th:only-of-type {\n",
       "        vertical-align: middle;\n",
       "    }\n",
       "\n",
       "    .dataframe tbody tr th {\n",
       "        vertical-align: top;\n",
       "    }\n",
       "\n",
       "    .dataframe thead th {\n",
       "        text-align: right;\n",
       "    }\n",
       "</style>\n",
       "<table border=\"1\" class=\"dataframe\">\n",
       "  <thead>\n",
       "    <tr style=\"text-align: right;\">\n",
       "      <th></th>\n",
       "      <th>song</th>\n",
       "      <th>score</th>\n",
       "    </tr>\n",
       "  </thead>\n",
       "  <tbody>\n",
       "    <tr>\n",
       "      <th>59878</th>\n",
       "      <td>Harmonia-Sehr kosmisch</td>\n",
       "      <td>5043</td>\n",
       "    </tr>\n",
       "    <tr>\n",
       "      <th>17175</th>\n",
       "      <td>Björk-Undo</td>\n",
       "      <td>4483</td>\n",
       "    </tr>\n",
       "    <tr>\n",
       "      <th>42714</th>\n",
       "      <td>Dwight Yoakam-You're The One</td>\n",
       "      <td>4136</td>\n",
       "    </tr>\n",
       "    <tr>\n",
       "      <th>51326</th>\n",
       "      <td>Florence + The Machine-Dog Days Are Over (Radi...</td>\n",
       "      <td>3780</td>\n",
       "    </tr>\n",
       "    <tr>\n",
       "      <th>77664</th>\n",
       "      <td>Kings Of Leon-Revelry</td>\n",
       "      <td>3672</td>\n",
       "    </tr>\n",
       "    <tr>\n",
       "      <th>...</th>\n",
       "      <td>...</td>\n",
       "      <td>...</td>\n",
       "    </tr>\n",
       "    <tr>\n",
       "      <th>77919</th>\n",
       "      <td>Kitaro-Walk To The Village</td>\n",
       "      <td>1</td>\n",
       "    </tr>\n",
       "    <tr>\n",
       "      <th>77915</th>\n",
       "      <td>Kitaro-Sunset</td>\n",
       "      <td>1</td>\n",
       "    </tr>\n",
       "    <tr>\n",
       "      <th>77912</th>\n",
       "      <td>Kitaro-Reimei</td>\n",
       "      <td>1</td>\n",
       "    </tr>\n",
       "    <tr>\n",
       "      <th>77908</th>\n",
       "      <td>Kitaro-O Holy Night</td>\n",
       "      <td>1</td>\n",
       "    </tr>\n",
       "    <tr>\n",
       "      <th>162042</th>\n",
       "      <td>Özlem Tekin-A)sik</td>\n",
       "      <td>1</td>\n",
       "    </tr>\n",
       "  </tbody>\n",
       "</table>\n",
       "<p>162043 rows × 2 columns</p>\n",
       "</div>"
      ],
      "text/plain": [
       "                                                     song  score\n",
       "59878                              Harmonia-Sehr kosmisch   5043\n",
       "17175                                          Björk-Undo   4483\n",
       "42714                        Dwight Yoakam-You're The One   4136\n",
       "51326   Florence + The Machine-Dog Days Are Over (Radi...   3780\n",
       "77664                               Kings Of Leon-Revelry   3672\n",
       "...                                                   ...    ...\n",
       "77919                          Kitaro-Walk To The Village      1\n",
       "77915                                       Kitaro-Sunset      1\n",
       "77912                                       Kitaro-Reimei      1\n",
       "77908                                 Kitaro-O Holy Night      1\n",
       "162042                                  Özlem Tekin-A)sik      1\n",
       "\n",
       "[162043 rows x 2 columns]"
      ]
     },
     "execution_count": 67,
     "metadata": {},
     "output_type": "execute_result"
    }
   ],
   "source": [
    "train_data_grouped.sort_values(['score'],ascending=False)"
   ]
  },
  {
   "cell_type": "code",
   "execution_count": 68,
   "metadata": {},
   "outputs": [
    {
     "data": {
      "text/html": [
       "<div>\n",
       "<style scoped>\n",
       "    .dataframe tbody tr th:only-of-type {\n",
       "        vertical-align: middle;\n",
       "    }\n",
       "\n",
       "    .dataframe tbody tr th {\n",
       "        vertical-align: top;\n",
       "    }\n",
       "\n",
       "    .dataframe thead th {\n",
       "        text-align: right;\n",
       "    }\n",
       "</style>\n",
       "<table border=\"1\" class=\"dataframe\">\n",
       "  <thead>\n",
       "    <tr style=\"text-align: right;\">\n",
       "      <th></th>\n",
       "      <th>song</th>\n",
       "      <th>score</th>\n",
       "    </tr>\n",
       "  </thead>\n",
       "  <tbody>\n",
       "    <tr>\n",
       "      <th>59878</th>\n",
       "      <td>Harmonia-Sehr kosmisch</td>\n",
       "      <td>5043</td>\n",
       "    </tr>\n",
       "    <tr>\n",
       "      <th>17175</th>\n",
       "      <td>Björk-Undo</td>\n",
       "      <td>4483</td>\n",
       "    </tr>\n",
       "    <tr>\n",
       "      <th>42714</th>\n",
       "      <td>Dwight Yoakam-You're The One</td>\n",
       "      <td>4136</td>\n",
       "    </tr>\n",
       "    <tr>\n",
       "      <th>51326</th>\n",
       "      <td>Florence + The Machine-Dog Days Are Over (Radi...</td>\n",
       "      <td>3780</td>\n",
       "    </tr>\n",
       "    <tr>\n",
       "      <th>77664</th>\n",
       "      <td>Kings Of Leon-Revelry</td>\n",
       "      <td>3672</td>\n",
       "    </tr>\n",
       "    <tr>\n",
       "      <th>...</th>\n",
       "      <td>...</td>\n",
       "      <td>...</td>\n",
       "    </tr>\n",
       "    <tr>\n",
       "      <th>162028</th>\n",
       "      <td>Ólafur Arnalds-Himininn er að hrynja_ en stjör...</td>\n",
       "      <td>1</td>\n",
       "    </tr>\n",
       "    <tr>\n",
       "      <th>162030</th>\n",
       "      <td>Ólafur Arnalds-Kjurrt</td>\n",
       "      <td>1</td>\n",
       "    </tr>\n",
       "    <tr>\n",
       "      <th>162037</th>\n",
       "      <td>Ólafur Arnalds-Við vorum smá...</td>\n",
       "      <td>1</td>\n",
       "    </tr>\n",
       "    <tr>\n",
       "      <th>162041</th>\n",
       "      <td>Órla Fallon-The Water Is Wide</td>\n",
       "      <td>1</td>\n",
       "    </tr>\n",
       "    <tr>\n",
       "      <th>162042</th>\n",
       "      <td>Özlem Tekin-A)sik</td>\n",
       "      <td>1</td>\n",
       "    </tr>\n",
       "  </tbody>\n",
       "</table>\n",
       "<p>162043 rows × 2 columns</p>\n",
       "</div>"
      ],
      "text/plain": [
       "                                                     song  score\n",
       "59878                              Harmonia-Sehr kosmisch   5043\n",
       "17175                                          Björk-Undo   4483\n",
       "42714                        Dwight Yoakam-You're The One   4136\n",
       "51326   Florence + The Machine-Dog Days Are Over (Radi...   3780\n",
       "77664                               Kings Of Leon-Revelry   3672\n",
       "...                                                   ...    ...\n",
       "162028  Ólafur Arnalds-Himininn er að hrynja_ en stjör...      1\n",
       "162030                              Ólafur Arnalds-Kjurrt      1\n",
       "162037                    Ólafur Arnalds-Við vorum smá...      1\n",
       "162041                      Órla Fallon-The Water Is Wide      1\n",
       "162042                                  Özlem Tekin-A)sik      1\n",
       "\n",
       "[162043 rows x 2 columns]"
      ]
     },
     "execution_count": 68,
     "metadata": {},
     "output_type": "execute_result"
    }
   ],
   "source": [
    "train_data_sort = train_data_grouped.sort_values(['score', 'song'], ascending = [0,1])\n",
    "train_data_sort"
   ]
  },
  {
   "cell_type": "code",
   "execution_count": 69,
   "metadata": {},
   "outputs": [],
   "source": [
    "train_data_sort['Rank'] = train_data_sort['score'].rank(ascending = False,method='first')"
   ]
  },
  {
   "cell_type": "code",
   "execution_count": 70,
   "metadata": {},
   "outputs": [
    {
     "data": {
      "text/html": [
       "<div>\n",
       "<style scoped>\n",
       "    .dataframe tbody tr th:only-of-type {\n",
       "        vertical-align: middle;\n",
       "    }\n",
       "\n",
       "    .dataframe tbody tr th {\n",
       "        vertical-align: top;\n",
       "    }\n",
       "\n",
       "    .dataframe thead th {\n",
       "        text-align: right;\n",
       "    }\n",
       "</style>\n",
       "<table border=\"1\" class=\"dataframe\">\n",
       "  <thead>\n",
       "    <tr style=\"text-align: right;\">\n",
       "      <th></th>\n",
       "      <th>song</th>\n",
       "      <th>score</th>\n",
       "      <th>Rank</th>\n",
       "    </tr>\n",
       "  </thead>\n",
       "  <tbody>\n",
       "    <tr>\n",
       "      <th>59878</th>\n",
       "      <td>Harmonia-Sehr kosmisch</td>\n",
       "      <td>5043</td>\n",
       "      <td>1.0</td>\n",
       "    </tr>\n",
       "    <tr>\n",
       "      <th>17175</th>\n",
       "      <td>Björk-Undo</td>\n",
       "      <td>4483</td>\n",
       "      <td>2.0</td>\n",
       "    </tr>\n",
       "    <tr>\n",
       "      <th>42714</th>\n",
       "      <td>Dwight Yoakam-You're The One</td>\n",
       "      <td>4136</td>\n",
       "      <td>3.0</td>\n",
       "    </tr>\n",
       "    <tr>\n",
       "      <th>51326</th>\n",
       "      <td>Florence + The Machine-Dog Days Are Over (Radi...</td>\n",
       "      <td>3780</td>\n",
       "      <td>4.0</td>\n",
       "    </tr>\n",
       "    <tr>\n",
       "      <th>77664</th>\n",
       "      <td>Kings Of Leon-Revelry</td>\n",
       "      <td>3672</td>\n",
       "      <td>5.0</td>\n",
       "    </tr>\n",
       "    <tr>\n",
       "      <th>...</th>\n",
       "      <td>...</td>\n",
       "      <td>...</td>\n",
       "      <td>...</td>\n",
       "    </tr>\n",
       "    <tr>\n",
       "      <th>162028</th>\n",
       "      <td>Ólafur Arnalds-Himininn er að hrynja_ en stjör...</td>\n",
       "      <td>1</td>\n",
       "      <td>162039.0</td>\n",
       "    </tr>\n",
       "    <tr>\n",
       "      <th>162030</th>\n",
       "      <td>Ólafur Arnalds-Kjurrt</td>\n",
       "      <td>1</td>\n",
       "      <td>162040.0</td>\n",
       "    </tr>\n",
       "    <tr>\n",
       "      <th>162037</th>\n",
       "      <td>Ólafur Arnalds-Við vorum smá...</td>\n",
       "      <td>1</td>\n",
       "      <td>162041.0</td>\n",
       "    </tr>\n",
       "    <tr>\n",
       "      <th>162041</th>\n",
       "      <td>Órla Fallon-The Water Is Wide</td>\n",
       "      <td>1</td>\n",
       "      <td>162042.0</td>\n",
       "    </tr>\n",
       "    <tr>\n",
       "      <th>162042</th>\n",
       "      <td>Özlem Tekin-A)sik</td>\n",
       "      <td>1</td>\n",
       "      <td>162043.0</td>\n",
       "    </tr>\n",
       "  </tbody>\n",
       "</table>\n",
       "<p>162043 rows × 3 columns</p>\n",
       "</div>"
      ],
      "text/plain": [
       "                                                     song  score      Rank\n",
       "59878                              Harmonia-Sehr kosmisch   5043       1.0\n",
       "17175                                          Björk-Undo   4483       2.0\n",
       "42714                        Dwight Yoakam-You're The One   4136       3.0\n",
       "51326   Florence + The Machine-Dog Days Are Over (Radi...   3780       4.0\n",
       "77664                               Kings Of Leon-Revelry   3672       5.0\n",
       "...                                                   ...    ...       ...\n",
       "162028  Ólafur Arnalds-Himininn er að hrynja_ en stjör...      1  162039.0\n",
       "162030                              Ólafur Arnalds-Kjurrt      1  162040.0\n",
       "162037                    Ólafur Arnalds-Við vorum smá...      1  162041.0\n",
       "162041                      Órla Fallon-The Water Is Wide      1  162042.0\n",
       "162042                                  Özlem Tekin-A)sik      1  162043.0\n",
       "\n",
       "[162043 rows x 3 columns]"
      ]
     },
     "execution_count": 70,
     "metadata": {},
     "output_type": "execute_result"
    }
   ],
   "source": [
    "train_data_sort"
   ]
  },
  {
   "cell_type": "code",
   "execution_count": 71,
   "metadata": {},
   "outputs": [],
   "source": [
    "popularity_recommendataions = train_data_sort.head(30)"
   ]
  },
  {
   "cell_type": "code",
   "execution_count": 72,
   "metadata": {},
   "outputs": [
    {
     "data": {
      "text/plain": [
       "(30, 3)"
      ]
     },
     "execution_count": 72,
     "metadata": {},
     "output_type": "execute_result"
    }
   ],
   "source": [
    "popularity_recommendataions.shape"
   ]
  },
  {
   "cell_type": "code",
   "execution_count": 73,
   "metadata": {},
   "outputs": [
    {
     "data": {
      "text/html": [
       "<div>\n",
       "<style scoped>\n",
       "    .dataframe tbody tr th:only-of-type {\n",
       "        vertical-align: middle;\n",
       "    }\n",
       "\n",
       "    .dataframe tbody tr th {\n",
       "        vertical-align: top;\n",
       "    }\n",
       "\n",
       "    .dataframe thead th {\n",
       "        text-align: right;\n",
       "    }\n",
       "</style>\n",
       "<table border=\"1\" class=\"dataframe\">\n",
       "  <thead>\n",
       "    <tr style=\"text-align: right;\">\n",
       "      <th></th>\n",
       "      <th>user_id</th>\n",
       "      <th>song_id</th>\n",
       "      <th>freq</th>\n",
       "      <th>artist_name</th>\n",
       "      <th>title</th>\n",
       "      <th>song</th>\n",
       "    </tr>\n",
       "  </thead>\n",
       "  <tbody>\n",
       "    <tr>\n",
       "      <th>0</th>\n",
       "      <td>fd50c4007b68a3737fe052d5a4f78ce8aa117f3d</td>\n",
       "      <td>SOBONKR12A58A7A7E0</td>\n",
       "      <td>1</td>\n",
       "      <td>Dwight Yoakam</td>\n",
       "      <td>You're The One</td>\n",
       "      <td>Dwight Yoakam-You're The One</td>\n",
       "    </tr>\n",
       "    <tr>\n",
       "      <th>1</th>\n",
       "      <td>fd50c4007b68a3737fe052d5a4f78ce8aa117f3d</td>\n",
       "      <td>SOEGIYH12A6D4FC0E3</td>\n",
       "      <td>1</td>\n",
       "      <td>Barry Tuckwell/Academy of St Martin-in-the-Fie...</td>\n",
       "      <td>Horn Concerto No. 4 in E flat K495: II. Romanc...</td>\n",
       "      <td>Barry Tuckwell/Academy of St Martin-in-the-Fie...</td>\n",
       "    </tr>\n",
       "    <tr>\n",
       "      <th>2</th>\n",
       "      <td>fd50c4007b68a3737fe052d5a4f78ce8aa117f3d</td>\n",
       "      <td>SOFLJQZ12A6D4FADA6</td>\n",
       "      <td>1</td>\n",
       "      <td>Cartola</td>\n",
       "      <td>Tive Sim</td>\n",
       "      <td>Cartola-Tive Sim</td>\n",
       "    </tr>\n",
       "    <tr>\n",
       "      <th>3</th>\n",
       "      <td>fd50c4007b68a3737fe052d5a4f78ce8aa117f3d</td>\n",
       "      <td>SOHTKMO12AB01843B0</td>\n",
       "      <td>1</td>\n",
       "      <td>Lonnie Gordon</td>\n",
       "      <td>Catch You Baby (Steve Pitron &amp; Max Sanna Radio...</td>\n",
       "      <td>Lonnie Gordon-Catch You Baby (Steve Pitron &amp; M...</td>\n",
       "    </tr>\n",
       "    <tr>\n",
       "      <th>4</th>\n",
       "      <td>fd50c4007b68a3737fe052d5a4f78ce8aa117f3d</td>\n",
       "      <td>SODQZCY12A6D4F9D11</td>\n",
       "      <td>1</td>\n",
       "      <td>Miguel Calo</td>\n",
       "      <td>El Cuatrero</td>\n",
       "      <td>Miguel Calo-El Cuatrero</td>\n",
       "    </tr>\n",
       "    <tr>\n",
       "      <th>5</th>\n",
       "      <td>fd50c4007b68a3737fe052d5a4f78ce8aa117f3d</td>\n",
       "      <td>SOXLOQG12AF72A2D55</td>\n",
       "      <td>1</td>\n",
       "      <td>Beastie Boys</td>\n",
       "      <td>Unite (2009 Digital Remaster)</td>\n",
       "      <td>Beastie Boys-Unite (2009 Digital Remaster)</td>\n",
       "    </tr>\n",
       "    <tr>\n",
       "      <th>6</th>\n",
       "      <td>d7083f5e1d50c264277d624340edaaf3dc16095b</td>\n",
       "      <td>SOUVUHC12A67020E3B</td>\n",
       "      <td>1</td>\n",
       "      <td>Moby</td>\n",
       "      <td>Lift Me Up</td>\n",
       "      <td>Moby-Lift Me Up</td>\n",
       "    </tr>\n",
       "    <tr>\n",
       "      <th>7</th>\n",
       "      <td>d7083f5e1d50c264277d624340edaaf3dc16095b</td>\n",
       "      <td>SOUQERE12A58A75633</td>\n",
       "      <td>1</td>\n",
       "      <td>Guano Apes</td>\n",
       "      <td>Living In A Lie</td>\n",
       "      <td>Guano Apes-Living In A Lie</td>\n",
       "    </tr>\n",
       "    <tr>\n",
       "      <th>8</th>\n",
       "      <td>d7083f5e1d50c264277d624340edaaf3dc16095b</td>\n",
       "      <td>SOIPJAX12A8C141A2D</td>\n",
       "      <td>1</td>\n",
       "      <td>Guano Apes</td>\n",
       "      <td>Open Your Eyes</td>\n",
       "      <td>Guano Apes-Open Your Eyes</td>\n",
       "    </tr>\n",
       "    <tr>\n",
       "      <th>9</th>\n",
       "      <td>d7083f5e1d50c264277d624340edaaf3dc16095b</td>\n",
       "      <td>SOEFCDJ12AB0185FA0</td>\n",
       "      <td>2</td>\n",
       "      <td>UDG</td>\n",
       "      <td>Kurtizana</td>\n",
       "      <td>UDG-Kurtizana</td>\n",
       "    </tr>\n",
       "  </tbody>\n",
       "</table>\n",
       "</div>"
      ],
      "text/plain": [
       "                                    user_id             song_id  freq  \\\n",
       "0  fd50c4007b68a3737fe052d5a4f78ce8aa117f3d  SOBONKR12A58A7A7E0     1   \n",
       "1  fd50c4007b68a3737fe052d5a4f78ce8aa117f3d  SOEGIYH12A6D4FC0E3     1   \n",
       "2  fd50c4007b68a3737fe052d5a4f78ce8aa117f3d  SOFLJQZ12A6D4FADA6     1   \n",
       "3  fd50c4007b68a3737fe052d5a4f78ce8aa117f3d  SOHTKMO12AB01843B0     1   \n",
       "4  fd50c4007b68a3737fe052d5a4f78ce8aa117f3d  SODQZCY12A6D4F9D11     1   \n",
       "5  fd50c4007b68a3737fe052d5a4f78ce8aa117f3d  SOXLOQG12AF72A2D55     1   \n",
       "6  d7083f5e1d50c264277d624340edaaf3dc16095b  SOUVUHC12A67020E3B     1   \n",
       "7  d7083f5e1d50c264277d624340edaaf3dc16095b  SOUQERE12A58A75633     1   \n",
       "8  d7083f5e1d50c264277d624340edaaf3dc16095b  SOIPJAX12A8C141A2D     1   \n",
       "9  d7083f5e1d50c264277d624340edaaf3dc16095b  SOEFCDJ12AB0185FA0     2   \n",
       "\n",
       "                                         artist_name  \\\n",
       "0                                      Dwight Yoakam   \n",
       "1  Barry Tuckwell/Academy of St Martin-in-the-Fie...   \n",
       "2                                            Cartola   \n",
       "3                                      Lonnie Gordon   \n",
       "4                                        Miguel Calo   \n",
       "5                                       Beastie Boys   \n",
       "6                                               Moby   \n",
       "7                                         Guano Apes   \n",
       "8                                         Guano Apes   \n",
       "9                                                UDG   \n",
       "\n",
       "                                               title  \\\n",
       "0                                     You're The One   \n",
       "1  Horn Concerto No. 4 in E flat K495: II. Romanc...   \n",
       "2                                           Tive Sim   \n",
       "3  Catch You Baby (Steve Pitron & Max Sanna Radio...   \n",
       "4                                        El Cuatrero   \n",
       "5                      Unite (2009 Digital Remaster)   \n",
       "6                                         Lift Me Up   \n",
       "7                                    Living In A Lie   \n",
       "8                                     Open Your Eyes   \n",
       "9                                          Kurtizana   \n",
       "\n",
       "                                                song  \n",
       "0                       Dwight Yoakam-You're The One  \n",
       "1  Barry Tuckwell/Academy of St Martin-in-the-Fie...  \n",
       "2                                   Cartola-Tive Sim  \n",
       "3  Lonnie Gordon-Catch You Baby (Steve Pitron & M...  \n",
       "4                            Miguel Calo-El Cuatrero  \n",
       "5         Beastie Boys-Unite (2009 Digital Remaster)  \n",
       "6                                    Moby-Lift Me Up  \n",
       "7                         Guano Apes-Living In A Lie  \n",
       "8                          Guano Apes-Open Your Eyes  \n",
       "9                                      UDG-Kurtizana  "
      ]
     },
     "execution_count": 73,
     "metadata": {},
     "output_type": "execute_result"
    }
   ],
   "source": [
    "song_df.head(10)"
   ]
  },
  {
   "cell_type": "code",
   "execution_count": 74,
   "metadata": {},
   "outputs": [],
   "source": [
    "user_listens_song = song_df.groupby('user_id')['song_id'].count() # dataframe to filter inactive users\n",
    "songs_and_users = song_df.groupby('song_id')['user_id'].count() # dataframe to filter unpopular songs\n",
    "\n",
    "final_users_list = user_listens_song[user_listens_song > 10].index.to_list() # specifying condition to filter users \n",
    "final_songs_list = songs_and_users[songs_and_users > 100].index.to_list() # specifying conditions to filter songs"
   ]
  },
  {
   "cell_type": "code",
   "execution_count": 75,
   "metadata": {},
   "outputs": [
    {
     "name": "stdout",
     "output_type": "stream",
     "text": [
      "shape of original songs dataset:  (1450932, 6)\n",
      "shape of songs dataset after dropping inactive users:  (1067426, 6)\n",
      "shape of songs dataset after dropping unpopualar songs and inactive users both is:  (319229, 6)\n",
      "\n",
      "therefore our final dataset after removing the inactive users and unpopular songs has these many observations:   319229\n",
      "\n"
     ]
    }
   ],
   "source": [
    "# let us now filter our original dataset so that it contains only users who have listened more than 10 songs using the above variable\n",
    "# and along with that let us also drop the unpopular songs i.e. we only keep the songs that a user has listened atleast 100 times.\n",
    "# hence in the next two lines we are creating our final dataset after filtering the users\n",
    "song_df_drop_users = song_df[song_df['user_id'].isin(final_users_list)].reset_index(drop=True)\n",
    "song_df_final = song_df_drop_users[song_df_drop_users['song_id'].isin(final_songs_list)].reset_index(drop=True) # this is our final dataframe\n",
    "\n",
    "# here we will be printing the characteristics of our final dataset that we have created after filtering songs and users.\n",
    "\n",
    "print('shape of original songs dataset: ', song_df.shape)\n",
    "print('shape of songs dataset after dropping inactive users: ', song_df_drop_users.shape)\n",
    "print('shape of songs dataset after dropping unpopualar songs and inactive users both is: ', song_df_final.shape)\n",
    "print(\"\")\n",
    "print(\"therefore our final dataset after removing the inactive users and unpopular songs has these many observations:  \",song_df_final.shape[0])\n",
    "print(\"\")\n",
    "#songs_df_final.head(5)"
   ]
  },
  {
   "cell_type": "code",
   "execution_count": 76,
   "metadata": {},
   "outputs": [
    {
     "data": {
      "text/plain": [
       "(319229, 6)"
      ]
     },
     "execution_count": 76,
     "metadata": {},
     "output_type": "execute_result"
    }
   ],
   "source": [
    "song_df_final =song_df_final[:1450932]\n",
    "song_df_final.shape"
   ]
  },
  {
   "cell_type": "code",
   "execution_count": 77,
   "metadata": {},
   "outputs": [
    {
     "data": {
      "text/html": [
       "<div>\n",
       "<style scoped>\n",
       "    .dataframe tbody tr th:only-of-type {\n",
       "        vertical-align: middle;\n",
       "    }\n",
       "\n",
       "    .dataframe tbody tr th {\n",
       "        vertical-align: top;\n",
       "    }\n",
       "\n",
       "    .dataframe thead th {\n",
       "        text-align: right;\n",
       "    }\n",
       "</style>\n",
       "<table border=\"1\" class=\"dataframe\">\n",
       "  <thead>\n",
       "    <tr style=\"text-align: right;\">\n",
       "      <th>song_id</th>\n",
       "      <th>SOAAROC12A6D4FA420</th>\n",
       "      <th>SOAAVUV12AB0186646</th>\n",
       "      <th>SOAAWEE12A6D4FBEC8</th>\n",
       "      <th>SOABHYV12A6D4F6D0F</th>\n",
       "      <th>SOABJBU12A8C13F63F</th>\n",
       "      <th>SOACIPG12A8AE47E1C</th>\n",
       "      <th>SOADISH12AB018DFAC</th>\n",
       "      <th>SOADJQJ12A8C141D38</th>\n",
       "      <th>SOADOQJ12A8AE45C7E</th>\n",
       "      <th>SOADQPP12A67020C82</th>\n",
       "      <th>...</th>\n",
       "      <th>SOZVVMJ12A58A7C548</th>\n",
       "      <th>SOZVVRE12A8C143150</th>\n",
       "      <th>SOZWWTF12A8C1408E2</th>\n",
       "      <th>SOZXHNM12AB017CDEA</th>\n",
       "      <th>SOZXKIA12A6D4F861C</th>\n",
       "      <th>SOZXMYX12AB018A445</th>\n",
       "      <th>SOZYDZR12A8C13F4F0</th>\n",
       "      <th>SOZYSDT12A8C13BFD7</th>\n",
       "      <th>SOZYUGZ12A8AE472AC</th>\n",
       "      <th>SOZZTNF12A8C139916</th>\n",
       "    </tr>\n",
       "    <tr>\n",
       "      <th>user_id</th>\n",
       "      <th></th>\n",
       "      <th></th>\n",
       "      <th></th>\n",
       "      <th></th>\n",
       "      <th></th>\n",
       "      <th></th>\n",
       "      <th></th>\n",
       "      <th></th>\n",
       "      <th></th>\n",
       "      <th></th>\n",
       "      <th></th>\n",
       "      <th></th>\n",
       "      <th></th>\n",
       "      <th></th>\n",
       "      <th></th>\n",
       "      <th></th>\n",
       "      <th></th>\n",
       "      <th></th>\n",
       "      <th></th>\n",
       "      <th></th>\n",
       "      <th></th>\n",
       "    </tr>\n",
       "  </thead>\n",
       "  <tbody>\n",
       "    <tr>\n",
       "      <th>00014a76ed063e1a749171a253bca9d9a0ff1782</th>\n",
       "      <td>0.0</td>\n",
       "      <td>0.0</td>\n",
       "      <td>0.0</td>\n",
       "      <td>0.0</td>\n",
       "      <td>0.0</td>\n",
       "      <td>0.0</td>\n",
       "      <td>0.0</td>\n",
       "      <td>0.0</td>\n",
       "      <td>0.0</td>\n",
       "      <td>0.0</td>\n",
       "      <td>...</td>\n",
       "      <td>0.0</td>\n",
       "      <td>0.0</td>\n",
       "      <td>0.0</td>\n",
       "      <td>0.0</td>\n",
       "      <td>0.0</td>\n",
       "      <td>0.0</td>\n",
       "      <td>0.0</td>\n",
       "      <td>0.0</td>\n",
       "      <td>0.0</td>\n",
       "      <td>0.0</td>\n",
       "    </tr>\n",
       "    <tr>\n",
       "      <th>00015189668691680bb1a2e58afde1541ec92ced</th>\n",
       "      <td>0.0</td>\n",
       "      <td>0.0</td>\n",
       "      <td>0.0</td>\n",
       "      <td>0.0</td>\n",
       "      <td>0.0</td>\n",
       "      <td>0.0</td>\n",
       "      <td>0.0</td>\n",
       "      <td>0.0</td>\n",
       "      <td>0.0</td>\n",
       "      <td>0.0</td>\n",
       "      <td>...</td>\n",
       "      <td>0.0</td>\n",
       "      <td>0.0</td>\n",
       "      <td>0.0</td>\n",
       "      <td>0.0</td>\n",
       "      <td>0.0</td>\n",
       "      <td>0.0</td>\n",
       "      <td>0.0</td>\n",
       "      <td>0.0</td>\n",
       "      <td>0.0</td>\n",
       "      <td>0.0</td>\n",
       "    </tr>\n",
       "    <tr>\n",
       "      <th>00020fcd8b01986a6a85b896ccde6c49f35142ad</th>\n",
       "      <td>0.0</td>\n",
       "      <td>0.0</td>\n",
       "      <td>0.0</td>\n",
       "      <td>0.0</td>\n",
       "      <td>0.0</td>\n",
       "      <td>0.0</td>\n",
       "      <td>0.0</td>\n",
       "      <td>0.0</td>\n",
       "      <td>0.0</td>\n",
       "      <td>0.0</td>\n",
       "      <td>...</td>\n",
       "      <td>0.0</td>\n",
       "      <td>0.0</td>\n",
       "      <td>0.0</td>\n",
       "      <td>0.0</td>\n",
       "      <td>0.0</td>\n",
       "      <td>0.0</td>\n",
       "      <td>0.0</td>\n",
       "      <td>0.0</td>\n",
       "      <td>0.0</td>\n",
       "      <td>0.0</td>\n",
       "    </tr>\n",
       "    <tr>\n",
       "      <th>0003798d61a8010dbfd8010180b7107cbbb8a649</th>\n",
       "      <td>0.0</td>\n",
       "      <td>0.0</td>\n",
       "      <td>0.0</td>\n",
       "      <td>0.0</td>\n",
       "      <td>0.0</td>\n",
       "      <td>0.0</td>\n",
       "      <td>0.0</td>\n",
       "      <td>0.0</td>\n",
       "      <td>0.0</td>\n",
       "      <td>0.0</td>\n",
       "      <td>...</td>\n",
       "      <td>0.0</td>\n",
       "      <td>0.0</td>\n",
       "      <td>0.0</td>\n",
       "      <td>0.0</td>\n",
       "      <td>0.0</td>\n",
       "      <td>0.0</td>\n",
       "      <td>0.0</td>\n",
       "      <td>0.0</td>\n",
       "      <td>0.0</td>\n",
       "      <td>0.0</td>\n",
       "    </tr>\n",
       "    <tr>\n",
       "      <th>0003d5245414b9c6244046543a06f601bfc97949</th>\n",
       "      <td>0.0</td>\n",
       "      <td>0.0</td>\n",
       "      <td>0.0</td>\n",
       "      <td>0.0</td>\n",
       "      <td>0.0</td>\n",
       "      <td>0.0</td>\n",
       "      <td>0.0</td>\n",
       "      <td>0.0</td>\n",
       "      <td>0.0</td>\n",
       "      <td>0.0</td>\n",
       "      <td>...</td>\n",
       "      <td>0.0</td>\n",
       "      <td>0.0</td>\n",
       "      <td>0.0</td>\n",
       "      <td>0.0</td>\n",
       "      <td>0.0</td>\n",
       "      <td>0.0</td>\n",
       "      <td>0.0</td>\n",
       "      <td>0.0</td>\n",
       "      <td>0.0</td>\n",
       "      <td>0.0</td>\n",
       "    </tr>\n",
       "  </tbody>\n",
       "</table>\n",
       "<p>5 rows × 1758 columns</p>\n",
       "</div>"
      ],
      "text/plain": [
       "song_id                                   SOAAROC12A6D4FA420  \\\n",
       "user_id                                                        \n",
       "00014a76ed063e1a749171a253bca9d9a0ff1782                 0.0   \n",
       "00015189668691680bb1a2e58afde1541ec92ced                 0.0   \n",
       "00020fcd8b01986a6a85b896ccde6c49f35142ad                 0.0   \n",
       "0003798d61a8010dbfd8010180b7107cbbb8a649                 0.0   \n",
       "0003d5245414b9c6244046543a06f601bfc97949                 0.0   \n",
       "\n",
       "song_id                                   SOAAVUV12AB0186646  \\\n",
       "user_id                                                        \n",
       "00014a76ed063e1a749171a253bca9d9a0ff1782                 0.0   \n",
       "00015189668691680bb1a2e58afde1541ec92ced                 0.0   \n",
       "00020fcd8b01986a6a85b896ccde6c49f35142ad                 0.0   \n",
       "0003798d61a8010dbfd8010180b7107cbbb8a649                 0.0   \n",
       "0003d5245414b9c6244046543a06f601bfc97949                 0.0   \n",
       "\n",
       "song_id                                   SOAAWEE12A6D4FBEC8  \\\n",
       "user_id                                                        \n",
       "00014a76ed063e1a749171a253bca9d9a0ff1782                 0.0   \n",
       "00015189668691680bb1a2e58afde1541ec92ced                 0.0   \n",
       "00020fcd8b01986a6a85b896ccde6c49f35142ad                 0.0   \n",
       "0003798d61a8010dbfd8010180b7107cbbb8a649                 0.0   \n",
       "0003d5245414b9c6244046543a06f601bfc97949                 0.0   \n",
       "\n",
       "song_id                                   SOABHYV12A6D4F6D0F  \\\n",
       "user_id                                                        \n",
       "00014a76ed063e1a749171a253bca9d9a0ff1782                 0.0   \n",
       "00015189668691680bb1a2e58afde1541ec92ced                 0.0   \n",
       "00020fcd8b01986a6a85b896ccde6c49f35142ad                 0.0   \n",
       "0003798d61a8010dbfd8010180b7107cbbb8a649                 0.0   \n",
       "0003d5245414b9c6244046543a06f601bfc97949                 0.0   \n",
       "\n",
       "song_id                                   SOABJBU12A8C13F63F  \\\n",
       "user_id                                                        \n",
       "00014a76ed063e1a749171a253bca9d9a0ff1782                 0.0   \n",
       "00015189668691680bb1a2e58afde1541ec92ced                 0.0   \n",
       "00020fcd8b01986a6a85b896ccde6c49f35142ad                 0.0   \n",
       "0003798d61a8010dbfd8010180b7107cbbb8a649                 0.0   \n",
       "0003d5245414b9c6244046543a06f601bfc97949                 0.0   \n",
       "\n",
       "song_id                                   SOACIPG12A8AE47E1C  \\\n",
       "user_id                                                        \n",
       "00014a76ed063e1a749171a253bca9d9a0ff1782                 0.0   \n",
       "00015189668691680bb1a2e58afde1541ec92ced                 0.0   \n",
       "00020fcd8b01986a6a85b896ccde6c49f35142ad                 0.0   \n",
       "0003798d61a8010dbfd8010180b7107cbbb8a649                 0.0   \n",
       "0003d5245414b9c6244046543a06f601bfc97949                 0.0   \n",
       "\n",
       "song_id                                   SOADISH12AB018DFAC  \\\n",
       "user_id                                                        \n",
       "00014a76ed063e1a749171a253bca9d9a0ff1782                 0.0   \n",
       "00015189668691680bb1a2e58afde1541ec92ced                 0.0   \n",
       "00020fcd8b01986a6a85b896ccde6c49f35142ad                 0.0   \n",
       "0003798d61a8010dbfd8010180b7107cbbb8a649                 0.0   \n",
       "0003d5245414b9c6244046543a06f601bfc97949                 0.0   \n",
       "\n",
       "song_id                                   SOADJQJ12A8C141D38  \\\n",
       "user_id                                                        \n",
       "00014a76ed063e1a749171a253bca9d9a0ff1782                 0.0   \n",
       "00015189668691680bb1a2e58afde1541ec92ced                 0.0   \n",
       "00020fcd8b01986a6a85b896ccde6c49f35142ad                 0.0   \n",
       "0003798d61a8010dbfd8010180b7107cbbb8a649                 0.0   \n",
       "0003d5245414b9c6244046543a06f601bfc97949                 0.0   \n",
       "\n",
       "song_id                                   SOADOQJ12A8AE45C7E  \\\n",
       "user_id                                                        \n",
       "00014a76ed063e1a749171a253bca9d9a0ff1782                 0.0   \n",
       "00015189668691680bb1a2e58afde1541ec92ced                 0.0   \n",
       "00020fcd8b01986a6a85b896ccde6c49f35142ad                 0.0   \n",
       "0003798d61a8010dbfd8010180b7107cbbb8a649                 0.0   \n",
       "0003d5245414b9c6244046543a06f601bfc97949                 0.0   \n",
       "\n",
       "song_id                                   SOADQPP12A67020C82  ...  \\\n",
       "user_id                                                       ...   \n",
       "00014a76ed063e1a749171a253bca9d9a0ff1782                 0.0  ...   \n",
       "00015189668691680bb1a2e58afde1541ec92ced                 0.0  ...   \n",
       "00020fcd8b01986a6a85b896ccde6c49f35142ad                 0.0  ...   \n",
       "0003798d61a8010dbfd8010180b7107cbbb8a649                 0.0  ...   \n",
       "0003d5245414b9c6244046543a06f601bfc97949                 0.0  ...   \n",
       "\n",
       "song_id                                   SOZVVMJ12A58A7C548  \\\n",
       "user_id                                                        \n",
       "00014a76ed063e1a749171a253bca9d9a0ff1782                 0.0   \n",
       "00015189668691680bb1a2e58afde1541ec92ced                 0.0   \n",
       "00020fcd8b01986a6a85b896ccde6c49f35142ad                 0.0   \n",
       "0003798d61a8010dbfd8010180b7107cbbb8a649                 0.0   \n",
       "0003d5245414b9c6244046543a06f601bfc97949                 0.0   \n",
       "\n",
       "song_id                                   SOZVVRE12A8C143150  \\\n",
       "user_id                                                        \n",
       "00014a76ed063e1a749171a253bca9d9a0ff1782                 0.0   \n",
       "00015189668691680bb1a2e58afde1541ec92ced                 0.0   \n",
       "00020fcd8b01986a6a85b896ccde6c49f35142ad                 0.0   \n",
       "0003798d61a8010dbfd8010180b7107cbbb8a649                 0.0   \n",
       "0003d5245414b9c6244046543a06f601bfc97949                 0.0   \n",
       "\n",
       "song_id                                   SOZWWTF12A8C1408E2  \\\n",
       "user_id                                                        \n",
       "00014a76ed063e1a749171a253bca9d9a0ff1782                 0.0   \n",
       "00015189668691680bb1a2e58afde1541ec92ced                 0.0   \n",
       "00020fcd8b01986a6a85b896ccde6c49f35142ad                 0.0   \n",
       "0003798d61a8010dbfd8010180b7107cbbb8a649                 0.0   \n",
       "0003d5245414b9c6244046543a06f601bfc97949                 0.0   \n",
       "\n",
       "song_id                                   SOZXHNM12AB017CDEA  \\\n",
       "user_id                                                        \n",
       "00014a76ed063e1a749171a253bca9d9a0ff1782                 0.0   \n",
       "00015189668691680bb1a2e58afde1541ec92ced                 0.0   \n",
       "00020fcd8b01986a6a85b896ccde6c49f35142ad                 0.0   \n",
       "0003798d61a8010dbfd8010180b7107cbbb8a649                 0.0   \n",
       "0003d5245414b9c6244046543a06f601bfc97949                 0.0   \n",
       "\n",
       "song_id                                   SOZXKIA12A6D4F861C  \\\n",
       "user_id                                                        \n",
       "00014a76ed063e1a749171a253bca9d9a0ff1782                 0.0   \n",
       "00015189668691680bb1a2e58afde1541ec92ced                 0.0   \n",
       "00020fcd8b01986a6a85b896ccde6c49f35142ad                 0.0   \n",
       "0003798d61a8010dbfd8010180b7107cbbb8a649                 0.0   \n",
       "0003d5245414b9c6244046543a06f601bfc97949                 0.0   \n",
       "\n",
       "song_id                                   SOZXMYX12AB018A445  \\\n",
       "user_id                                                        \n",
       "00014a76ed063e1a749171a253bca9d9a0ff1782                 0.0   \n",
       "00015189668691680bb1a2e58afde1541ec92ced                 0.0   \n",
       "00020fcd8b01986a6a85b896ccde6c49f35142ad                 0.0   \n",
       "0003798d61a8010dbfd8010180b7107cbbb8a649                 0.0   \n",
       "0003d5245414b9c6244046543a06f601bfc97949                 0.0   \n",
       "\n",
       "song_id                                   SOZYDZR12A8C13F4F0  \\\n",
       "user_id                                                        \n",
       "00014a76ed063e1a749171a253bca9d9a0ff1782                 0.0   \n",
       "00015189668691680bb1a2e58afde1541ec92ced                 0.0   \n",
       "00020fcd8b01986a6a85b896ccde6c49f35142ad                 0.0   \n",
       "0003798d61a8010dbfd8010180b7107cbbb8a649                 0.0   \n",
       "0003d5245414b9c6244046543a06f601bfc97949                 0.0   \n",
       "\n",
       "song_id                                   SOZYSDT12A8C13BFD7  \\\n",
       "user_id                                                        \n",
       "00014a76ed063e1a749171a253bca9d9a0ff1782                 0.0   \n",
       "00015189668691680bb1a2e58afde1541ec92ced                 0.0   \n",
       "00020fcd8b01986a6a85b896ccde6c49f35142ad                 0.0   \n",
       "0003798d61a8010dbfd8010180b7107cbbb8a649                 0.0   \n",
       "0003d5245414b9c6244046543a06f601bfc97949                 0.0   \n",
       "\n",
       "song_id                                   SOZYUGZ12A8AE472AC  \\\n",
       "user_id                                                        \n",
       "00014a76ed063e1a749171a253bca9d9a0ff1782                 0.0   \n",
       "00015189668691680bb1a2e58afde1541ec92ced                 0.0   \n",
       "00020fcd8b01986a6a85b896ccde6c49f35142ad                 0.0   \n",
       "0003798d61a8010dbfd8010180b7107cbbb8a649                 0.0   \n",
       "0003d5245414b9c6244046543a06f601bfc97949                 0.0   \n",
       "\n",
       "song_id                                   SOZZTNF12A8C139916  \n",
       "user_id                                                       \n",
       "00014a76ed063e1a749171a253bca9d9a0ff1782                 0.0  \n",
       "00015189668691680bb1a2e58afde1541ec92ced                 0.0  \n",
       "00020fcd8b01986a6a85b896ccde6c49f35142ad                 0.0  \n",
       "0003798d61a8010dbfd8010180b7107cbbb8a649                 0.0  \n",
       "0003d5245414b9c6244046543a06f601bfc97949                 0.0  \n",
       "\n",
       "[5 rows x 1758 columns]"
      ]
     },
     "execution_count": 77,
     "metadata": {},
     "output_type": "execute_result"
    }
   ],
   "source": [
    "# here we are creating the pivot table from our dataset and filling the null values with \"0\" using the fillna() function.\n",
    "songs_df_pivot = song_df_final.pivot(\n",
    "    index='user_id', \n",
    "    columns='song_id', \n",
    "    values='freq').fillna(0)\n",
    "songs_df_pivot.head(5)\n",
    "#songs_df_pivot.shape"
   ]
  },
  {
   "cell_type": "code",
   "execution_count": 78,
   "metadata": {},
   "outputs": [],
   "source": [
    "# converting the pivot table to array using to_numpy() function.   \n",
    "song_df_array = songs_df_pivot.to_numpy()  \n",
    "#finding the mean for every user's freq\n",
    "user_freq_count_mean = np.mean(song_df_array, axis = 1) \n",
    "# normalizing our data by subtracting mean from the array\n",
    "song_df_array_norm = song_df_array - user_freq_count_mean.reshape(-1, 1)    "
   ]
  },
  {
   "cell_type": "code",
   "execution_count": 79,
   "metadata": {},
   "outputs": [
    {
     "data": {
      "text/plain": [
       "array([[0., 0., 0., ..., 0., 0., 0.],\n",
       "       [0., 0., 0., ..., 0., 0., 0.],\n",
       "       [0., 0., 0., ..., 0., 0., 0.],\n",
       "       ...,\n",
       "       [0., 0., 0., ..., 0., 0., 0.],\n",
       "       [0., 0., 0., ..., 0., 0., 0.],\n",
       "       [0., 0., 0., ..., 0., 0., 0.]])"
      ]
     },
     "execution_count": 79,
     "metadata": {},
     "output_type": "execute_result"
    }
   ],
   "source": [
    "song_df_array"
   ]
  },
  {
   "cell_type": "code",
   "execution_count": 80,
   "metadata": {},
   "outputs": [
    {
     "data": {
      "text/plain": [
       "array([[0.0039818 ],\n",
       "       [0.03412969],\n",
       "       [0.00056883],\n",
       "       ...,\n",
       "       [0.02673493],\n",
       "       [0.00682594],\n",
       "       [0.00113766]])"
      ]
     },
     "execution_count": 80,
     "metadata": {},
     "output_type": "execute_result"
    }
   ],
   "source": [
    "user_freq_count_mean.reshape(-1,1)"
   ]
  },
  {
   "cell_type": "code",
   "execution_count": 81,
   "metadata": {},
   "outputs": [
    {
     "data": {
      "text/plain": [
       "array([[-0.0039818 , -0.0039818 , -0.0039818 , ..., -0.0039818 ,\n",
       "        -0.0039818 , -0.0039818 ],\n",
       "       [-0.03412969, -0.03412969, -0.03412969, ..., -0.03412969,\n",
       "        -0.03412969, -0.03412969],\n",
       "       [-0.00056883, -0.00056883, -0.00056883, ..., -0.00056883,\n",
       "        -0.00056883, -0.00056883],\n",
       "       ...,\n",
       "       [-0.02673493, -0.02673493, -0.02673493, ..., -0.02673493,\n",
       "        -0.02673493, -0.02673493],\n",
       "       [-0.00682594, -0.00682594, -0.00682594, ..., -0.00682594,\n",
       "        -0.00682594, -0.00682594],\n",
       "       [-0.00113766, -0.00113766, -0.00113766, ..., -0.00113766,\n",
       "        -0.00113766, -0.00113766]])"
      ]
     },
     "execution_count": 81,
     "metadata": {},
     "output_type": "execute_result"
    }
   ],
   "source": [
    "# printing our normalized array\n",
    "song_df_array_norm       "
   ]
  },
  {
   "cell_type": "markdown",
   "metadata": {},
   "source": [
    "### Basics of Singular Value Decomposition¶\n",
    "Now as we have a very sparse matrix, so we will be using the SVD algorithm from the scipy.sparse.linalg library\n",
    "SVDs from scipy.sparse.linalg computes the largest or smallest k singular values/vectors for a sparse matrix.\n",
    "In the svds function we will input two things - our sparse matrix i.e. R_demeaned and k which is number of singular values and vectors to compute.\n",
    "the svds function will output three matrices to us - U, Sigma, and Vtranspose.\n",
    "The contents/ details of every matrix is described below\n",
    "\n",
    "U matrix - The relationship between users and latent factors is represented by U, a m x r orthogonal left singular matrix.\n",
    "Sigma Matrix - S is a r x r diagonal matrix, which describes the strength of each latent factor.\n",
    "V transpose Matrix - V is a r x n diagonal right singular matrix that shows how items and latent factors are connected.\n",
    "The latent factors here are the characteristics of the item. By removing the utility matrix A's latent factors, the SVD reduces its dimension. It creates an r-dimensional latent space for each user and item. This mapping makes it easier to see the connections between users and items."
   ]
  },
  {
   "cell_type": "code",
   "execution_count": 82,
   "metadata": {},
   "outputs": [],
   "source": [
    "# as described above we will import the svds function from the scipy.sparse.linalg library because we have a sparse matrix.\n",
    "from scipy.sparse.linalg import svds\n",
    "U_matrix, sigma_matrix, V_t_matrix = svds(song_df_array_norm, k = 50)"
   ]
  },
  {
   "cell_type": "markdown",
   "metadata": {},
   "source": [
    "## Creating Predicted Dataframe based on predicted ratings\n",
    "## Usinf SVD"
   ]
  },
  {
   "cell_type": "code",
   "execution_count": 83,
   "metadata": {},
   "outputs": [
    {
     "data": {
      "text/html": [
       "<div>\n",
       "<style scoped>\n",
       "    .dataframe tbody tr th:only-of-type {\n",
       "        vertical-align: middle;\n",
       "    }\n",
       "\n",
       "    .dataframe tbody tr th {\n",
       "        vertical-align: top;\n",
       "    }\n",
       "\n",
       "    .dataframe thead th {\n",
       "        text-align: right;\n",
       "    }\n",
       "</style>\n",
       "<table border=\"1\" class=\"dataframe\">\n",
       "  <thead>\n",
       "    <tr style=\"text-align: right;\">\n",
       "      <th>song_id</th>\n",
       "      <th>SOAAROC12A6D4FA420</th>\n",
       "      <th>SOAAVUV12AB0186646</th>\n",
       "      <th>SOAAWEE12A6D4FBEC8</th>\n",
       "      <th>SOABHYV12A6D4F6D0F</th>\n",
       "      <th>SOABJBU12A8C13F63F</th>\n",
       "      <th>SOACIPG12A8AE47E1C</th>\n",
       "      <th>SOADISH12AB018DFAC</th>\n",
       "      <th>SOADJQJ12A8C141D38</th>\n",
       "      <th>SOADOQJ12A8AE45C7E</th>\n",
       "      <th>SOADQPP12A67020C82</th>\n",
       "      <th>...</th>\n",
       "      <th>SOZVVMJ12A58A7C548</th>\n",
       "      <th>SOZVVRE12A8C143150</th>\n",
       "      <th>SOZWWTF12A8C1408E2</th>\n",
       "      <th>SOZXHNM12AB017CDEA</th>\n",
       "      <th>SOZXKIA12A6D4F861C</th>\n",
       "      <th>SOZXMYX12AB018A445</th>\n",
       "      <th>SOZYDZR12A8C13F4F0</th>\n",
       "      <th>SOZYSDT12A8C13BFD7</th>\n",
       "      <th>SOZYUGZ12A8AE472AC</th>\n",
       "      <th>SOZZTNF12A8C139916</th>\n",
       "    </tr>\n",
       "  </thead>\n",
       "  <tbody>\n",
       "    <tr>\n",
       "      <th>0</th>\n",
       "      <td>0.000487</td>\n",
       "      <td>-0.000964</td>\n",
       "      <td>-0.001350</td>\n",
       "      <td>0.001906</td>\n",
       "      <td>-0.001918</td>\n",
       "      <td>-0.000950</td>\n",
       "      <td>0.001200</td>\n",
       "      <td>-0.007204</td>\n",
       "      <td>0.001008</td>\n",
       "      <td>0.000360</td>\n",
       "      <td>...</td>\n",
       "      <td>0.007009</td>\n",
       "      <td>-0.086732</td>\n",
       "      <td>0.000769</td>\n",
       "      <td>0.000112</td>\n",
       "      <td>0.000702</td>\n",
       "      <td>0.008534</td>\n",
       "      <td>0.000432</td>\n",
       "      <td>0.000960</td>\n",
       "      <td>-0.000595</td>\n",
       "      <td>-0.000743</td>\n",
       "    </tr>\n",
       "    <tr>\n",
       "      <th>1</th>\n",
       "      <td>0.034029</td>\n",
       "      <td>0.028250</td>\n",
       "      <td>0.034174</td>\n",
       "      <td>0.033649</td>\n",
       "      <td>0.035722</td>\n",
       "      <td>0.034627</td>\n",
       "      <td>0.033985</td>\n",
       "      <td>0.092698</td>\n",
       "      <td>0.034199</td>\n",
       "      <td>0.033571</td>\n",
       "      <td>...</td>\n",
       "      <td>0.034184</td>\n",
       "      <td>0.008388</td>\n",
       "      <td>0.033691</td>\n",
       "      <td>0.033559</td>\n",
       "      <td>0.034070</td>\n",
       "      <td>0.033726</td>\n",
       "      <td>0.034216</td>\n",
       "      <td>0.041657</td>\n",
       "      <td>0.036234</td>\n",
       "      <td>0.034241</td>\n",
       "    </tr>\n",
       "    <tr>\n",
       "      <th>2</th>\n",
       "      <td>0.000639</td>\n",
       "      <td>0.000521</td>\n",
       "      <td>0.000624</td>\n",
       "      <td>0.000618</td>\n",
       "      <td>0.000599</td>\n",
       "      <td>0.000630</td>\n",
       "      <td>0.000645</td>\n",
       "      <td>-0.000090</td>\n",
       "      <td>0.000639</td>\n",
       "      <td>0.000578</td>\n",
       "      <td>...</td>\n",
       "      <td>0.000640</td>\n",
       "      <td>-0.000796</td>\n",
       "      <td>0.000644</td>\n",
       "      <td>0.000635</td>\n",
       "      <td>0.000637</td>\n",
       "      <td>0.000643</td>\n",
       "      <td>0.000637</td>\n",
       "      <td>0.000563</td>\n",
       "      <td>0.000627</td>\n",
       "      <td>0.000641</td>\n",
       "    </tr>\n",
       "    <tr>\n",
       "      <th>3</th>\n",
       "      <td>0.005957</td>\n",
       "      <td>0.017903</td>\n",
       "      <td>0.009308</td>\n",
       "      <td>0.003937</td>\n",
       "      <td>0.030525</td>\n",
       "      <td>0.001654</td>\n",
       "      <td>0.003270</td>\n",
       "      <td>0.174886</td>\n",
       "      <td>0.003203</td>\n",
       "      <td>0.011993</td>\n",
       "      <td>...</td>\n",
       "      <td>0.003729</td>\n",
       "      <td>0.042965</td>\n",
       "      <td>0.005161</td>\n",
       "      <td>0.005128</td>\n",
       "      <td>0.005812</td>\n",
       "      <td>0.003576</td>\n",
       "      <td>0.003294</td>\n",
       "      <td>0.019445</td>\n",
       "      <td>0.001648</td>\n",
       "      <td>0.003686</td>\n",
       "    </tr>\n",
       "    <tr>\n",
       "      <th>4</th>\n",
       "      <td>0.001482</td>\n",
       "      <td>0.002205</td>\n",
       "      <td>0.001226</td>\n",
       "      <td>0.001252</td>\n",
       "      <td>0.002841</td>\n",
       "      <td>0.000764</td>\n",
       "      <td>0.001137</td>\n",
       "      <td>0.001409</td>\n",
       "      <td>0.001035</td>\n",
       "      <td>0.006019</td>\n",
       "      <td>...</td>\n",
       "      <td>0.001184</td>\n",
       "      <td>-0.008796</td>\n",
       "      <td>0.001007</td>\n",
       "      <td>0.000830</td>\n",
       "      <td>0.001200</td>\n",
       "      <td>0.002122</td>\n",
       "      <td>0.001230</td>\n",
       "      <td>0.000320</td>\n",
       "      <td>0.000867</td>\n",
       "      <td>0.000480</td>\n",
       "    </tr>\n",
       "  </tbody>\n",
       "</table>\n",
       "<p>5 rows × 1758 columns</p>\n",
       "</div>"
      ],
      "text/plain": [
       "song_id  SOAAROC12A6D4FA420  SOAAVUV12AB0186646  SOAAWEE12A6D4FBEC8  \\\n",
       "0                  0.000487           -0.000964           -0.001350   \n",
       "1                  0.034029            0.028250            0.034174   \n",
       "2                  0.000639            0.000521            0.000624   \n",
       "3                  0.005957            0.017903            0.009308   \n",
       "4                  0.001482            0.002205            0.001226   \n",
       "\n",
       "song_id  SOABHYV12A6D4F6D0F  SOABJBU12A8C13F63F  SOACIPG12A8AE47E1C  \\\n",
       "0                  0.001906           -0.001918           -0.000950   \n",
       "1                  0.033649            0.035722            0.034627   \n",
       "2                  0.000618            0.000599            0.000630   \n",
       "3                  0.003937            0.030525            0.001654   \n",
       "4                  0.001252            0.002841            0.000764   \n",
       "\n",
       "song_id  SOADISH12AB018DFAC  SOADJQJ12A8C141D38  SOADOQJ12A8AE45C7E  \\\n",
       "0                  0.001200           -0.007204            0.001008   \n",
       "1                  0.033985            0.092698            0.034199   \n",
       "2                  0.000645           -0.000090            0.000639   \n",
       "3                  0.003270            0.174886            0.003203   \n",
       "4                  0.001137            0.001409            0.001035   \n",
       "\n",
       "song_id  SOADQPP12A67020C82  ...  SOZVVMJ12A58A7C548  SOZVVRE12A8C143150  \\\n",
       "0                  0.000360  ...            0.007009           -0.086732   \n",
       "1                  0.033571  ...            0.034184            0.008388   \n",
       "2                  0.000578  ...            0.000640           -0.000796   \n",
       "3                  0.011993  ...            0.003729            0.042965   \n",
       "4                  0.006019  ...            0.001184           -0.008796   \n",
       "\n",
       "song_id  SOZWWTF12A8C1408E2  SOZXHNM12AB017CDEA  SOZXKIA12A6D4F861C  \\\n",
       "0                  0.000769            0.000112            0.000702   \n",
       "1                  0.033691            0.033559            0.034070   \n",
       "2                  0.000644            0.000635            0.000637   \n",
       "3                  0.005161            0.005128            0.005812   \n",
       "4                  0.001007            0.000830            0.001200   \n",
       "\n",
       "song_id  SOZXMYX12AB018A445  SOZYDZR12A8C13F4F0  SOZYSDT12A8C13BFD7  \\\n",
       "0                  0.008534            0.000432            0.000960   \n",
       "1                  0.033726            0.034216            0.041657   \n",
       "2                  0.000643            0.000637            0.000563   \n",
       "3                  0.003576            0.003294            0.019445   \n",
       "4                  0.002122            0.001230            0.000320   \n",
       "\n",
       "song_id  SOZYUGZ12A8AE472AC  SOZZTNF12A8C139916  \n",
       "0                 -0.000595           -0.000743  \n",
       "1                  0.036234            0.034241  \n",
       "2                  0.000627            0.000641  \n",
       "3                  0.001648            0.003686  \n",
       "4                  0.000867            0.000480  \n",
       "\n",
       "[5 rows x 1758 columns]"
      ]
     },
     "execution_count": 83,
     "metadata": {},
     "output_type": "execute_result"
    }
   ],
   "source": [
    "sigma_matrix = np.diag(sigma_matrix)\n",
    "\n",
    "# here we are first taking the dot product of the U_matrix and the sigma_matrix\n",
    "# in the next step, we are taking the dot product of the dot product of U and sigma matrix and V transpose Matrix\n",
    "# finally we will be adding the mean of the user_freq_count to the dot product above as the regularization term\n",
    "\n",
    "\n",
    "Predicted_Ratings_users = np.dot(np.dot(U_matrix, sigma_matrix), V_t_matrix) + user_freq_count_mean.reshape(-1, 1)\n",
    "\n",
    "# here we are creating our predicted data frame based on the predicted ratings we have calculated above\n",
    "\n",
    "df_predicted_data = pd.DataFrame(Predicted_Ratings_users, columns = songs_df_pivot.columns)\n",
    "df_predicted_data.head()"
   ]
  },
  {
   "cell_type": "markdown",
   "metadata": {},
   "source": [
    "## Using surprise library for song predictions"
   ]
  },
  {
   "cell_type": "markdown",
   "metadata": {},
   "source": [
    "### Evaluating the RMSE of our model¶\n",
    "Through a library called Surprise , we will be finding out the rmse.\n",
    "\n",
    "1. Surprise is a library in Python used for analyzing recommender systems.\n",
    "2. It is used to calculate the RMSE of our model.\n",
    "3. RMSE - RMSE stands for Root Mean Squared Error. This is defined as the square root of the average squared distance between the actual score and the predicted score"
   ]
  },
  {
   "cell_type": "code",
   "execution_count": 84,
   "metadata": {},
   "outputs": [],
   "source": [
    "from surprise import SVD\n",
    "from surprise import Dataset, Reader\n",
    "from surprise import accuracy\n",
    "from surprise.model_selection import train_test_split    # from the surprise library we are importing all necessary libraries\n",
    "from surprise.model_selection import GridSearchCV\n",
    "from surprise.model_selection import cross_validate"
   ]
  },
  {
   "cell_type": "code",
   "execution_count": 85,
   "metadata": {},
   "outputs": [
    {
     "data": {
      "text/html": [
       "<div>\n",
       "<style scoped>\n",
       "    .dataframe tbody tr th:only-of-type {\n",
       "        vertical-align: middle;\n",
       "    }\n",
       "\n",
       "    .dataframe tbody tr th {\n",
       "        vertical-align: top;\n",
       "    }\n",
       "\n",
       "    .dataframe thead th {\n",
       "        text-align: right;\n",
       "    }\n",
       "</style>\n",
       "<table border=\"1\" class=\"dataframe\">\n",
       "  <thead>\n",
       "    <tr style=\"text-align: right;\">\n",
       "      <th></th>\n",
       "      <th>user_id</th>\n",
       "      <th>song_id</th>\n",
       "      <th>freq</th>\n",
       "      <th>artist_name</th>\n",
       "      <th>title</th>\n",
       "      <th>song</th>\n",
       "    </tr>\n",
       "  </thead>\n",
       "  <tbody>\n",
       "    <tr>\n",
       "      <th>0</th>\n",
       "      <td>fd50c4007b68a3737fe052d5a4f78ce8aa117f3d</td>\n",
       "      <td>SOBONKR12A58A7A7E0</td>\n",
       "      <td>1</td>\n",
       "      <td>Dwight Yoakam</td>\n",
       "      <td>You're The One</td>\n",
       "      <td>Dwight Yoakam-You're The One</td>\n",
       "    </tr>\n",
       "    <tr>\n",
       "      <th>1</th>\n",
       "      <td>fd50c4007b68a3737fe052d5a4f78ce8aa117f3d</td>\n",
       "      <td>SOEGIYH12A6D4FC0E3</td>\n",
       "      <td>1</td>\n",
       "      <td>Barry Tuckwell/Academy of St Martin-in-the-Fie...</td>\n",
       "      <td>Horn Concerto No. 4 in E flat K495: II. Romanc...</td>\n",
       "      <td>Barry Tuckwell/Academy of St Martin-in-the-Fie...</td>\n",
       "    </tr>\n",
       "    <tr>\n",
       "      <th>2</th>\n",
       "      <td>fd50c4007b68a3737fe052d5a4f78ce8aa117f3d</td>\n",
       "      <td>SOFLJQZ12A6D4FADA6</td>\n",
       "      <td>1</td>\n",
       "      <td>Cartola</td>\n",
       "      <td>Tive Sim</td>\n",
       "      <td>Cartola-Tive Sim</td>\n",
       "    </tr>\n",
       "    <tr>\n",
       "      <th>3</th>\n",
       "      <td>fd50c4007b68a3737fe052d5a4f78ce8aa117f3d</td>\n",
       "      <td>SOHTKMO12AB01843B0</td>\n",
       "      <td>1</td>\n",
       "      <td>Lonnie Gordon</td>\n",
       "      <td>Catch You Baby (Steve Pitron &amp; Max Sanna Radio...</td>\n",
       "      <td>Lonnie Gordon-Catch You Baby (Steve Pitron &amp; M...</td>\n",
       "    </tr>\n",
       "    <tr>\n",
       "      <th>4</th>\n",
       "      <td>fd50c4007b68a3737fe052d5a4f78ce8aa117f3d</td>\n",
       "      <td>SODQZCY12A6D4F9D11</td>\n",
       "      <td>1</td>\n",
       "      <td>Miguel Calo</td>\n",
       "      <td>El Cuatrero</td>\n",
       "      <td>Miguel Calo-El Cuatrero</td>\n",
       "    </tr>\n",
       "    <tr>\n",
       "      <th>...</th>\n",
       "      <td>...</td>\n",
       "      <td>...</td>\n",
       "      <td>...</td>\n",
       "      <td>...</td>\n",
       "      <td>...</td>\n",
       "      <td>...</td>\n",
       "    </tr>\n",
       "    <tr>\n",
       "      <th>1450928</th>\n",
       "      <td>5e650759ebf89012044c6d52121eeada8b0ec814</td>\n",
       "      <td>SOVLNXV12A6D4F706E</td>\n",
       "      <td>1</td>\n",
       "      <td>Mos Def</td>\n",
       "      <td>Ms. Fat Booty</td>\n",
       "      <td>Mos Def-Ms. Fat Booty</td>\n",
       "    </tr>\n",
       "    <tr>\n",
       "      <th>1450929</th>\n",
       "      <td>5e650759ebf89012044c6d52121eeada8b0ec814</td>\n",
       "      <td>SOVDSJC12A58A7A271</td>\n",
       "      <td>2</td>\n",
       "      <td>Sam Cooke</td>\n",
       "      <td>Ain't Misbehavin</td>\n",
       "      <td>Sam Cooke-Ain't Misbehavin</td>\n",
       "    </tr>\n",
       "    <tr>\n",
       "      <th>1450930</th>\n",
       "      <td>5e650759ebf89012044c6d52121eeada8b0ec814</td>\n",
       "      <td>SOBRHVR12A8C133F35</td>\n",
       "      <td>2</td>\n",
       "      <td>Southside Spinners</td>\n",
       "      <td>Luvstruck</td>\n",
       "      <td>Southside Spinners-Luvstruck</td>\n",
       "    </tr>\n",
       "    <tr>\n",
       "      <th>1450931</th>\n",
       "      <td>5e650759ebf89012044c6d52121eeada8b0ec814</td>\n",
       "      <td>SOMGVYU12A8C1314FF</td>\n",
       "      <td>2</td>\n",
       "      <td>J. Karjalainen &amp; Mustat Lasit</td>\n",
       "      <td>Sinisten tähtien alla</td>\n",
       "      <td>J. Karjalainen &amp; Mustat Lasit-Sinisten tähtien...</td>\n",
       "    </tr>\n",
       "    <tr>\n",
       "      <th>1450932</th>\n",
       "      <td>5e650759ebf89012044c6d52121eeada8b0ec814</td>\n",
       "      <td>SOTCMDJ12A6D4F8528</td>\n",
       "      <td>3</td>\n",
       "      <td>Angels and Airwaves</td>\n",
       "      <td>The Gift</td>\n",
       "      <td>Angels and Airwaves-The Gift</td>\n",
       "    </tr>\n",
       "  </tbody>\n",
       "</table>\n",
       "<p>1450932 rows × 6 columns</p>\n",
       "</div>"
      ],
      "text/plain": [
       "                                          user_id             song_id  freq  \\\n",
       "0        fd50c4007b68a3737fe052d5a4f78ce8aa117f3d  SOBONKR12A58A7A7E0     1   \n",
       "1        fd50c4007b68a3737fe052d5a4f78ce8aa117f3d  SOEGIYH12A6D4FC0E3     1   \n",
       "2        fd50c4007b68a3737fe052d5a4f78ce8aa117f3d  SOFLJQZ12A6D4FADA6     1   \n",
       "3        fd50c4007b68a3737fe052d5a4f78ce8aa117f3d  SOHTKMO12AB01843B0     1   \n",
       "4        fd50c4007b68a3737fe052d5a4f78ce8aa117f3d  SODQZCY12A6D4F9D11     1   \n",
       "...                                           ...                 ...   ...   \n",
       "1450928  5e650759ebf89012044c6d52121eeada8b0ec814  SOVLNXV12A6D4F706E     1   \n",
       "1450929  5e650759ebf89012044c6d52121eeada8b0ec814  SOVDSJC12A58A7A271     2   \n",
       "1450930  5e650759ebf89012044c6d52121eeada8b0ec814  SOBRHVR12A8C133F35     2   \n",
       "1450931  5e650759ebf89012044c6d52121eeada8b0ec814  SOMGVYU12A8C1314FF     2   \n",
       "1450932  5e650759ebf89012044c6d52121eeada8b0ec814  SOTCMDJ12A6D4F8528     3   \n",
       "\n",
       "                                               artist_name  \\\n",
       "0                                            Dwight Yoakam   \n",
       "1        Barry Tuckwell/Academy of St Martin-in-the-Fie...   \n",
       "2                                                  Cartola   \n",
       "3                                            Lonnie Gordon   \n",
       "4                                              Miguel Calo   \n",
       "...                                                    ...   \n",
       "1450928                                            Mos Def   \n",
       "1450929                                          Sam Cooke   \n",
       "1450930                                 Southside Spinners   \n",
       "1450931                      J. Karjalainen & Mustat Lasit   \n",
       "1450932                                Angels and Airwaves   \n",
       "\n",
       "                                                     title  \\\n",
       "0                                           You're The One   \n",
       "1        Horn Concerto No. 4 in E flat K495: II. Romanc...   \n",
       "2                                                 Tive Sim   \n",
       "3        Catch You Baby (Steve Pitron & Max Sanna Radio...   \n",
       "4                                              El Cuatrero   \n",
       "...                                                    ...   \n",
       "1450928                                      Ms. Fat Booty   \n",
       "1450929                                   Ain't Misbehavin   \n",
       "1450930                                          Luvstruck   \n",
       "1450931                              Sinisten tähtien alla   \n",
       "1450932                                           The Gift   \n",
       "\n",
       "                                                      song  \n",
       "0                             Dwight Yoakam-You're The One  \n",
       "1        Barry Tuckwell/Academy of St Martin-in-the-Fie...  \n",
       "2                                         Cartola-Tive Sim  \n",
       "3        Lonnie Gordon-Catch You Baby (Steve Pitron & M...  \n",
       "4                                  Miguel Calo-El Cuatrero  \n",
       "...                                                    ...  \n",
       "1450928                              Mos Def-Ms. Fat Booty  \n",
       "1450929                         Sam Cooke-Ain't Misbehavin  \n",
       "1450930                       Southside Spinners-Luvstruck  \n",
       "1450931  J. Karjalainen & Mustat Lasit-Sinisten tähtien...  \n",
       "1450932                       Angels and Airwaves-The Gift  \n",
       "\n",
       "[1450932 rows x 6 columns]"
      ]
     },
     "execution_count": 85,
     "metadata": {},
     "output_type": "execute_result"
    }
   ],
   "source": [
    "song_df"
   ]
  },
  {
   "cell_type": "code",
   "execution_count": 86,
   "metadata": {},
   "outputs": [],
   "source": [
    "song_user = song_df.groupby('song_id')['user_id'].count()  # counting the number of songs listened by each user"
   ]
  },
  {
   "cell_type": "code",
   "execution_count": 87,
   "metadata": {},
   "outputs": [],
   "source": [
    "user_listens_song = song_df.groupby('user_id')['song_id'].count() # dataframe to filter inactive users\n",
    "songs_and_users = song_df.groupby('song_id')['user_id'].count() # dataframe to filter unpopular songs\n",
    "\n",
    "final_users_list = user_listens_song[user_listens_song > 10].index.to_list() # specifying condition to filter users \n",
    "final_songs_list = songs_and_users[songs_and_users > 100].index.to_list() # specifying conditions to filter songs"
   ]
  },
  {
   "cell_type": "code",
   "execution_count": 88,
   "metadata": {},
   "outputs": [
    {
     "name": "stdout",
     "output_type": "stream",
     "text": [
      "shape of original songs dataset:  (1450932, 6)\n",
      "shape of songs dataset after dropping inactive users:  (1067426, 6)\n",
      "shape of songs dataset after dropping unpopualar songs and inactive users both is:  (319229, 6)\n",
      "\n",
      "therefore our final dataset after removing the inactive users and unpopular songs has these many observations:   319229\n",
      "\n"
     ]
    }
   ],
   "source": [
    "# Finally we are combining both the dataframes to arrive at our final dataframe.\n",
    "# our final dataframe consists of users who have listened to more than 10 songs \n",
    "# and songs which have been listened to more than 100 times\n",
    "\n",
    "song_df_drop_users = song_df[song_df['user_id'].isin(final_users_list)].reset_index(drop=True)\n",
    "song_df_final = song_df_drop_users[song_df_drop_users['song_id'].isin(final_songs_list)].reset_index(drop=True) # this is our final dataframe\n",
    "\n",
    "# here we will be printing the characteristics of our final dataset that we have created after filtering songs and users.\n",
    "\n",
    "print('shape of original songs dataset: ', song_df.shape)\n",
    "print('shape of songs dataset after dropping inactive users: ', song_df_drop_users.shape)\n",
    "print('shape of songs dataset after dropping unpopualar songs and inactive users both is: ', song_df_final.shape)\n",
    "print(\"\")\n",
    "print(\"therefore our final dataset after removing the inactive users and unpopular songs has these many observations:  \",song_df_final.shape[0])\n",
    "print(\"\")\n",
    "#song_df_final.head(5)"
   ]
  },
  {
   "cell_type": "code",
   "execution_count": 89,
   "metadata": {},
   "outputs": [
    {
     "data": {
      "text/html": [
       "<div>\n",
       "<style scoped>\n",
       "    .dataframe tbody tr th:only-of-type {\n",
       "        vertical-align: middle;\n",
       "    }\n",
       "\n",
       "    .dataframe tbody tr th {\n",
       "        vertical-align: top;\n",
       "    }\n",
       "\n",
       "    .dataframe thead th {\n",
       "        text-align: right;\n",
       "    }\n",
       "</style>\n",
       "<table border=\"1\" class=\"dataframe\">\n",
       "  <thead>\n",
       "    <tr style=\"text-align: right;\">\n",
       "      <th></th>\n",
       "      <th>user_id</th>\n",
       "      <th>song_id</th>\n",
       "      <th>freq</th>\n",
       "      <th>artist_name</th>\n",
       "      <th>title</th>\n",
       "      <th>song</th>\n",
       "    </tr>\n",
       "  </thead>\n",
       "  <tbody>\n",
       "    <tr>\n",
       "      <th>0</th>\n",
       "      <td>d7083f5e1d50c264277d624340edaaf3dc16095b</td>\n",
       "      <td>SOUVUHC12A67020E3B</td>\n",
       "      <td>1</td>\n",
       "      <td>Moby</td>\n",
       "      <td>Lift Me Up</td>\n",
       "      <td>Moby-Lift Me Up</td>\n",
       "    </tr>\n",
       "    <tr>\n",
       "      <th>1</th>\n",
       "      <td>9be82340a8b5ef32357fe5af957ccd54736ece95</td>\n",
       "      <td>SOFEGST12A58A7D682</td>\n",
       "      <td>1</td>\n",
       "      <td>Vampire Weekend</td>\n",
       "      <td>Oxford Comma (Album)</td>\n",
       "      <td>Vampire Weekend-Oxford Comma (Album)</td>\n",
       "    </tr>\n",
       "    <tr>\n",
       "      <th>2</th>\n",
       "      <td>841b2394ae3a9febbd6b06497b4a8ee8eb24b7f8</td>\n",
       "      <td>SOSHJHA12AB0181410</td>\n",
       "      <td>1</td>\n",
       "      <td>A Day To Remember</td>\n",
       "      <td>The Downfall Of Us All</td>\n",
       "      <td>A Day To Remember-The Downfall Of Us All</td>\n",
       "    </tr>\n",
       "    <tr>\n",
       "      <th>3</th>\n",
       "      <td>841b2394ae3a9febbd6b06497b4a8ee8eb24b7f8</td>\n",
       "      <td>SOEIKRK12AB017D6E0</td>\n",
       "      <td>2</td>\n",
       "      <td>A Day To Remember</td>\n",
       "      <td>Have Faith In Me</td>\n",
       "      <td>A Day To Remember-Have Faith In Me</td>\n",
       "    </tr>\n",
       "    <tr>\n",
       "      <th>4</th>\n",
       "      <td>ef0d21935a2f8ae90571dbfab800f87fa5b38769</td>\n",
       "      <td>SOHOTAA12A8AE45F43</td>\n",
       "      <td>1</td>\n",
       "      <td>Octopus Project</td>\n",
       "      <td>Marshall Examines His Carcass</td>\n",
       "      <td>Octopus Project-Marshall Examines His Carcass</td>\n",
       "    </tr>\n",
       "  </tbody>\n",
       "</table>\n",
       "</div>"
      ],
      "text/plain": [
       "                                    user_id             song_id  freq  \\\n",
       "0  d7083f5e1d50c264277d624340edaaf3dc16095b  SOUVUHC12A67020E3B     1   \n",
       "1  9be82340a8b5ef32357fe5af957ccd54736ece95  SOFEGST12A58A7D682     1   \n",
       "2  841b2394ae3a9febbd6b06497b4a8ee8eb24b7f8  SOSHJHA12AB0181410     1   \n",
       "3  841b2394ae3a9febbd6b06497b4a8ee8eb24b7f8  SOEIKRK12AB017D6E0     2   \n",
       "4  ef0d21935a2f8ae90571dbfab800f87fa5b38769  SOHOTAA12A8AE45F43     1   \n",
       "\n",
       "         artist_name                          title  \\\n",
       "0               Moby                     Lift Me Up   \n",
       "1    Vampire Weekend           Oxford Comma (Album)   \n",
       "2  A Day To Remember         The Downfall Of Us All   \n",
       "3  A Day To Remember               Have Faith In Me   \n",
       "4    Octopus Project  Marshall Examines His Carcass   \n",
       "\n",
       "                                            song  \n",
       "0                                Moby-Lift Me Up  \n",
       "1           Vampire Weekend-Oxford Comma (Album)  \n",
       "2       A Day To Remember-The Downfall Of Us All  \n",
       "3             A Day To Remember-Have Faith In Me  \n",
       "4  Octopus Project-Marshall Examines His Carcass  "
      ]
     },
     "execution_count": 89,
     "metadata": {},
     "output_type": "execute_result"
    }
   ],
   "source": [
    "#This is our final reduced dataframe\n",
    "song_df_final.head(5)"
   ]
  },
  {
   "cell_type": "code",
   "execution_count": 90,
   "metadata": {},
   "outputs": [
    {
     "data": {
      "text/plain": [
       "(319229, 6)"
      ]
     },
     "execution_count": 90,
     "metadata": {},
     "output_type": "execute_result"
    }
   ],
   "source": [
    "song_df_final.shape"
   ]
  },
  {
   "cell_type": "code",
   "execution_count": 91,
   "metadata": {},
   "outputs": [
    {
     "data": {
      "image/png": "[encoded data removed]",
      "text/plain": [
       "<Figure size 1152x576 with 1 Axes>"
      ]
     },
     "metadata": {
      "needs_background": "light"
     },
     "output_type": "display_data"
    }
   ],
   "source": [
    "# our next step is to divide the freq value in bins.\n",
    "# now our highest freq value is 2214 so we create ten bins\n",
    "# any listen_count value between 9 and 2214 is part of the last bin\n",
    "bins = [0, 1, 2, 3, 4, 5, 6, 7, 8, 9, 2214]\n",
    "song_df_final['freq'] = pd.cut(song_df_final['freq'], bins=bins, labels=[1, 2, 3, 4, 5, 6, 7, 8, 9, 10])\n",
    "freq_counts = pd.DataFrame(song_df_final.groupby('freq').size(), columns=['count']).reset_index(drop=False)\n",
    "\n",
    "plt.figure(figsize=(16, 8))\n",
    "sns.barplot(x='freq', y='count', palette='Set3', data=freq_counts) # plotting the bar plot of the freq values we created\n",
    "plt.gca().spines['top'].set_visible(False)\n",
    "plt.gca().spines['right'].set_visible(False)\n",
    "plt.show();"
   ]
  },
  {
   "cell_type": "code",
   "execution_count": 92,
   "metadata": {},
   "outputs": [],
   "source": [
    "reader = Reader(rating_scale=(1, 10)) # The Reader class in surprise library is used to parse a file containing ratings\n",
    "data = Dataset.load_from_df(song_df_final[['user_id', 'song_id', 'freq']], reader)"
   ]
  },
  {
   "cell_type": "code",
   "execution_count": 93,
   "metadata": {},
   "outputs": [],
   "source": [
    "trainset, testset = train_test_split(data, test_size=.25) # here we are splitting the data into training and testing"
   ]
  },
  {
   "cell_type": "code",
   "execution_count": 94,
   "metadata": {},
   "outputs": [],
   "source": [
    "# here we are defining the list of hyperparameters that we want GridsearchCV to check and give us the best hyperparameters in output\n",
    "\n",
    "param_grid = {'n_factors': [160], \n",
    "              'n_epochs': [100], \n",
    "              'lr_all': [0.001, 0.005],  \n",
    "              'reg_all': [0.08, 0.1]}"
   ]
  },
  {
   "cell_type": "markdown",
   "metadata": {},
   "source": [
    "## How does GridSearchCV work?\n",
    "1. Once specifying hyperparameters and an array of potential values in the param_grid dictionary, GridSearchCV() calculates a score for each combination of hyperparameters on a k-fold cross validated dataset and returns the set of parameters that minimises the mean score across folds. Both the number of folds and the score can be selected by the user (hyper-hyperparameter?!) — we use 3 folds and RMSE accuracy score.\n",
    "\n",
    "2. The parameters that we are using in GridsearchCV are -\n",
    "\n",
    "3. estimator - the model for which we want to find the best hyperparameters\n",
    "4. param_grid - the dictionary in which we have specified the hyperparameters we want to try\n",
    "5. cv - No of cross-validations we want our model to execute.\n",
    "6. n_jobs - number of procedures that we wish to run in parallel.\n",
    "7. joblib_verbose - in order to get a detailed print out while we try to fit the data to GridSearchCV"
   ]
  },
  {
   "cell_type": "code",
   "execution_count": 95,
   "metadata": {},
   "outputs": [],
   "source": [
    "# here we are defining the parameters and passing it to the GridSearchCV function\n",
    "grid_search_svd = GridSearchCV(SVD, param_grid, measures=['rmse'], cv=3, joblib_verbose=4, n_jobs=-2)"
   ]
  },
  {
   "cell_type": "code",
   "execution_count": 96,
   "metadata": {},
   "outputs": [
    {
     "name": "stderr",
     "output_type": "stream",
     "text": [
      "[Parallel(n_jobs=-2)]: Using backend LokyBackend with 3 concurrent workers.\n"
     ]
    },
    {
     "name": "stdout",
     "output_type": "stream",
     "text": [
      "2.5010538103355273\n",
      "{'n_factors': 160, 'n_epochs': 100, 'lr_all': 0.005, 'reg_all': 0.1}\n"
     ]
    },
    {
     "name": "stderr",
     "output_type": "stream",
     "text": [
      "[Parallel(n_jobs=-2)]: Done  12 out of  12 | elapsed: 21.1min finished\n"
     ]
    }
   ],
   "source": [
    "# find the best parameters for the model\n",
    "grid_search_svd.fit(data)\n",
    "find_algo = grid_search_svd.best_estimator['rmse']    #Using an accuracy measure as key, get the algorithm that gave the best accuracy results for the chosen measure, averaged over all splits.\n",
    "print(grid_search_svd.best_score['rmse'])    # here we are printing the best rmse score that our GridSearchCV got\n",
    "print(grid_search_svd.best_params['rmse'])  # here we are printing the best parameters that our GridsearchCV found out"
   ]
  },
  {
   "cell_type": "code",
   "execution_count": 97,
   "metadata": {},
   "outputs": [
    {
     "name": "stdout",
     "output_type": "stream",
     "text": [
      "Evaluating RMSE of algorithm SVD on 5 split(s).\n",
      "\n",
      "                  Fold 1  Fold 2  Fold 3  Fold 4  Fold 5  Mean    Std     \n",
      "RMSE (testset)    2.4565  2.4766  2.4748  2.4856  2.4769  2.4741  0.0095  \n",
      "Fit time          211.20  231.51  251.45  248.07  283.88  245.22  24.03   \n",
      "Test time         1.37    1.08    1.39    0.99    1.40    1.25    0.17    \n"
     ]
    },
    {
     "data": {
      "text/plain": [
       "{'test_rmse': array([2.4565081 , 2.47657015, 2.47481955, 2.48558139, 2.47688075]),\n",
       " 'fit_time': (211.20444440841675,\n",
       "  231.51254630088806,\n",
       "  251.45188069343567,\n",
       "  248.0681173801422,\n",
       "  283.87554574012756),\n",
       " 'test_time': (1.3744711875915527,\n",
       "  1.083831548690796,\n",
       "  1.3897569179534912,\n",
       "  0.9933276176452637,\n",
       "  1.3994650840759277)}"
      ]
     },
     "execution_count": 97,
     "metadata": {},
     "output_type": "execute_result"
    }
   ],
   "source": [
    "# Now we will perform the cross validation using the cross_validate function\n",
    "cross_validate(find_algo, data, measures=['RMSE'], cv=5, verbose=True)"
   ]
  },
  {
   "cell_type": "code",
   "execution_count": 99,
   "metadata": {},
   "outputs": [
    {
     "data": {
      "text/plain": [
       "<surprise.prediction_algorithms.matrix_factorization.SVD at 0x191b16bd8d0>"
      ]
     },
     "execution_count": 99,
     "metadata": {},
     "output_type": "execute_result"
    },
    {
     "name": "stdout",
     "output_type": "stream",
     "text": [
      "RMSE: 2.4809\n",
      "The RMSE is 2.4808994429763134\n"
     ]
    }
   ],
   "source": [
    "# finally we will input the best parameters that we found above using GridSearchCV in our final algorithm\n",
    "# Then we will fit the final_algorithm to our training set\n",
    "# and finally we will test the test dataset and print out the RMSE score.\n",
    "\n",
    "final_algorithm = SVD(n_factors=160, n_epochs=100, lr_all=0.005, reg_all=0.1)\n",
    "final_algorithm.fit(trainset)\n",
    "test_predictions = final_algorithm.test(testset)\n",
    "print(f\"The RMSE is {accuracy.rmse(test_predictions, verbose=True)}\")"
   ]
  },
  {
   "cell_type": "code",
   "execution_count": null,
   "metadata": {},
   "outputs": [],
   "source": []
  }
 ],
 "metadata": {
  "kernelspec": {
   "display_name": "Python 3",
   "language": "python",
   "name": "python3"
  },
  "language_info": {
   "codemirror_mode": {
    "name": "ipython",
    "version": 3
   },
   "file_extension": ".py",
   "mimetype": "text/x-python",
   "name": "python",
   "nbconvert_exporter": "python",
   "pygments_lexer": "ipython3",
   "version": "3.7.1"
  }
 },
 "nbformat": 4,
 "nbformat_minor": 4
}
