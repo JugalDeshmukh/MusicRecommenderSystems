{
 "cells": [
  {
   "cell_type": "code",
   "execution_count": 1,
   "metadata": {},
   "outputs": [],
   "source": [
    "import warnings\n",
    "warnings.filterwarnings('ignore')\n",
    "\n",
    "from IPython.core.interactiveshell import InteractiveShell\n",
    "InteractiveShell.ast_node_interactivity = 'all'\n",
    "\n",
    "\n",
    "import math\n",
    "import numpy as np\n",
    "import pandas as pd\n",
    "\n",
    "import seaborn as sns\n",
    "import matplotlib.pyplot as plt\n",
    "sns.set_style('whitegrid')\n",
    "%matplotlib inline"
   ]
  },
  {
   "cell_type": "code",
   "execution_count": 2,
   "metadata": {},
   "outputs": [],
   "source": [
    "kaggle_visible_evaluation = pd. read_csv(\"kaggle_visible_evaluation_triplets.txt\", sep=\"\\t\",names=['user_id','song_id','freq'])"
   ]
  },
  {
   "cell_type": "code",
   "execution_count": 3,
   "metadata": {},
   "outputs": [
    {
     "data": {
      "text/html": [
       "<div>\n",
       "<style scoped>\n",
       "    .dataframe tbody tr th:only-of-type {\n",
       "        vertical-align: middle;\n",
       "    }\n",
       "\n",
       "    .dataframe tbody tr th {\n",
       "        vertical-align: top;\n",
       "    }\n",
       "\n",
       "    .dataframe thead th {\n",
       "        text-align: right;\n",
       "    }\n",
       "</style>\n",
       "<table border=\"1\" class=\"dataframe\">\n",
       "  <thead>\n",
       "    <tr style=\"text-align: right;\">\n",
       "      <th></th>\n",
       "      <th>user_id</th>\n",
       "      <th>song_id</th>\n",
       "      <th>freq</th>\n",
       "    </tr>\n",
       "  </thead>\n",
       "  <tbody>\n",
       "    <tr>\n",
       "      <th>0</th>\n",
       "      <td>fd50c4007b68a3737fe052d5a4f78ce8aa117f3d</td>\n",
       "      <td>SOBONKR12A58A7A7E0</td>\n",
       "      <td>1</td>\n",
       "    </tr>\n",
       "    <tr>\n",
       "      <th>1</th>\n",
       "      <td>fd50c4007b68a3737fe052d5a4f78ce8aa117f3d</td>\n",
       "      <td>SOEGIYH12A6D4FC0E3</td>\n",
       "      <td>1</td>\n",
       "    </tr>\n",
       "    <tr>\n",
       "      <th>2</th>\n",
       "      <td>fd50c4007b68a3737fe052d5a4f78ce8aa117f3d</td>\n",
       "      <td>SOFLJQZ12A6D4FADA6</td>\n",
       "      <td>1</td>\n",
       "    </tr>\n",
       "    <tr>\n",
       "      <th>3</th>\n",
       "      <td>fd50c4007b68a3737fe052d5a4f78ce8aa117f3d</td>\n",
       "      <td>SOHTKMO12AB01843B0</td>\n",
       "      <td>1</td>\n",
       "    </tr>\n",
       "    <tr>\n",
       "      <th>4</th>\n",
       "      <td>fd50c4007b68a3737fe052d5a4f78ce8aa117f3d</td>\n",
       "      <td>SODQZCY12A6D4F9D11</td>\n",
       "      <td>1</td>\n",
       "    </tr>\n",
       "  </tbody>\n",
       "</table>\n",
       "</div>"
      ],
      "text/plain": [
       "                                    user_id             song_id  freq\n",
       "0  fd50c4007b68a3737fe052d5a4f78ce8aa117f3d  SOBONKR12A58A7A7E0     1\n",
       "1  fd50c4007b68a3737fe052d5a4f78ce8aa117f3d  SOEGIYH12A6D4FC0E3     1\n",
       "2  fd50c4007b68a3737fe052d5a4f78ce8aa117f3d  SOFLJQZ12A6D4FADA6     1\n",
       "3  fd50c4007b68a3737fe052d5a4f78ce8aa117f3d  SOHTKMO12AB01843B0     1\n",
       "4  fd50c4007b68a3737fe052d5a4f78ce8aa117f3d  SODQZCY12A6D4F9D11     1"
      ]
     },
     "execution_count": 3,
     "metadata": {},
     "output_type": "execute_result"
    }
   ],
   "source": [
    "kaggle_visible_evaluation.head()"
   ]
  },
  {
   "cell_type": "code",
   "execution_count": 4,
   "metadata": {},
   "outputs": [],
   "source": [
    "unique_tracks = pd. read_csv(\"unique_tracks.txt\",sep='<SEP>',names= ['track_id','song_id','artist_name','title'])"
   ]
  },
  {
   "cell_type": "code",
   "execution_count": 5,
   "metadata": {},
   "outputs": [
    {
     "data": {
      "text/html": [
       "<div>\n",
       "<style scoped>\n",
       "    .dataframe tbody tr th:only-of-type {\n",
       "        vertical-align: middle;\n",
       "    }\n",
       "\n",
       "    .dataframe tbody tr th {\n",
       "        vertical-align: top;\n",
       "    }\n",
       "\n",
       "    .dataframe thead th {\n",
       "        text-align: right;\n",
       "    }\n",
       "</style>\n",
       "<table border=\"1\" class=\"dataframe\">\n",
       "  <thead>\n",
       "    <tr style=\"text-align: right;\">\n",
       "      <th></th>\n",
       "      <th>track_id</th>\n",
       "      <th>song_id</th>\n",
       "      <th>artist_name</th>\n",
       "      <th>title</th>\n",
       "    </tr>\n",
       "  </thead>\n",
       "  <tbody>\n",
       "    <tr>\n",
       "      <th>0</th>\n",
       "      <td>TRMMMYQ128F932D901</td>\n",
       "      <td>SOQMMHC12AB0180CB8</td>\n",
       "      <td>Faster Pussy cat</td>\n",
       "      <td>Silent Night</td>\n",
       "    </tr>\n",
       "    <tr>\n",
       "      <th>1</th>\n",
       "      <td>TRMMMKD128F425225D</td>\n",
       "      <td>SOVFVAK12A8C1350D9</td>\n",
       "      <td>Karkkiautomaatti</td>\n",
       "      <td>Tanssi vaan</td>\n",
       "    </tr>\n",
       "    <tr>\n",
       "      <th>2</th>\n",
       "      <td>TRMMMRX128F93187D9</td>\n",
       "      <td>SOGTUKN12AB017F4F1</td>\n",
       "      <td>Hudson Mohawke</td>\n",
       "      <td>No One Could Ever</td>\n",
       "    </tr>\n",
       "    <tr>\n",
       "      <th>3</th>\n",
       "      <td>TRMMMCH128F425532C</td>\n",
       "      <td>SOBNYVR12A8C13558C</td>\n",
       "      <td>Yerba Brava</td>\n",
       "      <td>Si Vos QuerÃ©s</td>\n",
       "    </tr>\n",
       "    <tr>\n",
       "      <th>4</th>\n",
       "      <td>TRMMMWA128F426B589</td>\n",
       "      <td>SOHSBXH12A8C13B0DF</td>\n",
       "      <td>Der Mystic</td>\n",
       "      <td>Tangle Of Aspens</td>\n",
       "    </tr>\n",
       "  </tbody>\n",
       "</table>\n",
       "</div>"
      ],
      "text/plain": [
       "             track_id             song_id       artist_name              title\n",
       "0  TRMMMYQ128F932D901  SOQMMHC12AB0180CB8  Faster Pussy cat       Silent Night\n",
       "1  TRMMMKD128F425225D  SOVFVAK12A8C1350D9  Karkkiautomaatti        Tanssi vaan\n",
       "2  TRMMMRX128F93187D9  SOGTUKN12AB017F4F1    Hudson Mohawke  No One Could Ever\n",
       "3  TRMMMCH128F425532C  SOBNYVR12A8C13558C       Yerba Brava     Si Vos QuerÃ©s\n",
       "4  TRMMMWA128F426B589  SOHSBXH12A8C13B0DF        Der Mystic   Tangle Of Aspens"
      ]
     },
     "execution_count": 5,
     "metadata": {},
     "output_type": "execute_result"
    }
   ],
   "source": [
    "unique_tracks.head()"
   ]
  },
  {
   "cell_type": "code",
   "execution_count": 6,
   "metadata": {},
   "outputs": [],
   "source": [
    "song_df = pd.merge(kaggle_visible_evaluation,unique_tracks.drop_duplicates(['song_id']), on=\"song_id\", how=\"left\")\n"
   ]
  },
  {
   "cell_type": "code",
   "execution_count": 7,
   "metadata": {},
   "outputs": [
    {
     "data": {
      "text/html": [
       "<div>\n",
       "<style scoped>\n",
       "    .dataframe tbody tr th:only-of-type {\n",
       "        vertical-align: middle;\n",
       "    }\n",
       "\n",
       "    .dataframe tbody tr th {\n",
       "        vertical-align: top;\n",
       "    }\n",
       "\n",
       "    .dataframe thead th {\n",
       "        text-align: right;\n",
       "    }\n",
       "</style>\n",
       "<table border=\"1\" class=\"dataframe\">\n",
       "  <thead>\n",
       "    <tr style=\"text-align: right;\">\n",
       "      <th></th>\n",
       "      <th>user_id</th>\n",
       "      <th>song_id</th>\n",
       "      <th>freq</th>\n",
       "      <th>track_id</th>\n",
       "      <th>artist_name</th>\n",
       "      <th>title</th>\n",
       "    </tr>\n",
       "  </thead>\n",
       "  <tbody>\n",
       "    <tr>\n",
       "      <th>0</th>\n",
       "      <td>fd50c4007b68a3737fe052d5a4f78ce8aa117f3d</td>\n",
       "      <td>SOBONKR12A58A7A7E0</td>\n",
       "      <td>1</td>\n",
       "      <td>TRAEHHJ12903CF492F</td>\n",
       "      <td>Dwight Yoakam</td>\n",
       "      <td>You're The One</td>\n",
       "    </tr>\n",
       "    <tr>\n",
       "      <th>1</th>\n",
       "      <td>fd50c4007b68a3737fe052d5a4f78ce8aa117f3d</td>\n",
       "      <td>SOEGIYH12A6D4FC0E3</td>\n",
       "      <td>1</td>\n",
       "      <td>TRLGMFJ128F4217DBE</td>\n",
       "      <td>Barry Tuckwell/Academy of St Martin-in-the-Fie...</td>\n",
       "      <td>Horn Concerto No. 4 in E flat K495: II. Romanc...</td>\n",
       "    </tr>\n",
       "    <tr>\n",
       "      <th>2</th>\n",
       "      <td>fd50c4007b68a3737fe052d5a4f78ce8aa117f3d</td>\n",
       "      <td>SOFLJQZ12A6D4FADA6</td>\n",
       "      <td>1</td>\n",
       "      <td>TRTNDNE128F1486812</td>\n",
       "      <td>Cartola</td>\n",
       "      <td>Tive Sim</td>\n",
       "    </tr>\n",
       "    <tr>\n",
       "      <th>3</th>\n",
       "      <td>fd50c4007b68a3737fe052d5a4f78ce8aa117f3d</td>\n",
       "      <td>SOHTKMO12AB01843B0</td>\n",
       "      <td>1</td>\n",
       "      <td>TRASTUE128F930D488</td>\n",
       "      <td>Lonnie Gordon</td>\n",
       "      <td>Catch You Baby (Steve Pitron &amp; Max Sanna Radio...</td>\n",
       "    </tr>\n",
       "    <tr>\n",
       "      <th>4</th>\n",
       "      <td>fd50c4007b68a3737fe052d5a4f78ce8aa117f3d</td>\n",
       "      <td>SODQZCY12A6D4F9D11</td>\n",
       "      <td>1</td>\n",
       "      <td>TRFPLWO128F1486B9E</td>\n",
       "      <td>Miguel Calo</td>\n",
       "      <td>El Cuatrero</td>\n",
       "    </tr>\n",
       "  </tbody>\n",
       "</table>\n",
       "</div>"
      ],
      "text/plain": [
       "                                    user_id             song_id  freq  \\\n",
       "0  fd50c4007b68a3737fe052d5a4f78ce8aa117f3d  SOBONKR12A58A7A7E0     1   \n",
       "1  fd50c4007b68a3737fe052d5a4f78ce8aa117f3d  SOEGIYH12A6D4FC0E3     1   \n",
       "2  fd50c4007b68a3737fe052d5a4f78ce8aa117f3d  SOFLJQZ12A6D4FADA6     1   \n",
       "3  fd50c4007b68a3737fe052d5a4f78ce8aa117f3d  SOHTKMO12AB01843B0     1   \n",
       "4  fd50c4007b68a3737fe052d5a4f78ce8aa117f3d  SODQZCY12A6D4F9D11     1   \n",
       "\n",
       "             track_id                                        artist_name  \\\n",
       "0  TRAEHHJ12903CF492F                                      Dwight Yoakam   \n",
       "1  TRLGMFJ128F4217DBE  Barry Tuckwell/Academy of St Martin-in-the-Fie...   \n",
       "2  TRTNDNE128F1486812                                            Cartola   \n",
       "3  TRASTUE128F930D488                                      Lonnie Gordon   \n",
       "4  TRFPLWO128F1486B9E                                        Miguel Calo   \n",
       "\n",
       "                                               title  \n",
       "0                                     You're The One  \n",
       "1  Horn Concerto No. 4 in E flat K495: II. Romanc...  \n",
       "2                                           Tive Sim  \n",
       "3  Catch You Baby (Steve Pitron & Max Sanna Radio...  \n",
       "4                                        El Cuatrero  "
      ]
     },
     "execution_count": 7,
     "metadata": {},
     "output_type": "execute_result"
    }
   ],
   "source": [
    "song_df.head()"
   ]
  },
  {
   "cell_type": "markdown",
   "metadata": {},
   "source": [
    "**Let's delete the unnessery columns**"
   ]
  },
  {
   "cell_type": "code",
   "execution_count": 8,
   "metadata": {},
   "outputs": [],
   "source": [
    "song_df.drop(['track_id'],axis=1, inplace=True)"
   ]
  },
  {
   "cell_type": "markdown",
   "metadata": {},
   "source": [
    "# Final data is"
   ]
  },
  {
   "cell_type": "code",
   "execution_count": 9,
   "metadata": {},
   "outputs": [
    {
     "data": {
      "text/html": [
       "<div>\n",
       "<style scoped>\n",
       "    .dataframe tbody tr th:only-of-type {\n",
       "        vertical-align: middle;\n",
       "    }\n",
       "\n",
       "    .dataframe tbody tr th {\n",
       "        vertical-align: top;\n",
       "    }\n",
       "\n",
       "    .dataframe thead th {\n",
       "        text-align: right;\n",
       "    }\n",
       "</style>\n",
       "<table border=\"1\" class=\"dataframe\">\n",
       "  <thead>\n",
       "    <tr style=\"text-align: right;\">\n",
       "      <th></th>\n",
       "      <th>user_id</th>\n",
       "      <th>song_id</th>\n",
       "      <th>freq</th>\n",
       "      <th>artist_name</th>\n",
       "      <th>title</th>\n",
       "    </tr>\n",
       "  </thead>\n",
       "  <tbody>\n",
       "    <tr>\n",
       "      <th>0</th>\n",
       "      <td>fd50c4007b68a3737fe052d5a4f78ce8aa117f3d</td>\n",
       "      <td>SOBONKR12A58A7A7E0</td>\n",
       "      <td>1</td>\n",
       "      <td>Dwight Yoakam</td>\n",
       "      <td>You're The One</td>\n",
       "    </tr>\n",
       "    <tr>\n",
       "      <th>1</th>\n",
       "      <td>fd50c4007b68a3737fe052d5a4f78ce8aa117f3d</td>\n",
       "      <td>SOEGIYH12A6D4FC0E3</td>\n",
       "      <td>1</td>\n",
       "      <td>Barry Tuckwell/Academy of St Martin-in-the-Fie...</td>\n",
       "      <td>Horn Concerto No. 4 in E flat K495: II. Romanc...</td>\n",
       "    </tr>\n",
       "    <tr>\n",
       "      <th>2</th>\n",
       "      <td>fd50c4007b68a3737fe052d5a4f78ce8aa117f3d</td>\n",
       "      <td>SOFLJQZ12A6D4FADA6</td>\n",
       "      <td>1</td>\n",
       "      <td>Cartola</td>\n",
       "      <td>Tive Sim</td>\n",
       "    </tr>\n",
       "    <tr>\n",
       "      <th>3</th>\n",
       "      <td>fd50c4007b68a3737fe052d5a4f78ce8aa117f3d</td>\n",
       "      <td>SOHTKMO12AB01843B0</td>\n",
       "      <td>1</td>\n",
       "      <td>Lonnie Gordon</td>\n",
       "      <td>Catch You Baby (Steve Pitron &amp; Max Sanna Radio...</td>\n",
       "    </tr>\n",
       "    <tr>\n",
       "      <th>4</th>\n",
       "      <td>fd50c4007b68a3737fe052d5a4f78ce8aa117f3d</td>\n",
       "      <td>SODQZCY12A6D4F9D11</td>\n",
       "      <td>1</td>\n",
       "      <td>Miguel Calo</td>\n",
       "      <td>El Cuatrero</td>\n",
       "    </tr>\n",
       "  </tbody>\n",
       "</table>\n",
       "</div>"
      ],
      "text/plain": [
       "                                    user_id             song_id  freq  \\\n",
       "0  fd50c4007b68a3737fe052d5a4f78ce8aa117f3d  SOBONKR12A58A7A7E0     1   \n",
       "1  fd50c4007b68a3737fe052d5a4f78ce8aa117f3d  SOEGIYH12A6D4FC0E3     1   \n",
       "2  fd50c4007b68a3737fe052d5a4f78ce8aa117f3d  SOFLJQZ12A6D4FADA6     1   \n",
       "3  fd50c4007b68a3737fe052d5a4f78ce8aa117f3d  SOHTKMO12AB01843B0     1   \n",
       "4  fd50c4007b68a3737fe052d5a4f78ce8aa117f3d  SODQZCY12A6D4F9D11     1   \n",
       "\n",
       "                                         artist_name  \\\n",
       "0                                      Dwight Yoakam   \n",
       "1  Barry Tuckwell/Academy of St Martin-in-the-Fie...   \n",
       "2                                            Cartola   \n",
       "3                                      Lonnie Gordon   \n",
       "4                                        Miguel Calo   \n",
       "\n",
       "                                               title  \n",
       "0                                     You're The One  \n",
       "1  Horn Concerto No. 4 in E flat K495: II. Romanc...  \n",
       "2                                           Tive Sim  \n",
       "3  Catch You Baby (Steve Pitron & Max Sanna Radio...  \n",
       "4                                        El Cuatrero  "
      ]
     },
     "execution_count": 9,
     "metadata": {},
     "output_type": "execute_result"
    }
   ],
   "source": [
    "song_df.head()"
   ]
  },
  {
   "cell_type": "code",
   "execution_count": 10,
   "metadata": {},
   "outputs": [
    {
     "data": {
      "text/plain": [
       "Index(['user_id', 'song_id', 'freq', 'artist_name', 'title'], dtype='object')"
      ]
     },
     "execution_count": 10,
     "metadata": {},
     "output_type": "execute_result"
    }
   ],
   "source": [
    "song_df.columns          # to know the column names in the data"
   ]
  },
  {
   "cell_type": "code",
   "execution_count": 11,
   "metadata": {},
   "outputs": [
    {
     "data": {
      "text/plain": [
       "(1450933, 5)"
      ]
     },
     "execution_count": 11,
     "metadata": {},
     "output_type": "execute_result"
    }
   ],
   "source": [
    "song_df.shape            # to the shape of the data"
   ]
  },
  {
   "cell_type": "code",
   "execution_count": 12,
   "metadata": {},
   "outputs": [
    {
     "name": "stdout",
     "output_type": "stream",
     "text": [
      "Total number of observations are: 1450933\n"
     ]
    }
   ],
   "source": [
    "print('Total number of observations are:',song_df.shape[0])"
   ]
  },
  {
   "cell_type": "markdown",
   "metadata": {},
   "source": [
    "### Let's check is there any missing values ###"
   ]
  },
  {
   "cell_type": "code",
   "execution_count": 13,
   "metadata": {},
   "outputs": [
    {
     "data": {
      "text/plain": [
       "user_id        0\n",
       "song_id        0\n",
       "freq           0\n",
       "artist_name    0\n",
       "title          1\n",
       "dtype: int64"
      ]
     },
     "execution_count": 13,
     "metadata": {},
     "output_type": "execute_result"
    }
   ],
   "source": [
    "song_df.isnull().sum()"
   ]
  },
  {
   "cell_type": "markdown",
   "metadata": {},
   "source": [
    "- There is 1 missing value in the release column data. let's drop that row"
   ]
  },
  {
   "cell_type": "code",
   "execution_count": 14,
   "metadata": {},
   "outputs": [],
   "source": [
    "song_df.dropna(inplace=True)"
   ]
  },
  {
   "cell_type": "code",
   "execution_count": 15,
   "metadata": {},
   "outputs": [
    {
     "data": {
      "text/plain": [
       "(1450932, 5)"
      ]
     },
     "execution_count": 15,
     "metadata": {},
     "output_type": "execute_result"
    }
   ],
   "source": [
    "song_df.shape"
   ]
  },
  {
   "cell_type": "code",
   "execution_count": 16,
   "metadata": {},
   "outputs": [
    {
     "name": "stdout",
     "output_type": "stream",
     "text": [
      "<class 'pandas.core.frame.DataFrame'>\n",
      "Int64Index: 1450932 entries, 0 to 1450932\n",
      "Data columns (total 5 columns):\n",
      " #   Column       Non-Null Count    Dtype \n",
      "---  ------       --------------    ----- \n",
      " 0   user_id      1450932 non-null  object\n",
      " 1   song_id      1450932 non-null  object\n",
      " 2   freq         1450932 non-null  int64 \n",
      " 3   artist_name  1450932 non-null  object\n",
      " 4   title        1450932 non-null  object\n",
      "dtypes: int64(1), object(4)\n",
      "memory usage: 66.4+ MB\n"
     ]
    }
   ],
   "source": [
    "song_df.info()"
   ]
  },
  {
   "cell_type": "markdown",
   "metadata": {},
   "source": [
    "- In the given data 4 are object type (**Categorical columns**) columns and 1 is int type(**Numaric type**)"
   ]
  },
  {
   "cell_type": "markdown",
   "metadata": {},
   "source": [
    "### Let's look in to column by column \n",
    "\n",
    "## Univariate analysis\n",
    "\n",
    "#### user "
   ]
  },
  {
   "cell_type": "code",
   "execution_count": 17,
   "metadata": {},
   "outputs": [
    {
     "name": "stdout",
     "output_type": "stream",
     "text": [
      "Total number of users in the data are : 110000\n"
     ]
    }
   ],
   "source": [
    "print('Total number of users in the data are :',song_df.user_id.nunique())"
   ]
  },
  {
   "cell_type": "code",
   "execution_count": 18,
   "metadata": {},
   "outputs": [
    {
     "data": {
      "text/plain": [
       "017711d03942d465ce084ea8a763342b557359e9    5\n",
       "1601ae7a5d798b0c08cc586325702d73b0877159    5\n",
       "6da40271abf5a33ea54efce2d4bb2aabd39a42e2    5\n",
       "e6b4b077e7cd98dfe2e6a7cc93b877d5b7f36fa6    5\n",
       "d0a5c90ceb7236401f525647c01406675fe36a06    5\n",
       "Name: user_id, dtype: int64"
      ]
     },
     "execution_count": 18,
     "metadata": {},
     "output_type": "execute_result"
    },
    {
     "name": "stdout",
     "output_type": "stream",
     "text": [
      "**************************************************\n"
     ]
    },
    {
     "data": {
      "text/plain": [
       "7d90be8dfdbde170f036ce8a4b915440137cb11c    53\n",
       "03ad93fdb01506ce205f4708decf8e4b1ae90fff    52\n",
       "2e424b28bff1f62a2dae22a918f09f9c30c06d1b    52\n",
       "d30e18323f15426c3cdc8585252ed34459916f51    52\n",
       "016a24e91a72c159a5048ab1b9b2ba5ce761b526    52\n",
       "Name: user_id, dtype: int64"
      ]
     },
     "execution_count": 18,
     "metadata": {},
     "output_type": "execute_result"
    }
   ],
   "source": [
    "song_df.user_id.value_counts().sort_values(ascending=True).head()\n",
    "print('**************************************************')\n",
    "song_df.user_id.value_counts().sort_values(ascending=False).head()"
   ]
  },
  {
   "cell_type": "code",
   "execution_count": 19,
   "metadata": {},
   "outputs": [],
   "source": [
    "user_info = pd.DataFrame(song_df.user_id.value_counts())"
   ]
  },
  {
   "cell_type": "code",
   "execution_count": 20,
   "metadata": {},
   "outputs": [
    {
     "data": {
      "text/html": [
       "<div>\n",
       "<style scoped>\n",
       "    .dataframe tbody tr th:only-of-type {\n",
       "        vertical-align: middle;\n",
       "    }\n",
       "\n",
       "    .dataframe tbody tr th {\n",
       "        vertical-align: top;\n",
       "    }\n",
       "\n",
       "    .dataframe thead th {\n",
       "        text-align: right;\n",
       "    }\n",
       "</style>\n",
       "<table border=\"1\" class=\"dataframe\">\n",
       "  <thead>\n",
       "    <tr style=\"text-align: right;\">\n",
       "      <th></th>\n",
       "      <th>user_id</th>\n",
       "    </tr>\n",
       "  </thead>\n",
       "  <tbody>\n",
       "    <tr>\n",
       "      <th>fbc2587a0ff4c74c90ce22f0796b04b1d3c25307</th>\n",
       "      <td>30</td>\n",
       "    </tr>\n",
       "    <tr>\n",
       "      <th>450f6c72e6f84da4e4419e3d7cb2184e3d9434da</th>\n",
       "      <td>30</td>\n",
       "    </tr>\n",
       "    <tr>\n",
       "      <th>cb99fed52828b48479654ff97bff98fe1087a359</th>\n",
       "      <td>30</td>\n",
       "    </tr>\n",
       "    <tr>\n",
       "      <th>d2fff30ce66a476ff883095a8823231b7549270d</th>\n",
       "      <td>30</td>\n",
       "    </tr>\n",
       "    <tr>\n",
       "      <th>a20fd232241c938169e5d0695f6e61a7de5a9beb</th>\n",
       "      <td>30</td>\n",
       "    </tr>\n",
       "    <tr>\n",
       "      <th>...</th>\n",
       "      <td>...</td>\n",
       "    </tr>\n",
       "    <tr>\n",
       "      <th>7e354124e631dbf2ae1943bf9e26d1faf2e1e34c</th>\n",
       "      <td>21</td>\n",
       "    </tr>\n",
       "    <tr>\n",
       "      <th>1542d2e053108306f8dfbcf8c92d9f10a23358be</th>\n",
       "      <td>21</td>\n",
       "    </tr>\n",
       "    <tr>\n",
       "      <th>0996fa6d8e9670079733a1404619505e7e776122</th>\n",
       "      <td>21</td>\n",
       "    </tr>\n",
       "    <tr>\n",
       "      <th>623bdd003b8edff83beb9879ca1042bcea508881</th>\n",
       "      <td>21</td>\n",
       "    </tr>\n",
       "    <tr>\n",
       "      <th>63e860778bcef03ea38a392c4e86cdf153573a39</th>\n",
       "      <td>21</td>\n",
       "    </tr>\n",
       "  </tbody>\n",
       "</table>\n",
       "<p>14392 rows × 1 columns</p>\n",
       "</div>"
      ],
      "text/plain": [
       "                                          user_id\n",
       "fbc2587a0ff4c74c90ce22f0796b04b1d3c25307       30\n",
       "450f6c72e6f84da4e4419e3d7cb2184e3d9434da       30\n",
       "cb99fed52828b48479654ff97bff98fe1087a359       30\n",
       "d2fff30ce66a476ff883095a8823231b7549270d       30\n",
       "a20fd232241c938169e5d0695f6e61a7de5a9beb       30\n",
       "...                                           ...\n",
       "7e354124e631dbf2ae1943bf9e26d1faf2e1e34c       21\n",
       "1542d2e053108306f8dfbcf8c92d9f10a23358be       21\n",
       "0996fa6d8e9670079733a1404619505e7e776122       21\n",
       "623bdd003b8edff83beb9879ca1042bcea508881       21\n",
       "63e860778bcef03ea38a392c4e86cdf153573a39       21\n",
       "\n",
       "[14392 rows x 1 columns]"
      ]
     },
     "execution_count": 20,
     "metadata": {},
     "output_type": "execute_result"
    }
   ],
   "source": [
    "user_info[(user_info.user_id>20) & (user_info.user_id<31)]"
   ]
  },
  {
   "cell_type": "code",
   "execution_count": 21,
   "metadata": {},
   "outputs": [],
   "source": [
    "user_less_then_5 = list(user_info[user_info.user_id <6].index)\n",
    "Between_6_to_10 = list(user_info[(user_info.user_id >5)&(user_info.user_id <11)].index)\n",
    "Between_11_to_20 = list(user_info[(user_info.user_id >10)&(user_info.user_id<21)].index)\n",
    "Between_21_to_30 = list(user_info[(user_info.user_id >20)&(user_info.user_id<31)].index)\n",
    "Between_31_to_40 = list(user_info[(user_info.user_id >30)&(user_info.user_id<41)].index)\n",
    "Between_41_to_50 = list(user_info[(user_info.user_id >40)&(user_info.user_id<51)].index)\n",
    "user_more_then_5 = list(user_info[user_info.user_id >50].index)"
   ]
  },
  {
   "cell_type": "code",
   "execution_count": 22,
   "metadata": {},
   "outputs": [],
   "source": [
    "user_data = {'less_then_5': len(user_less_then_5),\\\n",
    "            \"Between_6_to_10\":len(Between_6_to_10),\\\n",
    "            'Between_11_to_20':len(Between_11_to_20),\\\n",
    "            'Between_21_to_30':len(Between_21_to_30),\\\n",
    "            'Between_31_to_40':len(Between_31_to_40),\\\n",
    "            'Between_41_to_50':len(Between_41_to_50),\\\n",
    "            'user_more_then_5':len(user_more_then_5)}"
   ]
  },
  {
   "cell_type": "code",
   "execution_count": 23,
   "metadata": {},
   "outputs": [
    {
     "data": {
      "text/plain": [
       "{'less_then_5': 13097,\n",
       " 'Between_6_to_10': 41221,\n",
       " 'Between_11_to_20': 36179,\n",
       " 'Between_21_to_30': 14392,\n",
       " 'Between_31_to_40': 4525,\n",
       " 'Between_41_to_50': 574,\n",
       " 'user_more_then_5': 12}"
      ]
     },
     "execution_count": 23,
     "metadata": {},
     "output_type": "execute_result"
    }
   ],
   "source": [
    "user_data"
   ]
  },
  {
   "cell_type": "code",
   "execution_count": 24,
   "metadata": {},
   "outputs": [
    {
     "data": {
      "text/plain": [
       "<Figure size 1080x360 with 0 Axes>"
      ]
     },
     "execution_count": 24,
     "metadata": {},
     "output_type": "execute_result"
    },
    {
     "data": {
      "text/plain": [
       "<BarContainer object of 7 artists>"
      ]
     },
     "execution_count": 24,
     "metadata": {},
     "output_type": "execute_result"
    },
    {
     "data": {
      "image/png": "[encoded data removed]",
      "text/plain": [
       "<Figure size 1080x360 with 1 Axes>"
      ]
     },
     "metadata": {
      "needs_background": "light"
     },
     "output_type": "display_data"
    }
   ],
   "source": [
    "plt.figure(figsize=(15,5))\n",
    "keys = user_data. keys()\n",
    "values = user_data. values()\n",
    "plt. bar(keys, values)\n"
   ]
  },
  {
   "cell_type": "markdown",
   "metadata": {},
   "source": [
    "- As we are seeing the people who are listing songs in B/W 6 to 10 are more in the data"
   ]
  },
  {
   "cell_type": "markdown",
   "metadata": {},
   "source": [
    "- From above one we can say that every user is listing minimum of **5** songs\n",
    "- maximum number fo songs listed by single user in the given data is **53** songs"
   ]
  },
  {
   "cell_type": "markdown",
   "metadata": {},
   "source": [
    "### song id"
   ]
  },
  {
   "cell_type": "code",
   "execution_count": 25,
   "metadata": {},
   "outputs": [
    {
     "name": "stdout",
     "output_type": "stream",
     "text": [
      "Total number of unique songs in the data are : 163205\n"
     ]
    }
   ],
   "source": [
    "print('Total number of unique songs in the data are :',song_df.song_id.nunique())"
   ]
  },
  {
   "cell_type": "code",
   "execution_count": 26,
   "metadata": {},
   "outputs": [
    {
     "data": {
      "text/plain": [
       "SOXEKSB12A8C13A321    1\n",
       "SOOHFSU12AB0182929    1\n",
       "SOTORBP12A6D4F5FA6    1\n",
       "SOEMTVH12A8C140DB6    1\n",
       "SODWIQA12AB0182BBE    1\n",
       "Name: song_id, dtype: int64"
      ]
     },
     "execution_count": 26,
     "metadata": {},
     "output_type": "execute_result"
    },
    {
     "name": "stdout",
     "output_type": "stream",
     "text": [
      "**************************************************\n"
     ]
    },
    {
     "data": {
      "text/plain": [
       "SOFRQTD12A81C233C0    5043\n",
       "SOAUWYT12A81C206F1    4483\n",
       "SOBONKR12A58A7A7E0    4136\n",
       "SOAXGDH12A8C13F8A1    3780\n",
       "SOSXLTC12AF72A7F54    3672\n",
       "Name: song_id, dtype: int64"
      ]
     },
     "execution_count": 26,
     "metadata": {},
     "output_type": "execute_result"
    }
   ],
   "source": [
    "song_df.song_id.value_counts().sort_values(ascending=True).head()\n",
    "print('**************************************************')\n",
    "song_df.song_id.value_counts().sort_values(ascending=False).head()"
   ]
  },
  {
   "cell_type": "markdown",
   "metadata": {},
   "source": [
    "- **song id SOFRQTD12A81C233C0 is the highest number of listed song in the data.**\n",
    "- **There are some songs that are just listned once by user**"
   ]
  },
  {
   "cell_type": "code",
   "execution_count": 27,
   "metadata": {},
   "outputs": [
    {
     "data": {
      "text/plain": [
       "64746"
      ]
     },
     "execution_count": 27,
     "metadata": {},
     "output_type": "execute_result"
    }
   ],
   "source": [
    "(song_df.song_id.value_counts()==1).sum()"
   ]
  },
  {
   "cell_type": "code",
   "execution_count": null,
   "metadata": {},
   "outputs": [],
   "source": []
  },
  {
   "cell_type": "code",
   "execution_count": 28,
   "metadata": {},
   "outputs": [],
   "source": [
    "song_info = pd.DataFrame(song_df.song_id.value_counts())"
   ]
  },
  {
   "cell_type": "code",
   "execution_count": 29,
   "metadata": {},
   "outputs": [
    {
     "data": {
      "text/html": [
       "<div>\n",
       "<style scoped>\n",
       "    .dataframe tbody tr th:only-of-type {\n",
       "        vertical-align: middle;\n",
       "    }\n",
       "\n",
       "    .dataframe tbody tr th {\n",
       "        vertical-align: top;\n",
       "    }\n",
       "\n",
       "    .dataframe thead th {\n",
       "        text-align: right;\n",
       "    }\n",
       "</style>\n",
       "<table border=\"1\" class=\"dataframe\">\n",
       "  <thead>\n",
       "    <tr style=\"text-align: right;\">\n",
       "      <th></th>\n",
       "      <th>song_id</th>\n",
       "    </tr>\n",
       "  </thead>\n",
       "  <tbody>\n",
       "    <tr>\n",
       "      <th>SOFRQTD12A81C233C0</th>\n",
       "      <td>5043</td>\n",
       "    </tr>\n",
       "    <tr>\n",
       "      <th>SOAUWYT12A81C206F1</th>\n",
       "      <td>4483</td>\n",
       "    </tr>\n",
       "    <tr>\n",
       "      <th>SOBONKR12A58A7A7E0</th>\n",
       "      <td>4136</td>\n",
       "    </tr>\n",
       "    <tr>\n",
       "      <th>SOAXGDH12A8C13F8A1</th>\n",
       "      <td>3780</td>\n",
       "    </tr>\n",
       "    <tr>\n",
       "      <th>SOSXLTC12AF72A7F54</th>\n",
       "      <td>3672</td>\n",
       "    </tr>\n",
       "  </tbody>\n",
       "</table>\n",
       "</div>"
      ],
      "text/plain": [
       "                    song_id\n",
       "SOFRQTD12A81C233C0     5043\n",
       "SOAUWYT12A81C206F1     4483\n",
       "SOBONKR12A58A7A7E0     4136\n",
       "SOAXGDH12A8C13F8A1     3780\n",
       "SOSXLTC12AF72A7F54     3672"
      ]
     },
     "execution_count": 29,
     "metadata": {},
     "output_type": "execute_result"
    }
   ],
   "source": [
    "song_info.head()"
   ]
  },
  {
   "cell_type": "code",
   "execution_count": 30,
   "metadata": {},
   "outputs": [
    {
     "data": {
      "text/html": [
       "<div>\n",
       "<style scoped>\n",
       "    .dataframe tbody tr th:only-of-type {\n",
       "        vertical-align: middle;\n",
       "    }\n",
       "\n",
       "    .dataframe tbody tr th {\n",
       "        vertical-align: top;\n",
       "    }\n",
       "\n",
       "    .dataframe thead th {\n",
       "        text-align: right;\n",
       "    }\n",
       "</style>\n",
       "<table border=\"1\" class=\"dataframe\">\n",
       "  <thead>\n",
       "    <tr style=\"text-align: right;\">\n",
       "      <th></th>\n",
       "      <th>song_id</th>\n",
       "    </tr>\n",
       "  </thead>\n",
       "  <tbody>\n",
       "    <tr>\n",
       "      <th>SOOCBSG12AF72A76A0</th>\n",
       "      <td>1</td>\n",
       "    </tr>\n",
       "    <tr>\n",
       "      <th>SOTXHOJ12A8C138B48</th>\n",
       "      <td>1</td>\n",
       "    </tr>\n",
       "    <tr>\n",
       "      <th>SOMJGVA12A8C1430A2</th>\n",
       "      <td>1</td>\n",
       "    </tr>\n",
       "    <tr>\n",
       "      <th>SOJKENM12A58A7B527</th>\n",
       "      <td>1</td>\n",
       "    </tr>\n",
       "    <tr>\n",
       "      <th>SOZVOWF12AC90714E5</th>\n",
       "      <td>1</td>\n",
       "    </tr>\n",
       "    <tr>\n",
       "      <th>...</th>\n",
       "      <td>...</td>\n",
       "    </tr>\n",
       "    <tr>\n",
       "      <th>SOIQNIL12A8C132A0D</th>\n",
       "      <td>1</td>\n",
       "    </tr>\n",
       "    <tr>\n",
       "      <th>SOLPXMR12AB018B8C0</th>\n",
       "      <td>1</td>\n",
       "    </tr>\n",
       "    <tr>\n",
       "      <th>SORGTHN12AB0181134</th>\n",
       "      <td>1</td>\n",
       "    </tr>\n",
       "    <tr>\n",
       "      <th>SOCNKXY12AB017FD07</th>\n",
       "      <td>1</td>\n",
       "    </tr>\n",
       "    <tr>\n",
       "      <th>SOXEKSB12A8C13A321</th>\n",
       "      <td>1</td>\n",
       "    </tr>\n",
       "  </tbody>\n",
       "</table>\n",
       "<p>64746 rows × 1 columns</p>\n",
       "</div>"
      ],
      "text/plain": [
       "                    song_id\n",
       "SOOCBSG12AF72A76A0        1\n",
       "SOTXHOJ12A8C138B48        1\n",
       "SOMJGVA12A8C1430A2        1\n",
       "SOJKENM12A58A7B527        1\n",
       "SOZVOWF12AC90714E5        1\n",
       "...                     ...\n",
       "SOIQNIL12A8C132A0D        1\n",
       "SOLPXMR12AB018B8C0        1\n",
       "SORGTHN12AB0181134        1\n",
       "SOCNKXY12AB017FD07        1\n",
       "SOXEKSB12A8C13A321        1\n",
       "\n",
       "[64746 rows x 1 columns]"
      ]
     },
     "execution_count": 30,
     "metadata": {},
     "output_type": "execute_result"
    }
   ],
   "source": [
    "song_info[song_info.song_id==1]"
   ]
  },
  {
   "cell_type": "code",
   "execution_count": 31,
   "metadata": {},
   "outputs": [
    {
     "data": {
      "text/plain": [
       "39.67157868937839"
      ]
     },
     "execution_count": 31,
     "metadata": {},
     "output_type": "execute_result"
    }
   ],
   "source": [
    "(song_info[song_info.song_id==1].shape[0]/song_info.shape[0])*100"
   ]
  },
  {
   "cell_type": "markdown",
   "metadata": {},
   "source": [
    "- **In the given data there are 64746 songs that are just once by the user in the entire data. This value is nearly 40% in the total songs.**"
   ]
  },
  {
   "cell_type": "code",
   "execution_count": 32,
   "metadata": {},
   "outputs": [
    {
     "data": {
      "text/plain": [
       "Index(['SOFRQTD12A81C233C0', 'SOAUWYT12A81C206F1', 'SOBONKR12A58A7A7E0',\n",
       "       'SOAXGDH12A8C13F8A1', 'SOSXLTC12AF72A7F54', 'SONYKOW12AB01849C9',\n",
       "       'SOEGIYH12A6D4FC0E3', 'SODJWHY12A8C142CCE', 'SOLFXKT12AB017E3E0',\n",
       "       'SOFLJQZ12A6D4FADA6', 'SOUSMXX12AB0185C24', 'SOUVTSM12AC468F6A7',\n",
       "       'SOHTKMO12AB01843B0', 'SOTWNDJ12A8C143984', 'SOWCKVR12A8C142411',\n",
       "       'SOBOUPA12A6D4F81F1', 'SOOFYTN12A6D4F9B35', 'SOPUCYA12A8C13A694',\n",
       "       'SOVDSJC12A58A7A271', 'SOPPROJ12AB0184E18', 'SOKLRPJ12A8C13C3FE',\n",
       "       'SOPTLQL12AB018D56F', 'SOUFTBI12AB0183F65', 'SODGVGW12AC9075A8D',\n",
       "       'SOBOAFP12A8C131F36', 'SOSCIZP12AB0181D2F', 'SOCVTLJ12A6310F0FD',\n",
       "       'SOLRGVL12A8C143BC3', 'SOFKABN12A8AE476C6', 'SOXFPND12AB017C9D1',\n",
       "       'SOKUPAO12AB018D576', 'SOCKSGZ12A58A7CA4B', 'SOPXKYD12A6D4FA876',\n",
       "       'SOUNZHU12A8AE47481', 'SOTWSXL12A8C143349', 'SOTCMDJ12A6D4F8528',\n",
       "       'SOPQLBY12A6310E992', 'SOSZJFV12AB01878CB', 'SOULTKQ12AB018A183',\n",
       "       'SOGPBAW12A6D4F9F22', 'SOUFPNI12A8C142D19', 'SOADJQJ12A8C141D38',\n",
       "       'SOWEHOM12A6BD4E09E', 'SOVWADY12AB0189C63', 'SOANQFY12AB0183239',\n",
       "       'SOLLNTU12A6701CFDC', 'SONHWUN12AC468C014', 'SOWEJXA12A6701C574',\n",
       "       'SONQCXC12A6D4F6A37', 'SONIQRE12AF72A2B02'],\n",
       "      dtype='object')"
      ]
     },
     "execution_count": 32,
     "metadata": {},
     "output_type": "execute_result"
    }
   ],
   "source": [
    "song_info[song_info.song_id>1000].index"
   ]
  },
  {
   "cell_type": "code",
   "execution_count": 33,
   "metadata": {},
   "outputs": [],
   "source": [
    "song_listned_morethen_1000 = list(song_info[song_info.song_id>999].index)\n",
    "song_between_500_to_1000 = list(song_info[(song_info.song_id<1000)&(song_info.song_id>500)].index)\n",
    "song_between_500_to_100= list(song_info[(song_info.song_id<501)&(song_info.song_id>101)].index)\n",
    "song_between_100_to_50 = list(song_info[(song_info.song_id<101)&(song_info.song_id>50)].index)\n",
    "song_between_50_to_10 = list(song_info[(song_info.song_id<51)&(song_info.song_id>10)].index)\n",
    "song_between_10_to_5 = list(song_info[(song_info.song_id<11)&(song_info.song_id>5)].index)\n",
    "song_less_then_5 = list(song_info[song_info.song_id<6].index)"
   ]
  },
  {
   "cell_type": "code",
   "execution_count": 34,
   "metadata": {},
   "outputs": [],
   "source": [
    "song_data = {'song_listned_morethen_1000': len(song_listned_morethen_1000),\\\n",
    "            \"song_between_500_to_1000\":len(song_between_500_to_1000),\\\n",
    "            'song_between_500_to_100':len(song_between_500_to_100),\\\n",
    "            'song_between_100_to_50':len(song_between_100_to_50),\\\n",
    "            'song_between_50_to_10':len(song_between_50_to_10),\\\n",
    "            'song_between_10_to_5':len(song_between_10_to_5),\\\n",
    "            'song_less_then_5':len(song_less_then_5)}"
   ]
  },
  {
   "cell_type": "code",
   "execution_count": 35,
   "metadata": {},
   "outputs": [
    {
     "data": {
      "text/plain": [
       "{'song_listned_morethen_1000': 51,\n",
       " 'song_between_500_to_1000': 108,\n",
       " 'song_between_500_to_100': 1567,\n",
       " 'song_between_100_to_50': 2919,\n",
       " 'song_between_50_to_10': 19964,\n",
       " 'song_between_10_to_5': 16993,\n",
       " 'song_less_then_5': 121571}"
      ]
     },
     "execution_count": 35,
     "metadata": {},
     "output_type": "execute_result"
    }
   ],
   "source": [
    "song_data"
   ]
  },
  {
   "cell_type": "code",
   "execution_count": 36,
   "metadata": {},
   "outputs": [
    {
     "data": {
      "text/plain": [
       "<Figure size 1440x360 with 0 Axes>"
      ]
     },
     "execution_count": 36,
     "metadata": {},
     "output_type": "execute_result"
    },
    {
     "data": {
      "text/plain": [
       "<BarContainer object of 7 artists>"
      ]
     },
     "execution_count": 36,
     "metadata": {},
     "output_type": "execute_result"
    },
    {
     "data": {
      "image/png": "[encoded data removed]",
      "text/plain": [
       "<Figure size 1440x360 with 1 Axes>"
      ]
     },
     "metadata": {
      "needs_background": "light"
     },
     "output_type": "display_data"
    }
   ],
   "source": [
    "plt.figure(figsize=(20,5))\n",
    "keys = song_data. keys()\n",
    "values = song_data. values()\n",
    "plt. bar(keys, values)\n"
   ]
  },
  {
   "cell_type": "markdown",
   "metadata": {},
   "source": [
    "### Freq  \n",
    "\n",
    "- Number of times user listned single song"
   ]
  },
  {
   "cell_type": "code",
   "execution_count": 37,
   "metadata": {},
   "outputs": [
    {
     "data": {
      "text/plain": [
       "count    1.450932e+06\n",
       "mean     3.187151e+00\n",
       "std      7.051666e+00\n",
       "min      1.000000e+00\n",
       "25%      1.000000e+00\n",
       "50%      1.000000e+00\n",
       "75%      3.000000e+00\n",
       "max      9.230000e+02\n",
       "Name: freq, dtype: float64"
      ]
     },
     "execution_count": 37,
     "metadata": {},
     "output_type": "execute_result"
    }
   ],
   "source": [
    "song_df.freq.describe()                  # To get the basic staistics"
   ]
  },
  {
   "cell_type": "code",
   "execution_count": 38,
   "metadata": {},
   "outputs": [
    {
     "data": {
      "text/html": [
       "<div>\n",
       "<style scoped>\n",
       "    .dataframe tbody tr th:only-of-type {\n",
       "        vertical-align: middle;\n",
       "    }\n",
       "\n",
       "    .dataframe tbody tr th {\n",
       "        vertical-align: top;\n",
       "    }\n",
       "\n",
       "    .dataframe thead th {\n",
       "        text-align: right;\n",
       "    }\n",
       "</style>\n",
       "<table border=\"1\" class=\"dataframe\">\n",
       "  <thead>\n",
       "    <tr style=\"text-align: right;\">\n",
       "      <th></th>\n",
       "      <th>user_id</th>\n",
       "      <th>song_id</th>\n",
       "      <th>freq</th>\n",
       "      <th>artist_name</th>\n",
       "      <th>title</th>\n",
       "    </tr>\n",
       "  </thead>\n",
       "  <tbody>\n",
       "    <tr>\n",
       "      <th>1449167</th>\n",
       "      <td>22bb29714137fa47083963c30e1a26f1bf517e7d</td>\n",
       "      <td>SOXTUWG12AB018A2E2</td>\n",
       "      <td>923</td>\n",
       "      <td>Kilgore</td>\n",
       "      <td>Drop The Hammer (Album Version)</td>\n",
       "    </tr>\n",
       "  </tbody>\n",
       "</table>\n",
       "</div>"
      ],
      "text/plain": [
       "                                          user_id             song_id  freq  \\\n",
       "1449167  22bb29714137fa47083963c30e1a26f1bf517e7d  SOXTUWG12AB018A2E2   923   \n",
       "\n",
       "        artist_name                            title  \n",
       "1449167     Kilgore  Drop The Hammer (Album Version)  "
      ]
     },
     "execution_count": 38,
     "metadata": {},
     "output_type": "execute_result"
    }
   ],
   "source": [
    "song_df[song_df.freq ==923]"
   ]
  },
  {
   "cell_type": "markdown",
   "metadata": {},
   "source": [
    "- maximum number of times a song is listned by user is 923\n",
    "  - user id is **22bb29714137fa47083963c30e1a26f1bf517e7d**\n",
    "  - song id is **SOXTUWG12AB018A2E2**"
   ]
  },
  {
   "cell_type": "code",
   "execution_count": 39,
   "metadata": {},
   "outputs": [
    {
     "data": {
      "text/plain": [
       "<AxesSubplot:xlabel='freq', ylabel='Density'>"
      ]
     },
     "execution_count": 39,
     "metadata": {},
     "output_type": "execute_result"
    },
    {
     "data": {
      "image/png": "[encoded data removed]",
      "text/plain": [
       "<Figure size 432x288 with 1 Axes>"
      ]
     },
     "metadata": {
      "needs_background": "light"
     },
     "output_type": "display_data"
    }
   ],
   "source": [
    "sns.distplot(song_df.freq)"
   ]
  },
  {
   "cell_type": "code",
   "execution_count": 40,
   "metadata": {},
   "outputs": [
    {
     "data": {
      "text/plain": [
       "<Figure size 3600x288 with 0 Axes>"
      ]
     },
     "execution_count": 40,
     "metadata": {},
     "output_type": "execute_result"
    },
    {
     "data": {
      "text/plain": [
       "<AxesSubplot:>"
      ]
     },
     "execution_count": 40,
     "metadata": {},
     "output_type": "execute_result"
    },
    {
     "data": {
      "image/png": "[encoded data removed]",
      "text/plain": [
       "<Figure size 3600x288 with 1 Axes>"
      ]
     },
     "metadata": {
      "needs_background": "light"
     },
     "output_type": "display_data"
    }
   ],
   "source": [
    "plt.figure(figsize=(50,4))\n",
    "\n",
    "song_df.freq.value_counts().plot(kind='bar')"
   ]
  },
  {
   "cell_type": "code",
   "execution_count": 41,
   "metadata": {},
   "outputs": [
    {
     "data": {
      "text/plain": [
       "<AxesSubplot:>"
      ]
     },
     "execution_count": 41,
     "metadata": {},
     "output_type": "execute_result"
    },
    {
     "data": {
      "image/png": "[encoded data removed]",
      "text/plain": [
       "<Figure size 432x288 with 1 Axes>"
      ]
     },
     "metadata": {
      "needs_background": "light"
     },
     "output_type": "display_data"
    }
   ],
   "source": [
    "song_df.freq.hist()"
   ]
  },
  {
   "cell_type": "markdown",
   "metadata": {},
   "source": [
    "- From the two plots we can see that the most of the songs listned in B/W 1-50"
   ]
  },
  {
   "cell_type": "markdown",
   "metadata": {},
   "source": [
    "**Let's look in to the outliers**"
   ]
  },
  {
   "cell_type": "code",
   "execution_count": 42,
   "metadata": {},
   "outputs": [],
   "source": [
    "def Upper_lower(col):\n",
    "    Q1= np.percentile(col,25)\n",
    "    Q3= np.percentile(col,75)\n",
    "    IQR = Q3-Q1\n",
    "    Upper = Q3+1.5*IQR\n",
    "    Lower = Q1-1.5*IQR\n",
    "    return(Upper,Lower)\n",
    "    "
   ]
  },
  {
   "cell_type": "code",
   "execution_count": 43,
   "metadata": {},
   "outputs": [
    {
     "data": {
      "text/plain": [
       "(6.0, -2.0)"
      ]
     },
     "execution_count": 43,
     "metadata": {},
     "output_type": "execute_result"
    }
   ],
   "source": [
    "Upper,Lower = Upper_lower(song_df.freq)\n",
    "Upper,Lower"
   ]
  },
  {
   "cell_type": "code",
   "execution_count": 44,
   "metadata": {},
   "outputs": [
    {
     "data": {
      "text/html": [
       "<div>\n",
       "<style scoped>\n",
       "    .dataframe tbody tr th:only-of-type {\n",
       "        vertical-align: middle;\n",
       "    }\n",
       "\n",
       "    .dataframe tbody tr th {\n",
       "        vertical-align: top;\n",
       "    }\n",
       "\n",
       "    .dataframe thead th {\n",
       "        text-align: right;\n",
       "    }\n",
       "</style>\n",
       "<table border=\"1\" class=\"dataframe\">\n",
       "  <thead>\n",
       "    <tr style=\"text-align: right;\">\n",
       "      <th></th>\n",
       "      <th>user_id</th>\n",
       "      <th>song_id</th>\n",
       "      <th>freq</th>\n",
       "      <th>artist_name</th>\n",
       "      <th>title</th>\n",
       "    </tr>\n",
       "  </thead>\n",
       "  <tbody>\n",
       "    <tr>\n",
       "      <th>28</th>\n",
       "      <td>9be82340a8b5ef32357fe5af957ccd54736ece95</td>\n",
       "      <td>SOHGGAH12A58A795BE</td>\n",
       "      <td>15</td>\n",
       "      <td>Slum Village</td>\n",
       "      <td>Climax</td>\n",
       "    </tr>\n",
       "    <tr>\n",
       "      <th>55</th>\n",
       "      <td>91b8fac7dc5e03f6cfaf6e2aa7171f14a8354d62</td>\n",
       "      <td>SODBXDO12A6D4FCD4F</td>\n",
       "      <td>14</td>\n",
       "      <td>Dario Marianelli</td>\n",
       "      <td>Love Letters</td>\n",
       "    </tr>\n",
       "    <tr>\n",
       "      <th>62</th>\n",
       "      <td>91b8fac7dc5e03f6cfaf6e2aa7171f14a8354d62</td>\n",
       "      <td>SOUDGEV12A8C135FC9</td>\n",
       "      <td>10</td>\n",
       "      <td>Counting Crows / Vanessa Carlton</td>\n",
       "      <td>Big Yellow Taxi</td>\n",
       "    </tr>\n",
       "    <tr>\n",
       "      <th>86</th>\n",
       "      <td>0f40e074aab2c5f47b7ddc2277fb0295b5b3a058</td>\n",
       "      <td>SORIWEH12A8C13D4A6</td>\n",
       "      <td>54</td>\n",
       "      <td>Was (Not Was)</td>\n",
       "      <td>The Sky's Ablaze</td>\n",
       "    </tr>\n",
       "    <tr>\n",
       "      <th>119</th>\n",
       "      <td>e9dc6b4c2b22aa6dc8260e1963021567728055b2</td>\n",
       "      <td>SOYOMRA12A6D4F9975</td>\n",
       "      <td>11</td>\n",
       "      <td>Phil Collins</td>\n",
       "      <td>You Can't Hurry Love</td>\n",
       "    </tr>\n",
       "    <tr>\n",
       "      <th>...</th>\n",
       "      <td>...</td>\n",
       "      <td>...</td>\n",
       "      <td>...</td>\n",
       "      <td>...</td>\n",
       "      <td>...</td>\n",
       "    </tr>\n",
       "    <tr>\n",
       "      <th>1450855</th>\n",
       "      <td>07f2f354a2a4390624e0d04e4a555ef67e98f673</td>\n",
       "      <td>SOECSYA12A8C134C34</td>\n",
       "      <td>41</td>\n",
       "      <td>Catupecu Machu</td>\n",
       "      <td>Origen Extremo</td>\n",
       "    </tr>\n",
       "    <tr>\n",
       "      <th>1450856</th>\n",
       "      <td>07f2f354a2a4390624e0d04e4a555ef67e98f673</td>\n",
       "      <td>SODPPBT12A8C141D90</td>\n",
       "      <td>9</td>\n",
       "      <td>Kings Of Leon</td>\n",
       "      <td>Closer</td>\n",
       "    </tr>\n",
       "    <tr>\n",
       "      <th>1450859</th>\n",
       "      <td>07f2f354a2a4390624e0d04e4a555ef67e98f673</td>\n",
       "      <td>SOGMNZG12AB0182DAD</td>\n",
       "      <td>24</td>\n",
       "      <td>Veto</td>\n",
       "      <td>You Are A Knife</td>\n",
       "    </tr>\n",
       "    <tr>\n",
       "      <th>1450870</th>\n",
       "      <td>07f2f354a2a4390624e0d04e4a555ef67e98f673</td>\n",
       "      <td>SONGIXY12A58A7BB42</td>\n",
       "      <td>10</td>\n",
       "      <td>LCD Soundsystem</td>\n",
       "      <td>Someone Great</td>\n",
       "    </tr>\n",
       "    <tr>\n",
       "      <th>1450890</th>\n",
       "      <td>fc072bde2043756ea30ff07e4a5311e34825b4df</td>\n",
       "      <td>SOCFUTD12A6310D896</td>\n",
       "      <td>9</td>\n",
       "      <td>The Rolling Stones</td>\n",
       "      <td>Almost Hear You Sigh (1994 Digital Remaster)</td>\n",
       "    </tr>\n",
       "  </tbody>\n",
       "</table>\n",
       "<p>141757 rows × 5 columns</p>\n",
       "</div>"
      ],
      "text/plain": [
       "                                          user_id             song_id  freq  \\\n",
       "28       9be82340a8b5ef32357fe5af957ccd54736ece95  SOHGGAH12A58A795BE    15   \n",
       "55       91b8fac7dc5e03f6cfaf6e2aa7171f14a8354d62  SODBXDO12A6D4FCD4F    14   \n",
       "62       91b8fac7dc5e03f6cfaf6e2aa7171f14a8354d62  SOUDGEV12A8C135FC9    10   \n",
       "86       0f40e074aab2c5f47b7ddc2277fb0295b5b3a058  SORIWEH12A8C13D4A6    54   \n",
       "119      e9dc6b4c2b22aa6dc8260e1963021567728055b2  SOYOMRA12A6D4F9975    11   \n",
       "...                                           ...                 ...   ...   \n",
       "1450855  07f2f354a2a4390624e0d04e4a555ef67e98f673  SOECSYA12A8C134C34    41   \n",
       "1450856  07f2f354a2a4390624e0d04e4a555ef67e98f673  SODPPBT12A8C141D90     9   \n",
       "1450859  07f2f354a2a4390624e0d04e4a555ef67e98f673  SOGMNZG12AB0182DAD    24   \n",
       "1450870  07f2f354a2a4390624e0d04e4a555ef67e98f673  SONGIXY12A58A7BB42    10   \n",
       "1450890  fc072bde2043756ea30ff07e4a5311e34825b4df  SOCFUTD12A6310D896     9   \n",
       "\n",
       "                              artist_name  \\\n",
       "28                           Slum Village   \n",
       "55                       Dario Marianelli   \n",
       "62       Counting Crows / Vanessa Carlton   \n",
       "86                          Was (Not Was)   \n",
       "119                          Phil Collins   \n",
       "...                                   ...   \n",
       "1450855                    Catupecu Machu   \n",
       "1450856                     Kings Of Leon   \n",
       "1450859                              Veto   \n",
       "1450870                   LCD Soundsystem   \n",
       "1450890                The Rolling Stones   \n",
       "\n",
       "                                                title  \n",
       "28                                             Climax  \n",
       "55                                       Love Letters  \n",
       "62                                    Big Yellow Taxi  \n",
       "86                                   The Sky's Ablaze  \n",
       "119                              You Can't Hurry Love  \n",
       "...                                               ...  \n",
       "1450855                                Origen Extremo  \n",
       "1450856                                        Closer  \n",
       "1450859                               You Are A Knife  \n",
       "1450870                                 Someone Great  \n",
       "1450890  Almost Hear You Sigh (1994 Digital Remaster)  \n",
       "\n",
       "[141757 rows x 5 columns]"
      ]
     },
     "execution_count": 44,
     "metadata": {},
     "output_type": "execute_result"
    }
   ],
   "source": [
    "song_df[(song_df.freq<Lower)|(song_df.freq>Upper)]"
   ]
  },
  {
   "cell_type": "code",
   "execution_count": 45,
   "metadata": {},
   "outputs": [
    {
     "data": {
      "text/plain": [
       "9.770065034060865"
      ]
     },
     "execution_count": 45,
     "metadata": {},
     "output_type": "execute_result"
    }
   ],
   "source": [
    "(song_df[(song_df.freq<Lower)|(song_df.freq>Upper)].shape[0]/song_df.shape[0])*100"
   ]
  },
  {
   "cell_type": "code",
   "execution_count": 46,
   "metadata": {},
   "outputs": [
    {
     "data": {
      "text/plain": [
       "<AxesSubplot:xlabel='freq'>"
      ]
     },
     "execution_count": 46,
     "metadata": {},
     "output_type": "execute_result"
    },
    {
     "data": {
      "image/png": "[encoded data removed]",
      "text/plain": [
       "<Figure size 432x288 with 1 Axes>"
      ]
     },
     "metadata": {
      "needs_background": "light"
     },
     "output_type": "display_data"
    }
   ],
   "source": [
    "sns.boxplot(song_df.freq)"
   ]
  },
  {
   "cell_type": "markdown",
   "metadata": {},
   "source": [
    "### Artist_name"
   ]
  },
  {
   "cell_type": "code",
   "execution_count": 47,
   "metadata": {},
   "outputs": [
    {
     "data": {
      "text/html": [
       "<div>\n",
       "<style scoped>\n",
       "    .dataframe tbody tr th:only-of-type {\n",
       "        vertical-align: middle;\n",
       "    }\n",
       "\n",
       "    .dataframe tbody tr th {\n",
       "        vertical-align: top;\n",
       "    }\n",
       "\n",
       "    .dataframe thead th {\n",
       "        text-align: right;\n",
       "    }\n",
       "</style>\n",
       "<table border=\"1\" class=\"dataframe\">\n",
       "  <thead>\n",
       "    <tr style=\"text-align: right;\">\n",
       "      <th></th>\n",
       "      <th>artist_name</th>\n",
       "    </tr>\n",
       "  </thead>\n",
       "  <tbody>\n",
       "    <tr>\n",
       "      <th>Coldplay</th>\n",
       "      <td>12279</td>\n",
       "    </tr>\n",
       "    <tr>\n",
       "      <th>Kings Of Leon</th>\n",
       "      <td>8514</td>\n",
       "    </tr>\n",
       "    <tr>\n",
       "      <th>Florence + The Machine</th>\n",
       "      <td>8213</td>\n",
       "    </tr>\n",
       "    <tr>\n",
       "      <th>Justin Bieber</th>\n",
       "      <td>7669</td>\n",
       "    </tr>\n",
       "    <tr>\n",
       "      <th>Jack Johnson</th>\n",
       "      <td>6784</td>\n",
       "    </tr>\n",
       "    <tr>\n",
       "      <th>...</th>\n",
       "      <td>...</td>\n",
       "    </tr>\n",
       "    <tr>\n",
       "      <th>Swizz Beatz / Drag On</th>\n",
       "      <td>1</td>\n",
       "    </tr>\n",
       "    <tr>\n",
       "      <th>Billy Idol With Generation X</th>\n",
       "      <td>1</td>\n",
       "    </tr>\n",
       "    <tr>\n",
       "      <th>Mike Dunn</th>\n",
       "      <td>1</td>\n",
       "    </tr>\n",
       "    <tr>\n",
       "      <th>Johnny Lima</th>\n",
       "      <td>1</td>\n",
       "    </tr>\n",
       "    <tr>\n",
       "      <th>The Chinkees</th>\n",
       "      <td>1</td>\n",
       "    </tr>\n",
       "  </tbody>\n",
       "</table>\n",
       "<p>28360 rows × 1 columns</p>\n",
       "</div>"
      ],
      "text/plain": [
       "                              artist_name\n",
       "Coldplay                            12279\n",
       "Kings Of Leon                        8514\n",
       "Florence + The Machine               8213\n",
       "Justin Bieber                        7669\n",
       "Jack Johnson                         6784\n",
       "...                                   ...\n",
       "Swizz Beatz / Drag On                   1\n",
       "Billy Idol With Generation X            1\n",
       "Mike Dunn                               1\n",
       "Johnny Lima                             1\n",
       "The Chinkees                            1\n",
       "\n",
       "[28360 rows x 1 columns]"
      ]
     },
     "execution_count": 47,
     "metadata": {},
     "output_type": "execute_result"
    }
   ],
   "source": [
    "artist  = pd.DataFrame(song_df.artist_name.value_counts())\n",
    "artist"
   ]
  },
  {
   "cell_type": "markdown",
   "metadata": {},
   "source": [
    "- **There are  28360 artists in the given data**"
   ]
  },
  {
   "cell_type": "code",
   "execution_count": 48,
   "metadata": {},
   "outputs": [
    {
     "data": {
      "text/plain": [
       "Index(['Coldplay', 'Kings Of Leon', 'Florence + The Machine', 'Justin Bieber',\n",
       "       'Jack Johnson', 'Train', 'The Black Keys', 'Eminem', 'OneRepublic',\n",
       "       'Muse'],\n",
       "      dtype='object')"
      ]
     },
     "execution_count": 48,
     "metadata": {},
     "output_type": "execute_result"
    }
   ],
   "source": [
    "# The top 10 populer artists in the given data are \n",
    "\n",
    "artist.index[:10]"
   ]
  },
  {
   "cell_type": "code",
   "execution_count": 49,
   "metadata": {},
   "outputs": [
    {
     "data": {
      "text/plain": [
       "<AxesSubplot:>"
      ]
     },
     "execution_count": 49,
     "metadata": {},
     "output_type": "execute_result"
    },
    {
     "data": {
      "image/png": "[encoded data removed]",
      "text/plain": [
       "<Figure size 432x288 with 1 Axes>"
      ]
     },
     "metadata": {
      "needs_background": "light"
     },
     "output_type": "display_data"
    }
   ],
   "source": [
    "artist[:10].plot(kind='bar')"
   ]
  },
  {
   "cell_type": "code",
   "execution_count": 50,
   "metadata": {},
   "outputs": [
    {
     "data": {
      "text/html": [
       "<div>\n",
       "<style scoped>\n",
       "    .dataframe tbody tr th:only-of-type {\n",
       "        vertical-align: middle;\n",
       "    }\n",
       "\n",
       "    .dataframe tbody tr th {\n",
       "        vertical-align: top;\n",
       "    }\n",
       "\n",
       "    .dataframe thead th {\n",
       "        text-align: right;\n",
       "    }\n",
       "</style>\n",
       "<table border=\"1\" class=\"dataframe\">\n",
       "  <thead>\n",
       "    <tr style=\"text-align: right;\">\n",
       "      <th></th>\n",
       "      <th>artist_name</th>\n",
       "    </tr>\n",
       "  </thead>\n",
       "  <tbody>\n",
       "    <tr>\n",
       "      <th>Fedde Le Grand Feat. Mitch Crown</th>\n",
       "      <td>1</td>\n",
       "    </tr>\n",
       "    <tr>\n",
       "      <th>Harold Budd And Eugene Bowen</th>\n",
       "      <td>1</td>\n",
       "    </tr>\n",
       "    <tr>\n",
       "      <th>Masters At Work featuring India</th>\n",
       "      <td>1</td>\n",
       "    </tr>\n",
       "    <tr>\n",
       "      <th>John Forte</th>\n",
       "      <td>1</td>\n",
       "    </tr>\n",
       "    <tr>\n",
       "      <th>le Shuuk</th>\n",
       "      <td>1</td>\n",
       "    </tr>\n",
       "    <tr>\n",
       "      <th>...</th>\n",
       "      <td>...</td>\n",
       "    </tr>\n",
       "    <tr>\n",
       "      <th>Swizz Beatz / Drag On</th>\n",
       "      <td>1</td>\n",
       "    </tr>\n",
       "    <tr>\n",
       "      <th>Billy Idol With Generation X</th>\n",
       "      <td>1</td>\n",
       "    </tr>\n",
       "    <tr>\n",
       "      <th>Mike Dunn</th>\n",
       "      <td>1</td>\n",
       "    </tr>\n",
       "    <tr>\n",
       "      <th>Johnny Lima</th>\n",
       "      <td>1</td>\n",
       "    </tr>\n",
       "    <tr>\n",
       "      <th>The Chinkees</th>\n",
       "      <td>1</td>\n",
       "    </tr>\n",
       "  </tbody>\n",
       "</table>\n",
       "<p>5497 rows × 1 columns</p>\n",
       "</div>"
      ],
      "text/plain": [
       "                                  artist_name\n",
       "Fedde Le Grand Feat. Mitch Crown            1\n",
       "Harold Budd And Eugene Bowen                1\n",
       "Masters At Work featuring India             1\n",
       "John Forte                                  1\n",
       "le Shuuk                                    1\n",
       "...                                       ...\n",
       "Swizz Beatz / Drag On                       1\n",
       "Billy Idol With Generation X                1\n",
       "Mike Dunn                                   1\n",
       "Johnny Lima                                 1\n",
       "The Chinkees                                1\n",
       "\n",
       "[5497 rows x 1 columns]"
      ]
     },
     "execution_count": 50,
     "metadata": {},
     "output_type": "execute_result"
    }
   ],
   "source": [
    "artist[artist.artist_name ==1]"
   ]
  },
  {
   "cell_type": "code",
   "execution_count": 51,
   "metadata": {},
   "outputs": [
    {
     "data": {
      "text/plain": [
       "0.29862482369534554"
      ]
     },
     "execution_count": 51,
     "metadata": {},
     "output_type": "execute_result"
    }
   ],
   "source": [
    "artist[artist.artist_name <3].shape[0]/artist.shape[0]"
   ]
  },
  {
   "cell_type": "markdown",
   "metadata": {},
   "source": [
    "- There are few artists who are just occoured once or twise in the given data (**nearly 30%**)\n",
    "\n",
    "- As we no the title and song id is representing the same "
   ]
  },
  {
   "cell_type": "code",
   "execution_count": 52,
   "metadata": {},
   "outputs": [],
   "source": [
    "artist_more_then_1000 = list(artist[artist.artist_name>999].index)\n",
    "artist_between_500_to_1000 = list(artist[(artist.artist_name<1000)&(artist.artist_name>500)].index)\n",
    "artist_between_500_to_100= list(artist[(artist.artist_name<501)&(artist.artist_name>101)].index)\n",
    "artist_between_100_to_50 = list(artist[(artist.artist_name<101)&(artist.artist_name>50)].index)\n",
    "artist_between_50_to_10 = list(artist[(artist.artist_name<51)&(song_info.song_id>10)].index)\n",
    "artist_between_10_to_5 = list(artist[(artist.artist_name<11)&(artist.artist_name>5)].index)\n",
    "artist_less_then_5 = list(artist[(artist.artist_name<6)].index)"
   ]
  },
  {
   "cell_type": "code",
   "execution_count": 53,
   "metadata": {},
   "outputs": [
    {
     "data": {
      "text/plain": [
       "1806"
      ]
     },
     "execution_count": 53,
     "metadata": {},
     "output_type": "execute_result"
    }
   ],
   "source": [
    "len(artist_between_100_to_50)"
   ]
  },
  {
   "cell_type": "code",
   "execution_count": 54,
   "metadata": {},
   "outputs": [],
   "source": [
    "artist_data = {'artist_more_then_1000': len(artist_more_then_1000),\\\n",
    "            \"artist_between_500_to_1000\":len(artist_between_500_to_1000),\\\n",
    "            'artist_between_500_to_100':len(artist_between_500_to_100),\\\n",
    "            'artist_between_100_to_50':len(artist_between_100_to_50),\\\n",
    "            'artist_between_50_to_10':len(artist_between_50_to_10),\\\n",
    "            'artist_between_10_to_5':len(artist_between_10_to_5),\\\n",
    "            'artist_less_then_5':len(artist_less_then_5)}"
   ]
  },
  {
   "cell_type": "code",
   "execution_count": 55,
   "metadata": {},
   "outputs": [
    {
     "data": {
      "text/plain": [
       "{'artist_more_then_1000': 214,\n",
       " 'artist_between_500_to_1000': 309,\n",
       " 'artist_between_500_to_100': 1958,\n",
       " 'artist_between_100_to_50': 1806,\n",
       " 'artist_between_50_to_10': 0,\n",
       " 'artist_between_10_to_5': 3749,\n",
       " 'artist_less_then_5': 13321}"
      ]
     },
     "execution_count": 55,
     "metadata": {},
     "output_type": "execute_result"
    }
   ],
   "source": [
    "artist_data"
   ]
  },
  {
   "cell_type": "code",
   "execution_count": 56,
   "metadata": {},
   "outputs": [
    {
     "data": {
      "text/plain": [
       "<Figure size 1440x360 with 0 Axes>"
      ]
     },
     "execution_count": 56,
     "metadata": {},
     "output_type": "execute_result"
    },
    {
     "data": {
      "text/plain": [
       "<BarContainer object of 7 artists>"
      ]
     },
     "execution_count": 56,
     "metadata": {},
     "output_type": "execute_result"
    },
    {
     "data": {
      "image/png": "[encoded data removed]",
      "text/plain": [
       "<Figure size 1440x360 with 1 Axes>"
      ]
     },
     "metadata": {
      "needs_background": "light"
     },
     "output_type": "display_data"
    }
   ],
   "source": [
    "plt.figure(figsize=(20,5))\n",
    "keys = artist_data. keys()\n",
    "values = artist_data. values()\n",
    "plt. bar(keys, values)\n"
   ]
  },
  {
   "cell_type": "code",
   "execution_count": 57,
   "metadata": {},
   "outputs": [],
   "source": [
    "title_info = pd.DataFrame(song_df.title.value_counts())"
   ]
  },
  {
   "cell_type": "code",
   "execution_count": 58,
   "metadata": {},
   "outputs": [
    {
     "data": {
      "text/html": [
       "<div>\n",
       "<style scoped>\n",
       "    .dataframe tbody tr th:only-of-type {\n",
       "        vertical-align: middle;\n",
       "    }\n",
       "\n",
       "    .dataframe tbody tr th {\n",
       "        vertical-align: top;\n",
       "    }\n",
       "\n",
       "    .dataframe thead th {\n",
       "        text-align: right;\n",
       "    }\n",
       "</style>\n",
       "<table border=\"1\" class=\"dataframe\">\n",
       "  <thead>\n",
       "    <tr style=\"text-align: right;\">\n",
       "      <th></th>\n",
       "      <th>title</th>\n",
       "    </tr>\n",
       "  </thead>\n",
       "  <tbody>\n",
       "    <tr>\n",
       "      <th>Sehr kosmisch</th>\n",
       "      <td>5043</td>\n",
       "    </tr>\n",
       "    <tr>\n",
       "      <th>Undo</th>\n",
       "      <td>4483</td>\n",
       "    </tr>\n",
       "    <tr>\n",
       "      <th>You're The One</th>\n",
       "      <td>4270</td>\n",
       "    </tr>\n",
       "    <tr>\n",
       "      <th>Dog Days Are Over (Radio Edit)</th>\n",
       "      <td>3780</td>\n",
       "    </tr>\n",
       "    <tr>\n",
       "      <th>Revelry</th>\n",
       "      <td>3672</td>\n",
       "    </tr>\n",
       "    <tr>\n",
       "      <th>...</th>\n",
       "      <td>...</td>\n",
       "    </tr>\n",
       "    <tr>\n",
       "      <th>Idle Hands</th>\n",
       "      <td>1</td>\n",
       "    </tr>\n",
       "    <tr>\n",
       "      <th>Born With The Blues</th>\n",
       "      <td>1</td>\n",
       "    </tr>\n",
       "    <tr>\n",
       "      <th>Ma FiancÃ©e_ Elle Est Partie</th>\n",
       "      <td>1</td>\n",
       "    </tr>\n",
       "    <tr>\n",
       "      <th>Hackett To Pieces</th>\n",
       "      <td>1</td>\n",
       "    </tr>\n",
       "    <tr>\n",
       "      <th>la russe</th>\n",
       "      <td>1</td>\n",
       "    </tr>\n",
       "  </tbody>\n",
       "</table>\n",
       "<p>137626 rows × 1 columns</p>\n",
       "</div>"
      ],
      "text/plain": [
       "                                title\n",
       "Sehr kosmisch                    5043\n",
       "Undo                             4483\n",
       "You're The One                   4270\n",
       "Dog Days Are Over (Radio Edit)   3780\n",
       "Revelry                          3672\n",
       "...                               ...\n",
       "Idle Hands                          1\n",
       "Born With The Blues                 1\n",
       "Ma FiancÃ©e_ Elle Est Partie        1\n",
       "Hackett To Pieces                   1\n",
       "la russe                            1\n",
       "\n",
       "[137626 rows x 1 columns]"
      ]
     },
     "execution_count": 58,
     "metadata": {},
     "output_type": "execute_result"
    }
   ],
   "source": [
    "title_info"
   ]
  },
  {
   "cell_type": "code",
   "execution_count": 59,
   "metadata": {},
   "outputs": [
    {
     "data": {
      "text/plain": [
       "Index(['Sehr kosmisch', 'Undo', 'You're The One',\n",
       "       'Dog Days Are Over (Radio Edit)', 'Revelry', 'Secrets',\n",
       "       'Horn Concerto No. 4 in E flat K495: II. Romance (Andante cantabile)',\n",
       "       'Hey_ Soul Sister', 'Fireflies', 'Tive Sim'],\n",
       "      dtype='object')"
      ]
     },
     "execution_count": 59,
     "metadata": {},
     "output_type": "execute_result"
    }
   ],
   "source": [
    "title_info[:10].index"
   ]
  },
  {
   "cell_type": "code",
   "execution_count": 60,
   "metadata": {},
   "outputs": [
    {
     "data": {
      "text/plain": [
       "<AxesSubplot:>"
      ]
     },
     "execution_count": 60,
     "metadata": {},
     "output_type": "execute_result"
    },
    {
     "data": {
      "image/png": "[encoded data removed]",
      "text/plain": [
       "<Figure size 432x288 with 1 Axes>"
      ]
     },
     "metadata": {
      "needs_background": "light"
     },
     "output_type": "display_data"
    }
   ],
   "source": [
    "title_info[:10].plot(kind='bar')"
   ]
  },
  {
   "cell_type": "markdown",
   "metadata": {},
   "source": [
    "- Top 10 populer songs in the data are shown in the above graph"
   ]
  },
  {
   "cell_type": "code",
   "execution_count": 61,
   "metadata": {},
   "outputs": [
    {
     "data": {
      "text/html": [
       "<div>\n",
       "<style scoped>\n",
       "    .dataframe tbody tr th:only-of-type {\n",
       "        vertical-align: middle;\n",
       "    }\n",
       "\n",
       "    .dataframe tbody tr th {\n",
       "        vertical-align: top;\n",
       "    }\n",
       "\n",
       "    .dataframe thead th {\n",
       "        text-align: right;\n",
       "    }\n",
       "</style>\n",
       "<table border=\"1\" class=\"dataframe\">\n",
       "  <thead>\n",
       "    <tr style=\"text-align: right;\">\n",
       "      <th></th>\n",
       "      <th>title</th>\n",
       "    </tr>\n",
       "  </thead>\n",
       "  <tbody>\n",
       "    <tr>\n",
       "      <th>We Got The Rock'n' Roll</th>\n",
       "      <td>1</td>\n",
       "    </tr>\n",
       "    <tr>\n",
       "      <th>Silent Night All Day Long</th>\n",
       "      <td>1</td>\n",
       "    </tr>\n",
       "    <tr>\n",
       "      <th>Fool For The Night</th>\n",
       "      <td>1</td>\n",
       "    </tr>\n",
       "    <tr>\n",
       "      <th>Spirit Lives On (LP Version)</th>\n",
       "      <td>1</td>\n",
       "    </tr>\n",
       "    <tr>\n",
       "      <th>Sleep A Million Years&amp;#160;</th>\n",
       "      <td>1</td>\n",
       "    </tr>\n",
       "    <tr>\n",
       "      <th>...</th>\n",
       "      <td>...</td>\n",
       "    </tr>\n",
       "    <tr>\n",
       "      <th>Idle Hands</th>\n",
       "      <td>1</td>\n",
       "    </tr>\n",
       "    <tr>\n",
       "      <th>Born With The Blues</th>\n",
       "      <td>1</td>\n",
       "    </tr>\n",
       "    <tr>\n",
       "      <th>Ma FiancÃ©e_ Elle Est Partie</th>\n",
       "      <td>1</td>\n",
       "    </tr>\n",
       "    <tr>\n",
       "      <th>Hackett To Pieces</th>\n",
       "      <td>1</td>\n",
       "    </tr>\n",
       "    <tr>\n",
       "      <th>la russe</th>\n",
       "      <td>1</td>\n",
       "    </tr>\n",
       "  </tbody>\n",
       "</table>\n",
       "<p>51220 rows × 1 columns</p>\n",
       "</div>"
      ],
      "text/plain": [
       "                              title\n",
       "We Got The Rock'n' Roll           1\n",
       "Silent Night All Day Long         1\n",
       "Fool For The Night                1\n",
       "Spirit Lives On (LP Version)      1\n",
       "Sleep A Million Years&#160;       1\n",
       "...                             ...\n",
       "Idle Hands                        1\n",
       "Born With The Blues               1\n",
       "Ma FiancÃ©e_ Elle Est Partie      1\n",
       "Hackett To Pieces                 1\n",
       "la russe                          1\n",
       "\n",
       "[51220 rows x 1 columns]"
      ]
     },
     "execution_count": 61,
     "metadata": {},
     "output_type": "execute_result"
    }
   ],
   "source": [
    "title_info[title_info.title==1]"
   ]
  },
  {
   "cell_type": "code",
   "execution_count": 62,
   "metadata": {},
   "outputs": [
    {
     "data": {
      "text/plain": [
       "37.21680496417828"
      ]
     },
     "execution_count": 62,
     "metadata": {},
     "output_type": "execute_result"
    }
   ],
   "source": [
    "(title_info[title_info.title==1].shape[0]/title_info.shape[0])*100"
   ]
  },
  {
   "cell_type": "markdown",
   "metadata": {},
   "source": [
    "- There are 51220  songs which are just listned once by the user in the entire data(**around 37%**)"
   ]
  },
  {
   "cell_type": "code",
   "execution_count": 63,
   "metadata": {},
   "outputs": [
    {
     "data": {
      "text/html": [
       "<div>\n",
       "<style scoped>\n",
       "    .dataframe tbody tr th:only-of-type {\n",
       "        vertical-align: middle;\n",
       "    }\n",
       "\n",
       "    .dataframe tbody tr th {\n",
       "        vertical-align: top;\n",
       "    }\n",
       "\n",
       "    .dataframe thead th {\n",
       "        text-align: right;\n",
       "    }\n",
       "</style>\n",
       "<table border=\"1\" class=\"dataframe\">\n",
       "  <thead>\n",
       "    <tr style=\"text-align: right;\">\n",
       "      <th></th>\n",
       "      <th>user_id</th>\n",
       "      <th>song_id</th>\n",
       "      <th>freq</th>\n",
       "      <th>artist_name</th>\n",
       "      <th>title</th>\n",
       "    </tr>\n",
       "  </thead>\n",
       "  <tbody>\n",
       "    <tr>\n",
       "      <th>0</th>\n",
       "      <td>fd50c4007b68a3737fe052d5a4f78ce8aa117f3d</td>\n",
       "      <td>SOBONKR12A58A7A7E0</td>\n",
       "      <td>1</td>\n",
       "      <td>Dwight Yoakam</td>\n",
       "      <td>You're The One</td>\n",
       "    </tr>\n",
       "    <tr>\n",
       "      <th>1</th>\n",
       "      <td>fd50c4007b68a3737fe052d5a4f78ce8aa117f3d</td>\n",
       "      <td>SOEGIYH12A6D4FC0E3</td>\n",
       "      <td>1</td>\n",
       "      <td>Barry Tuckwell/Academy of St Martin-in-the-Fie...</td>\n",
       "      <td>Horn Concerto No. 4 in E flat K495: II. Romanc...</td>\n",
       "    </tr>\n",
       "    <tr>\n",
       "      <th>2</th>\n",
       "      <td>fd50c4007b68a3737fe052d5a4f78ce8aa117f3d</td>\n",
       "      <td>SOFLJQZ12A6D4FADA6</td>\n",
       "      <td>1</td>\n",
       "      <td>Cartola</td>\n",
       "      <td>Tive Sim</td>\n",
       "    </tr>\n",
       "    <tr>\n",
       "      <th>3</th>\n",
       "      <td>fd50c4007b68a3737fe052d5a4f78ce8aa117f3d</td>\n",
       "      <td>SOHTKMO12AB01843B0</td>\n",
       "      <td>1</td>\n",
       "      <td>Lonnie Gordon</td>\n",
       "      <td>Catch You Baby (Steve Pitron &amp; Max Sanna Radio...</td>\n",
       "    </tr>\n",
       "    <tr>\n",
       "      <th>4</th>\n",
       "      <td>fd50c4007b68a3737fe052d5a4f78ce8aa117f3d</td>\n",
       "      <td>SODQZCY12A6D4F9D11</td>\n",
       "      <td>1</td>\n",
       "      <td>Miguel Calo</td>\n",
       "      <td>El Cuatrero</td>\n",
       "    </tr>\n",
       "  </tbody>\n",
       "</table>\n",
       "</div>"
      ],
      "text/plain": [
       "                                    user_id             song_id  freq  \\\n",
       "0  fd50c4007b68a3737fe052d5a4f78ce8aa117f3d  SOBONKR12A58A7A7E0     1   \n",
       "1  fd50c4007b68a3737fe052d5a4f78ce8aa117f3d  SOEGIYH12A6D4FC0E3     1   \n",
       "2  fd50c4007b68a3737fe052d5a4f78ce8aa117f3d  SOFLJQZ12A6D4FADA6     1   \n",
       "3  fd50c4007b68a3737fe052d5a4f78ce8aa117f3d  SOHTKMO12AB01843B0     1   \n",
       "4  fd50c4007b68a3737fe052d5a4f78ce8aa117f3d  SODQZCY12A6D4F9D11     1   \n",
       "\n",
       "                                         artist_name  \\\n",
       "0                                      Dwight Yoakam   \n",
       "1  Barry Tuckwell/Academy of St Martin-in-the-Fie...   \n",
       "2                                            Cartola   \n",
       "3                                      Lonnie Gordon   \n",
       "4                                        Miguel Calo   \n",
       "\n",
       "                                               title  \n",
       "0                                     You're The One  \n",
       "1  Horn Concerto No. 4 in E flat K495: II. Romanc...  \n",
       "2                                           Tive Sim  \n",
       "3  Catch You Baby (Steve Pitron & Max Sanna Radio...  \n",
       "4                                        El Cuatrero  "
      ]
     },
     "execution_count": 63,
     "metadata": {},
     "output_type": "execute_result"
    }
   ],
   "source": [
    "song_df.head()"
   ]
  },
  {
   "cell_type": "code",
   "execution_count": 64,
   "metadata": {},
   "outputs": [],
   "source": [
    "song_df['song'] = song_df['artist_name']+'-'+song_df['title']"
   ]
  },
  {
   "cell_type": "code",
   "execution_count": 65,
   "metadata": {},
   "outputs": [
    {
     "data": {
      "text/html": [
       "<div>\n",
       "<style scoped>\n",
       "    .dataframe tbody tr th:only-of-type {\n",
       "        vertical-align: middle;\n",
       "    }\n",
       "\n",
       "    .dataframe tbody tr th {\n",
       "        vertical-align: top;\n",
       "    }\n",
       "\n",
       "    .dataframe thead th {\n",
       "        text-align: right;\n",
       "    }\n",
       "</style>\n",
       "<table border=\"1\" class=\"dataframe\">\n",
       "  <thead>\n",
       "    <tr style=\"text-align: right;\">\n",
       "      <th></th>\n",
       "      <th>user_id</th>\n",
       "      <th>song_id</th>\n",
       "      <th>freq</th>\n",
       "      <th>artist_name</th>\n",
       "      <th>title</th>\n",
       "      <th>song</th>\n",
       "    </tr>\n",
       "  </thead>\n",
       "  <tbody>\n",
       "    <tr>\n",
       "      <th>0</th>\n",
       "      <td>fd50c4007b68a3737fe052d5a4f78ce8aa117f3d</td>\n",
       "      <td>SOBONKR12A58A7A7E0</td>\n",
       "      <td>1</td>\n",
       "      <td>Dwight Yoakam</td>\n",
       "      <td>You're The One</td>\n",
       "      <td>Dwight Yoakam-You're The One</td>\n",
       "    </tr>\n",
       "    <tr>\n",
       "      <th>1</th>\n",
       "      <td>fd50c4007b68a3737fe052d5a4f78ce8aa117f3d</td>\n",
       "      <td>SOEGIYH12A6D4FC0E3</td>\n",
       "      <td>1</td>\n",
       "      <td>Barry Tuckwell/Academy of St Martin-in-the-Fie...</td>\n",
       "      <td>Horn Concerto No. 4 in E flat K495: II. Romanc...</td>\n",
       "      <td>Barry Tuckwell/Academy of St Martin-in-the-Fie...</td>\n",
       "    </tr>\n",
       "    <tr>\n",
       "      <th>2</th>\n",
       "      <td>fd50c4007b68a3737fe052d5a4f78ce8aa117f3d</td>\n",
       "      <td>SOFLJQZ12A6D4FADA6</td>\n",
       "      <td>1</td>\n",
       "      <td>Cartola</td>\n",
       "      <td>Tive Sim</td>\n",
       "      <td>Cartola-Tive Sim</td>\n",
       "    </tr>\n",
       "    <tr>\n",
       "      <th>3</th>\n",
       "      <td>fd50c4007b68a3737fe052d5a4f78ce8aa117f3d</td>\n",
       "      <td>SOHTKMO12AB01843B0</td>\n",
       "      <td>1</td>\n",
       "      <td>Lonnie Gordon</td>\n",
       "      <td>Catch You Baby (Steve Pitron &amp; Max Sanna Radio...</td>\n",
       "      <td>Lonnie Gordon-Catch You Baby (Steve Pitron &amp; M...</td>\n",
       "    </tr>\n",
       "    <tr>\n",
       "      <th>4</th>\n",
       "      <td>fd50c4007b68a3737fe052d5a4f78ce8aa117f3d</td>\n",
       "      <td>SODQZCY12A6D4F9D11</td>\n",
       "      <td>1</td>\n",
       "      <td>Miguel Calo</td>\n",
       "      <td>El Cuatrero</td>\n",
       "      <td>Miguel Calo-El Cuatrero</td>\n",
       "    </tr>\n",
       "    <tr>\n",
       "      <th>...</th>\n",
       "      <td>...</td>\n",
       "      <td>...</td>\n",
       "      <td>...</td>\n",
       "      <td>...</td>\n",
       "      <td>...</td>\n",
       "      <td>...</td>\n",
       "    </tr>\n",
       "    <tr>\n",
       "      <th>1450928</th>\n",
       "      <td>5e650759ebf89012044c6d52121eeada8b0ec814</td>\n",
       "      <td>SOVLNXV12A6D4F706E</td>\n",
       "      <td>1</td>\n",
       "      <td>Mos Def</td>\n",
       "      <td>Ms. Fat Booty</td>\n",
       "      <td>Mos Def-Ms. Fat Booty</td>\n",
       "    </tr>\n",
       "    <tr>\n",
       "      <th>1450929</th>\n",
       "      <td>5e650759ebf89012044c6d52121eeada8b0ec814</td>\n",
       "      <td>SOVDSJC12A58A7A271</td>\n",
       "      <td>2</td>\n",
       "      <td>Sam Cooke</td>\n",
       "      <td>Ain't Misbehavin</td>\n",
       "      <td>Sam Cooke-Ain't Misbehavin</td>\n",
       "    </tr>\n",
       "    <tr>\n",
       "      <th>1450930</th>\n",
       "      <td>5e650759ebf89012044c6d52121eeada8b0ec814</td>\n",
       "      <td>SOBRHVR12A8C133F35</td>\n",
       "      <td>2</td>\n",
       "      <td>Southside Spinners</td>\n",
       "      <td>Luvstruck</td>\n",
       "      <td>Southside Spinners-Luvstruck</td>\n",
       "    </tr>\n",
       "    <tr>\n",
       "      <th>1450931</th>\n",
       "      <td>5e650759ebf89012044c6d52121eeada8b0ec814</td>\n",
       "      <td>SOMGVYU12A8C1314FF</td>\n",
       "      <td>2</td>\n",
       "      <td>J. Karjalainen &amp; Mustat Lasit</td>\n",
       "      <td>Sinisten tÃ¤htien alla</td>\n",
       "      <td>J. Karjalainen &amp; Mustat Lasit-Sinisten tÃ¤htie...</td>\n",
       "    </tr>\n",
       "    <tr>\n",
       "      <th>1450932</th>\n",
       "      <td>5e650759ebf89012044c6d52121eeada8b0ec814</td>\n",
       "      <td>SOTCMDJ12A6D4F8528</td>\n",
       "      <td>3</td>\n",
       "      <td>Angels and Airwaves</td>\n",
       "      <td>The Gift</td>\n",
       "      <td>Angels and Airwaves-The Gift</td>\n",
       "    </tr>\n",
       "  </tbody>\n",
       "</table>\n",
       "<p>1450932 rows × 6 columns</p>\n",
       "</div>"
      ],
      "text/plain": [
       "                                          user_id             song_id  freq  \\\n",
       "0        fd50c4007b68a3737fe052d5a4f78ce8aa117f3d  SOBONKR12A58A7A7E0     1   \n",
       "1        fd50c4007b68a3737fe052d5a4f78ce8aa117f3d  SOEGIYH12A6D4FC0E3     1   \n",
       "2        fd50c4007b68a3737fe052d5a4f78ce8aa117f3d  SOFLJQZ12A6D4FADA6     1   \n",
       "3        fd50c4007b68a3737fe052d5a4f78ce8aa117f3d  SOHTKMO12AB01843B0     1   \n",
       "4        fd50c4007b68a3737fe052d5a4f78ce8aa117f3d  SODQZCY12A6D4F9D11     1   \n",
       "...                                           ...                 ...   ...   \n",
       "1450928  5e650759ebf89012044c6d52121eeada8b0ec814  SOVLNXV12A6D4F706E     1   \n",
       "1450929  5e650759ebf89012044c6d52121eeada8b0ec814  SOVDSJC12A58A7A271     2   \n",
       "1450930  5e650759ebf89012044c6d52121eeada8b0ec814  SOBRHVR12A8C133F35     2   \n",
       "1450931  5e650759ebf89012044c6d52121eeada8b0ec814  SOMGVYU12A8C1314FF     2   \n",
       "1450932  5e650759ebf89012044c6d52121eeada8b0ec814  SOTCMDJ12A6D4F8528     3   \n",
       "\n",
       "                                               artist_name  \\\n",
       "0                                            Dwight Yoakam   \n",
       "1        Barry Tuckwell/Academy of St Martin-in-the-Fie...   \n",
       "2                                                  Cartola   \n",
       "3                                            Lonnie Gordon   \n",
       "4                                              Miguel Calo   \n",
       "...                                                    ...   \n",
       "1450928                                            Mos Def   \n",
       "1450929                                          Sam Cooke   \n",
       "1450930                                 Southside Spinners   \n",
       "1450931                      J. Karjalainen & Mustat Lasit   \n",
       "1450932                                Angels and Airwaves   \n",
       "\n",
       "                                                     title  \\\n",
       "0                                           You're The One   \n",
       "1        Horn Concerto No. 4 in E flat K495: II. Romanc...   \n",
       "2                                                 Tive Sim   \n",
       "3        Catch You Baby (Steve Pitron & Max Sanna Radio...   \n",
       "4                                              El Cuatrero   \n",
       "...                                                    ...   \n",
       "1450928                                      Ms. Fat Booty   \n",
       "1450929                                   Ain't Misbehavin   \n",
       "1450930                                          Luvstruck   \n",
       "1450931                             Sinisten tÃ¤htien alla   \n",
       "1450932                                           The Gift   \n",
       "\n",
       "                                                      song  \n",
       "0                             Dwight Yoakam-You're The One  \n",
       "1        Barry Tuckwell/Academy of St Martin-in-the-Fie...  \n",
       "2                                         Cartola-Tive Sim  \n",
       "3        Lonnie Gordon-Catch You Baby (Steve Pitron & M...  \n",
       "4                                  Miguel Calo-El Cuatrero  \n",
       "...                                                    ...  \n",
       "1450928                              Mos Def-Ms. Fat Booty  \n",
       "1450929                         Sam Cooke-Ain't Misbehavin  \n",
       "1450930                       Southside Spinners-Luvstruck  \n",
       "1450931  J. Karjalainen & Mustat Lasit-Sinisten tÃ¤htie...  \n",
       "1450932                       Angels and Airwaves-The Gift  \n",
       "\n",
       "[1450932 rows x 6 columns]"
      ]
     },
     "execution_count": 65,
     "metadata": {},
     "output_type": "execute_result"
    }
   ],
   "source": [
    "song_df"
   ]
  },
  {
   "cell_type": "markdown",
   "metadata": {},
   "source": [
    "### User songs"
   ]
  },
  {
   "cell_type": "code",
   "execution_count": 66,
   "metadata": {},
   "outputs": [],
   "source": [
    "#Get unique items (songs) corresponding to a given user(user songs)\n",
    "\n",
    "def get_user_items(data,user,item_id):\n",
    "        user_data = data[data.user_id == user]\n",
    "        user_items = list(user_data[item_id].unique())\n",
    "        \n",
    "        return user_items"
   ]
  },
  {
   "cell_type": "code",
   "execution_count": 67,
   "metadata": {},
   "outputs": [
    {
     "data": {
      "text/plain": [
       "['Shawn Mullins-All In My Head',\n",
       " 'Inner City-Good Life',\n",
       " 'Will Smith Featuring Dru Hill & Kool Mo Dee-Wild Wild West',\n",
       " \"Yann Tiersen-La Valse D'AmÃ©lie (Version Orchestre)\",\n",
       " 'Lizzy Parks-Prayer',\n",
       " \"Johnny Rivers-Walkin' The Dog (Live) (1995 Digital Remaster)\",\n",
       " 'Kurt Carr & The Kurt Carr Singers-My Shepherd (Psalms 23) (featuring Kurt Carr & Avalon)',\n",
       " 'Morcheeba-Blindfold',\n",
       " 'Ween-Boing',\n",
       " 'Markus KrunegÃ¥rd-Dystra utsikter',\n",
       " \"Robin Thicke-Everything I Can't Have\",\n",
       " 'Santogold-Creator [vs. Switch and FreQ Nasty]',\n",
       " 'M83-Noise',\n",
       " 'Blonde Redhead-Heroine',\n",
       " \"Carter Burwell-Bella's Lullaby (Twilight Soundtrack Version)\",\n",
       " 'Kenny Rogers-Christmas Is My Favorite Time Of The Year',\n",
       " 'Morcheeba-What New York Couples Fight About (Feat: Kurt Wagner)',\n",
       " 'Cartola-Tive Sim',\n",
       " 'Ali Farka TourÃ©_ Toumani DiabatÃ©-Sina Mory',\n",
       " 'Zero 7-In The Waiting Line',\n",
       " 'Rex Mundi-Kalua Islands',\n",
       " 'Mau Mau-Conga Milonga (Live)',\n",
       " 'Zapp & Roger-Dance Floor',\n",
       " 'Mutya Buena-Real Girl',\n",
       " 'Feist-Gatekeeper',\n",
       " 'Thievery Corporation-Pela Janela (Through the Window) featuring Gigi Rezende',\n",
       " 'Chris Cornell-Scream',\n",
       " 'Ulrich Schnauss-Never Be The Same',\n",
       " 'Biffy Clyro-God & Satan',\n",
       " 'Blonde Redhead-Tons Confession',\n",
       " 'Riverside-Stuck Between',\n",
       " 'Junior Boys-In the Morning',\n",
       " 'Albin De La Simone-DÃ©lice',\n",
       " 'Otros Aires-Milonga Sentimental',\n",
       " 'Paul Van Dyk Featuring Jessica Sutta-White Lies (Dave Spoon Remix)',\n",
       " 'Muse-Pink Ego Box',\n",
       " 'The Black Ghosts-Full Moon',\n",
       " 'Gotan Project-Queremos Paz',\n",
       " 'M83-Be Wild',\n",
       " 'Royksopp-Sparks',\n",
       " 'Muse-Supermassive Black Hole (Twilight Soundtrack Version)',\n",
       " 'Muse-Citizen Erased',\n",
       " 'MC5-Over And Over (LP Version)',\n",
       " \"The Bravery-Time Won't Let Me Go\",\n",
       " \"Nicole Kidman / Jim Broadbent / Lara Mulcahy / Caroline O'Connor / Natalie Mendoza-Sparkling Diamonds\",\n",
       " 'War-The World Is A Ghetto',\n",
       " 'Extreme-More Than Words',\n",
       " 'Secret Garden-Sleepsong',\n",
       " 'George Michael-Father Figure',\n",
       " \"Sia-Don't Bring Me Down\",\n",
       " \"Delphic-Counterpoint (Delphic's en route Mix)\",\n",
       " 'Paul Simon-Flowers Never Bend With The Rainfall']"
      ]
     },
     "execution_count": 67,
     "metadata": {},
     "output_type": "execute_result"
    }
   ],
   "source": [
    "get_user_items(song_df,user_info.index[5],'song')"
   ]
  },
  {
   "cell_type": "markdown",
   "metadata": {},
   "source": [
    "### Song users"
   ]
  },
  {
   "cell_type": "code",
   "execution_count": 68,
   "metadata": {},
   "outputs": [],
   "source": [
    "#Get unique users for a given item (song)\n",
    "def get_item_users(data,item_id,item):\n",
    "    item_data = data[data[item_id] == item]\n",
    "\n",
    "    item_users = set(item_data.user_id.unique())\n",
    "    return item_users\n",
    "\n"
   ]
  },
  {
   "cell_type": "code",
   "execution_count": 69,
   "metadata": {},
   "outputs": [
    {
     "data": {
      "text/plain": [
       "{'91131e6d2289b3c868d27737f524f0e46cd3b676',\n",
       " '9b4e44583f352a025f9d8278f35e5f92ca349185',\n",
       " '565b7708437824bf4d289b6850b76264e6c74658',\n",
       " '05dbab7ca2b0a68f54173c9c3d090a56f9fa4606',\n",
       " 'fa422b80919fbc9e8e291c369a978a987ee40aef',\n",
       " 'e12e163d0e9642b42e7d0b96d7848b8c6645aded',\n",
       " 'ce45a6697ce02f81adc30450662edbd72674287c',\n",
       " 'd38425250211a2af6188b351151e43fc4f1d5683',\n",
       " 'ca3d262201003dfff79e816f8aa4c44e77dda803',\n",
       " '78c7e57ee3c0e09f3f38b9ed0c7f73e268e7d70d',\n",
       " 'c1a77bb7e1ac292727ed82f698538dca38aed35f',\n",
       " 'e4f9a68e8c30ed12d4282f96118d34c54d87e6e8',\n",
       " 'cd6681425b33af095d8ddba635d15d345facf3d1',\n",
       " '2d5c641a828d0b7cb50a82bca2474d21eee9796e',\n",
       " '9f7c5b37d1c1f73abfab12d950f39ad84ed19ff8',\n",
       " '6b15b13b04301a44e44be1b716f8701fe800e95f',\n",
       " '2588f8964593923cfc8772519b64f1220e166efb',\n",
       " 'f3c11bfe2dd12fdd28b1bec8c9474a2bcfb9f7c3',\n",
       " '51635bc92f807c1e1edfe599313fc178ae5c4067',\n",
       " '1b57ca9e17457cc93f825806538681303cc79570',\n",
       " 'd7abc5f5abefb0dff47ec4fcfd4d01923fc57546',\n",
       " '607d2e9088a0fead98f68c39b902544a3db71c90',\n",
       " '7721ee408683d588264e19e5ebc6f5391774f044',\n",
       " '92d621500d3c994c7d1cbd8dd41c42abb9180ac5',\n",
       " '345801d44455d9f353f46c3f83a3dc4b347d0add',\n",
       " '705978548501a64057c3e088dc663774e41d65fd',\n",
       " '748e463bef86394730da44aeae9540868aeeb1f4',\n",
       " 'af9492557dc07e00269de5f15a29dc251edc8a89',\n",
       " '2d4d85e16c78ba5bacfa78109073c3a4cd3fa309',\n",
       " '89c2fdc42113fa84727258ae9076fc22db95548d',\n",
       " 'e37c7b7cb7c4aa46dcf1208d9ebaad3ad963e506',\n",
       " '4ca1c4fee80d938d00ee42b01420224ed410185a',\n",
       " '3a1acd53ac5fad2bf6f7c5edc8fa9922b707accd',\n",
       " 'e73a8f786cae4173301b33bbd81438a8207be2e1',\n",
       " 'bf3616605b93696282549fd9eb6af32117f335a9',\n",
       " '3fad5510946161d385ed4b743d381c9d9efdc603',\n",
       " 'ff6bd57fa3d8860553ec778e24d73e775b280fc9',\n",
       " '1bf451b9328e1696166a883e5366f8a965396ab1',\n",
       " 'bcab72c98b749e8859e22d2eec6440bec8c61102',\n",
       " '98a969d11d3c856979e513a28cde3c2a80186d0c',\n",
       " '774cc07bceea4100f851e27620bfa479a90f017f',\n",
       " 'e5511057fbe24379009e6ae09e202d9cd33f7963',\n",
       " '19705c9d886ea91bf671593b0202f9a3a4b3923a',\n",
       " 'cfce625dabedaa3f8c846df15b60bd40a1c7b19a',\n",
       " '3f6ff0cb395eefb0980acb391857c2a4fa95f075',\n",
       " '8262aebdd6d64a31faaf1a66a9fb316340c606b7',\n",
       " '4f47a0362760ecd498f4208be5ebafd6cada2edb',\n",
       " '4c27f56c210f3731b488d19b9043c99cde52992d',\n",
       " 'ab2df92a6caa3ec3747490969c4eda3217650e4d',\n",
       " 'e00b84c0b995b696e68ba89f9a12f0f8d6e555ef',\n",
       " 'a3946ad9a816681ab96e247608bf6d0043cb5893',\n",
       " 'c0d64a47421160b193177eead89187d50a64eb60',\n",
       " '4f2cc905bf483cf90f187d4378adc4f02724bda0',\n",
       " '4bd7d9a3ad1d7fa106849ca46b62a3fed53e6b83',\n",
       " 'c0754b000f22039ac1eb8b2f2d8cde1374c4650c',\n",
       " '1d5cdd17bdd8e3e9b887f528ea3dc565da21b958',\n",
       " '7c57b0ee1292981fdffab3551e3d21a75ad8f5be',\n",
       " '58a24ca9298add7506ec47e3e9cf10d1d5025344',\n",
       " '1e5b86af70e11fb759a8bf61f8e5dec5e6a1b78e',\n",
       " '5dde34de1190cabdb239e71d2fd05e5163d1c554',\n",
       " 'ee38029ef8a29bb2f01aac830f35a504f27d33da',\n",
       " '86a3a6b9c7c823a564e5ba3e53f558d2c1dd80da',\n",
       " '9348efe2823987ad214e313984fdff8aa31d9a8c',\n",
       " 'b86a036cfb9b9e3dad0e89f99c048e9ee041c0be',\n",
       " 'f8b92336c8e80fa998aad0c6ff1695419314d3f9',\n",
       " '72c73b94db02d5ccb2840463867859812204be35',\n",
       " 'd4796daf1ea8b1071ee8760002fb3b3936711a49',\n",
       " 'a206fe1d34bb8215ba481ea3a18398d14f4c9bfb',\n",
       " '6aa256782d0eeddc4d3f86bd39d2b5e83aa2e750',\n",
       " '0e91f34968a37256a2038346eb5a2ebedffe2e57',\n",
       " '6c935ce43a95f346e25853a470b7b8ea99616136',\n",
       " 'cb34340318d0e304f09362c3a2cd7b60d4624eb3',\n",
       " 'c1f1358ce351348a4c2e234e4d60347ec2ca5c2c',\n",
       " 'a532ed9c6c4f6aa25189965ef86685034f9bac03',\n",
       " 'c0c680f1ed9744bc779dc1de853b2e239f19a53b',\n",
       " '3b3cc90b721b5d2f92e49a84e4a5495306e15a75',\n",
       " '791a388db3cb7156098bebcea7c72089656aeebe',\n",
       " 'ea68977065391bea1c02a93ce9828f71493ab78b',\n",
       " 'dbaf7fd0f6e70b0bf2e50bdf03586e8bd97e584f',\n",
       " '2cebdcb92d61430f286e90840a492e1f66d20cc4',\n",
       " '5b8183ff74a69c684fed1209b790e09d34481cdd',\n",
       " '2a221b459a8a682250be560fa5874c82e9f36908',\n",
       " 'f49e6423e5d70866dc94b5a33de9124a58179c74',\n",
       " '2e2a39a95849a3db330906cfda6b83ef6fab744b',\n",
       " '78fcb49ccd8f300eefde02ad83fd6438a8e9bec0',\n",
       " 'e557355807a4dd8acf1a72ec6d6c2c8521ccfbb4',\n",
       " '257e901b1ffdf05bf0108463eb6c58bb8081c9ce',\n",
       " 'f8d2340c920abd0b4bce2cbec6621809f84fe87a',\n",
       " 'adb7b90953a2b88a73d86d627812b69525232140',\n",
       " 'ab57db67059ba10d183c13057106f5a322b8eaf3',\n",
       " '2e43e00065e629bfe03ffcdb24696f699c7918ff',\n",
       " '95fa4cc60f509090f9fbeadcb5e1c59fec0cf552',\n",
       " '586bccd5b136ffa7e5850a5af65dbd84f4d1201c',\n",
       " '25cdfe290333a21965f958b1c1d5ee44f7e1c4da',\n",
       " '64caa4458f3d0d79484b0fd1e0ecda7cb7056715',\n",
       " '8d38ce93b18a5ca3503546b8d792889e0cbaf82b',\n",
       " '88720ba17e3c8cb2298dbd53cc1deb44610e3619',\n",
       " 'db23a6d9cdf705c4d6c907edc2317ecc94956f11',\n",
       " 'c106d8d2a762ffd12b9d03a338f2d2e088243f69',\n",
       " '79480047b182f778f89565db1ac0b294c887db4a',\n",
       " '9763056f05f1db47a869e1a8f578acf464b3f46d',\n",
       " '819f2c4e54ad3f4996ae18c2acaf0f23fe30568e',\n",
       " '35faa3940025e79ff8c014807faf546415f4f54d',\n",
       " '480c4aa07de5c2f8eb8155492ff185e85851774f',\n",
       " 'f38efd7df9bd825d4c8b44f68d3b9031bdd1d6b1',\n",
       " 'da6a2f141676469f5424f6f67585b37439b0881e',\n",
       " '2afee9ceb3b81ab12742ac5b3aba92ebee0fcd8a',\n",
       " '4d09d4c4dbb85064d9e10daacc4ee52093e2d5d7',\n",
       " 'f06a4b7855b255020a27b4fae0fa3dfd8f15485f',\n",
       " 'e8d712b85fdaf452f8373265ac68077f6f24fd00',\n",
       " 'fbe76fedef949361315193fe3cf85f184042dc1b',\n",
       " 'ba16b977ccb62c5537caad139ff6f2756aa28bfb',\n",
       " '0073edc5ed61275bb29413486df554a99063ae55',\n",
       " '00624bc7f50459550519d1b7b30bdeeb7d57b6ea',\n",
       " 'a4634dd2eccc2652944e162d61313176d7f2fc59',\n",
       " '4951df2d6262f86a59c9c35e6ee312bffe3f91b0',\n",
       " 'e23c78449e3b6bb92f084d1b1035f734f7ab7fb1',\n",
       " 'f7aa1d9f269fb5d2b0b528c590bcadb87f8c647a',\n",
       " 'ad91b0d99a5a1bb6278ef782c5835c460abd2d3d',\n",
       " '23d0ce6e3dd2336f6c39cc819d66fa48c4add93a',\n",
       " '52debc60d100d51d11c8782dd229d0de94c11ec1',\n",
       " '72295e2626393b8b4252a51c830f47c1fb7ebe7e',\n",
       " '0619f3a7614f27f39f545b620a239c0d22337ac9',\n",
       " '7c8cd0b0bb8e992f598dd96e6128f6b947b73427',\n",
       " '7f2ba8e012ef4ce3fae741ef74c3239dace366d2',\n",
       " 'd602f897bd863493bfef49dec50af4fa18fcdb74',\n",
       " 'f9360245b1529893f32d717509c40da4ef7ca14d',\n",
       " '74e1d549c9c8cd978667ca2ea3b957f209aaa6c7',\n",
       " '6d3eff9db1880c6e749705c5222047322eacb23c',\n",
       " '6331017a31ab6495c038843dab2954582772ce0f',\n",
       " '78a6076bf9fb7a4f3c10027cf6fec53de3c3675e',\n",
       " '47716c4ebd349b515bfa32da1427f48edd0e355e',\n",
       " 'aba3129c4faf685d86bec3288e2a26d89fa94968',\n",
       " '0cc13f838b55e3dc3f364ee13800ac2a90fc928b',\n",
       " '1fd9c65eabb808176c725e4f95e585116a1f1602',\n",
       " 'a62861463cef7590bc42681adbc6de7ec3f1be0b',\n",
       " '77bbfaf55b6ee074bd78cd2b54c38bd65d5d248c',\n",
       " 'e378b9abec2824446d8e6f09e886b04c5f69f30f',\n",
       " '7ae5401a20d15360b3f68f9bd5caa717f17fa95c',\n",
       " 'ad3898130c05ee4e41a4694f73208448aff25e64',\n",
       " 'cd6d730ccc4bc490fbf04b9d490d2c3a6aca708d',\n",
       " '2496ecdb0802efeee0e067323fd2b5e60dc7ea09',\n",
       " 'd9fb126bd39b401cdfbce1645912a6ef880e3ff7',\n",
       " 'a893e48af9b41fd48b92ef37f9693dbca4a3c127',\n",
       " '9a2bfd858e8e46071a0339b85496559a3470af09',\n",
       " 'cd51ed236dbdc5cb9122aca39cf437a72acf0072',\n",
       " '24a76c0fb5c6c64d08db40163aa9b62a458b62f4',\n",
       " '1f86a5711610c3d4100ccb11c7584754412a1069',\n",
       " 'ffb45549390cd32fe3b47845b15ec5dcfd14be04',\n",
       " '5cb9d31a8492b5b384048b4ad1b0db4d046e3cce',\n",
       " '722a27db7713f0dc560bb9e731bcdfdd64151a17',\n",
       " 'b0d67e35e10bb2682d6e417061c8987173daeb8a',\n",
       " '65d7c40549e544359be906083f1402ced2dee6e2',\n",
       " '5a4f9023085aaa5faf7cbbf82e2d64fc22976541',\n",
       " 'eeaca040ce7d5e24f00528b4d591c954a4b41fd0',\n",
       " '9d6c2de51318dce1c79008b4058fd119fec27e5d',\n",
       " '48a2669a3052507c61daca54871f1595b53d1819',\n",
       " 'd1233f00c1de3255bfb03b2536d126bc9cd73dcc',\n",
       " '87815452163c4290dc5e97cd7e45d610ca91e844',\n",
       " 'b15cf0a6313767ce28a627c9c8216d431583cd83',\n",
       " 'c928674130226e464e28e2ff993eed553d34a5b4',\n",
       " '08a56dd53dbb6b24dc027adb476b19b1487510d2',\n",
       " 'cf8e678c9afdc315991e76f16be2c1ace75b2b55',\n",
       " '9f3efcbff568212014ba9e676294dae40bfc45ae',\n",
       " '37bb7c48d483a8eb6f77178ed01c659e061783c4',\n",
       " '19286e9719a243b9226b8bd3aa8f0c75a26a96cd',\n",
       " '64ea80c2ac75996e6443d3a3abaa87040541f067',\n",
       " 'e3f904d45fa6cf4b8619d824c89f282742061f04',\n",
       " 'f2fd5bc5923e34ff41169cd5f25a8158bc3f0672',\n",
       " '53b9b8296b46d63cf2fc05be9ea1913eae6c59b7',\n",
       " 'f55118c4fdceb40079529a029001481a2320fc3a',\n",
       " '43153ac01a2a3f2614980ea495bb42b557fd832e',\n",
       " '0c9536568906ffb7d37f22fc26949a2eedcd4540',\n",
       " 'fc7a63cf67cc6d679351602a9a436ff4cfab10d2',\n",
       " 'f64b8bde37aa6ef728413da30c83970c5dc389bc',\n",
       " 'c36f98e3e4ca3b4851b641acba74117222a71c39',\n",
       " '2d850521113eaff5ae6f3d6c76f28a26cbb6f674',\n",
       " 'b971dda8fffe338d2e6e5e63b8ce1d92fd17241f',\n",
       " 'c04ef64a95091a6780431ce58d6610b6ce041e92',\n",
       " '5fc2f3ba0b4051e4a3a88ab9a70e6c0b001b1afd',\n",
       " 'b13b3842f2dc4d3b3f7ced4b198364b98ad2d4ac',\n",
       " '6c01f5db3d47fde9acef393d1c1ed6b47652e366',\n",
       " '997b9d68425724d86cc6b02df1abae1720b387fe',\n",
       " '7c162f55dd5360c7acf1b530bfa65b264c775142',\n",
       " '097cc81fb2d44e364e76bed81b998af57a44f4c1',\n",
       " 'e3f14955a8142ff3b834488ca23694fdd0fb0022',\n",
       " '4d9a62c3bc0b83de77de19f50146b44f4ac9e243',\n",
       " '320d1a4c5ae51a46297a69da085a4881d438a39d',\n",
       " '371f8644d0c92da103240a492e6605af9a918af5',\n",
       " '4470054a301522b77a78534b26777e29a1a30265',\n",
       " 'e9f818edcbe0ff3a70bae0569df6fca1ebbae224',\n",
       " '9424a5b5a606f0e681956bf362e2f945486d977e',\n",
       " 'c932aacbcf78a010664cde658de681a114cd0969',\n",
       " 'c981dcdc7cc7c107c6b212941e798c2b6c67bad7',\n",
       " '190fa2a7bdb3098c9dcb662782a104bfeb64208d',\n",
       " '21b8c8fd592248e91962423b1ffe86f5796c92c7',\n",
       " '013287fba0d6e0fc3c41d74f2a57441f88de75e0',\n",
       " '1dfcb06ec493a7f70887cccbd940b4f078012000',\n",
       " '637d539319ee88eb9bac6496b611f019a6f5ab31',\n",
       " '9735a0018be038ba2eaaae6f2df59a42f5445d2e',\n",
       " '2624c7003d0433400fc6aeb8454dbd9b2235cbcf',\n",
       " '783e0aaa833b37333e20214c7479c0b48be40242',\n",
       " '5425582efa62c02cb9423418353644fb030be1f4',\n",
       " '73c45cad0944ac118463f9830d47727adb41a1db',\n",
       " '14c447b57e138f56a28808b0377136db41234dde',\n",
       " 'dc3432133db22ca8526399c7887abe97e5a9a3c3',\n",
       " '3d4f6fa4fc6a9acd45f178f0d23cce91d6269f2b',\n",
       " 'f4b6ee1920fcaae90d920a3aa27168bb680b9d99',\n",
       " '285376f86d6fdfb75d22753ac3a816d0d4beab79',\n",
       " 'ff8ce72b292d55f6c3baffe0a90b0193dec458f9',\n",
       " 'eb2206243dd8470f534ad66f0843302e315c17cf',\n",
       " 'c9632b6b1b5f9629df68c777dce769576757cca2',\n",
       " 'c60af18e68eaad5b84e60201dab43531ad4d287b',\n",
       " 'af720485b6664c8d41eef37aaf3daad6faedcde8',\n",
       " '815359ead8afb5024970e12212c9043d72d14fbc',\n",
       " '091fda02087070dcf26509a3ed68d95fdd0f5cfb',\n",
       " '2ed9df37894f76c935ea90b94c09cf8a51085d1e',\n",
       " '8ccee45b013d835d4872d85ce20d9b75a81158d7',\n",
       " '036bbdf5e1af6ba04d0638a8861744e46d39c3e7',\n",
       " '2543d9ec776abff2606227e088e3451881ca4416',\n",
       " '51e643b20b9ef4bb875dbc89409e1cb33c5edc9b',\n",
       " '6384ccaa799fc80fa4e522ae70bd80d328aa7f07',\n",
       " 'ddbed90ad52eae3e9c4831bbfb27482761946e64',\n",
       " 'dd833af5a6cf1226ba27f9ec16dba76be9a5ff69',\n",
       " '230b3d9f3ccca2a4878a954164860b787e7d1a77',\n",
       " 'ba226fa64b97123d58fb8e78be05de4ee60026d8',\n",
       " '5de814e461c2f115dd60cd5f777091ce085652ec',\n",
       " 'fa7219da421a625bfce135d6b533991300e7338b',\n",
       " '44e12093b88ee41a63c84a3793b6358da3e22e9d',\n",
       " '52821156f726ca208c841aa735482bedef5584fb',\n",
       " '37d5478c4a2aad6dc0ddec431744d1e9aab77074',\n",
       " 'cb7486f53f572606c66378c43a62507415a31661',\n",
       " 'afda1131f9d3054dbf2053d2785435856411d21b',\n",
       " 'dfd3f895ffdcfb49bcf0caa8e79e5a7015068647',\n",
       " '706694dc621b5d523ca58f177205959fafd6b374',\n",
       " '42104d348a5c2f06f8d9628905fd3860f4bcd19e',\n",
       " 'e42f0d993de0eaa38ec9a98374ca94f775648e97',\n",
       " '684de3a5dc89c5256a1164ea4ac76386c32c6564',\n",
       " '15a0334551858c11fc2ff907c51faeb263976f59',\n",
       " '83c45a1473141f957b21ab5f8d02055a9ea4cdb6',\n",
       " '214079917c9b306f9e67fdbb694dbb0e9bda961a',\n",
       " '05d0e5075aa42eaa993a93f499db3f965385e0b2',\n",
       " '14799d617ccc45bb37d2221494240e854af8f671',\n",
       " 'cdf9e38cb3142861244575c6854701014345f466',\n",
       " 'a2674dd8644087448f42932e86712e0b98db0698',\n",
       " '1a92905a4d0b94e175fd55b6c6f25cc34022f4d3',\n",
       " 'b01ac72c9625a5a9aaaa215d68173ec26f3652c6',\n",
       " '1ea6e653710e925e113055f7e9c9ddd3c0e77d70',\n",
       " '329098d62b6d01540b452b02d17ebb03b92d31b2',\n",
       " 'e7e4619f9781036c11059d4c80cee766b1487420',\n",
       " '2067864a03cc40bdddfbbac953f09474c7284682',\n",
       " '85f2cb619abbf193b1b9df6d7c3b7cb0fa4598c7',\n",
       " '8d8ce8f87b5add06cd378653132dc6b7afa313a5',\n",
       " 'ff4c3c03659cd2498f65992d5319fce83bd2b2a8',\n",
       " '23aa17022c7afe07ddb3e6847c16490f536c86f4',\n",
       " '80d54ca44101827d39ecc496097635b0a3636f46',\n",
       " '17006dc40fff7b849d7cac298a5aad8d9caeff82',\n",
       " '38e027a6836e118f588e490211efe0b3c5164aeb',\n",
       " '57f0d7811c97f6395f1f3ec1f4c0f2e5b2f525d5',\n",
       " '11173808bbbe2fe824f58269eb958b8e4953eb40',\n",
       " '1fa047edf665a721f6c82ffd9feba80b147517c8',\n",
       " '4095e4d50b1fdcc2d0da40423f87327bc4930031',\n",
       " '43754400956a190a1359601fc9e2f2aafe6c97be',\n",
       " 'dd7e0189bdc2c75c383f9561f57a27d0d5a1c19e',\n",
       " 'da544640e692e6cc954376248652cac98d1c0a49',\n",
       " '20c328cdbc100d0d731de2a2855d147c966219a8',\n",
       " '11ce76873a8ab6d0073b9a7d52eb8d2a03c593ac',\n",
       " '7cff9a9172fce15716770bc008cb70330c2d5b58',\n",
       " '969f228ce10fef64bdd11e9ff5dcc4e58cfad393',\n",
       " '04ca5be5f9db6a9b422003f9db8afe843f03b6a2',\n",
       " 'fd6eefdaa827902583adc9c337cbff3721b0c544',\n",
       " '819c4fb431bf06972b060cfb91e908f549ab2502',\n",
       " 'e326c4b9fe3659ec1dc3af53fd7e0893809dafbc',\n",
       " '4788b3665390243b970ecc1a1411f24b3d67408b',\n",
       " '67d1fae06057cb7039b1cdf7556677f7818e158a',\n",
       " 'b99fa1fdf9191e221033ba0fcd292ee36e4d1f81',\n",
       " 'a2f3bd23523371e5f7070bb60784f90f03e5023b',\n",
       " '03e9a39b14d23aef5355ee78f8df91a5b1c3b655',\n",
       " 'd0c7747e37376c9d58db8869efa3cdc9ec68e4ff',\n",
       " '37837ca16c8a4ad91282396c956eda78e4be6e85',\n",
       " 'd14d6001062e9a3168f302eeccbea15ec171a5fb',\n",
       " 'a27b4820bc258b7ecf4f40d41e0f0923da368348',\n",
       " '0ca7fd832e44ab26921f61f55c3c01eb3a381beb',\n",
       " '11c23e9724d35c86278786741e02a4790c66a25e',\n",
       " '3611b1dc713db7fc2295702158d1c37f9c106ec3',\n",
       " '59ddf54fd657049b45cd3c62a9c54e99c894778a',\n",
       " '2bca38bdee4d83c7f17b8fbc076f835f3319c75c',\n",
       " '3433c2f7a1da0a18950854672ac5acae64c65667',\n",
       " '8b8457ffc028f96ffb89801a0320b067650a8daf',\n",
       " '8e60a715ad9725f9ae5d6668de78019c8ffdd2d6',\n",
       " '140039fc569affd06cad8dd186ee2ffe25cfb93d',\n",
       " 'a691cd8ec261a228fa11e495289273b2abc3499b',\n",
       " 'f1c239db715840afd2c42019b0e57ae7243c74aa',\n",
       " '41f1d6f7dcfdd48cd63a2c84a1e160ea2ac1e559',\n",
       " '92801452a428a5ad2b23b8234115f2b24c14fde3',\n",
       " '800e0bb3d74442a6538a2bba64565ac17dbb3ff1',\n",
       " 'b76e35f6eba33d8d1339499e991bc293e0940a3d',\n",
       " '49b492566ed44aa7ef2adedf3fcf6e6d59baec9e',\n",
       " '9007f15f6092a6d1626c78d838e9935144e88a7b',\n",
       " '0eb868a55fbf3f1a791368b76722f07688da586a',\n",
       " '00bc2a7b8181d038c30e4b61f5043eb3ca5c3fc1',\n",
       " '04c791193078dbd3791e6527df15bc8dc466abfc',\n",
       " '43c4ea2cebf09257dd57783fe003632b4ec40402',\n",
       " '07f4bb74544931c906e0aef4720aacc42be394ae',\n",
       " '23c22b1e29c3ff1d279bc97fa417dc11235707fa',\n",
       " 'bcbc380db43dd6023a6440e0a8c4ace89f33af49',\n",
       " 'e2c536248d13aeb0861fb27c486f059ee1f91f87',\n",
       " '1f7948c489216ae46d451bfcbb56a940cc29d1a4',\n",
       " 'd4c49d99be5344f25df3ffea3cc3afd5bd0a8190',\n",
       " 'f78b3e94214fc2924d1b91260b4abcef332e4c45',\n",
       " '36cbec5ac4567aa87e37e6c231d41a4bfede0882',\n",
       " '13ff11951d9cdc2fcb6207297018e638f93faf62',\n",
       " 'e959e5851b98fee263368aa59521973588248a50',\n",
       " '14d4743dd152529292dbbb4eac9273bdcf55630c',\n",
       " '8722c5c3508dde759eebaf9070ac542cb426d7e2',\n",
       " '61d96587a0a3382bdeb1feee8cdcf1b2ec5ffccf',\n",
       " 'a9e0dca4cc32b9f111db1810f5487c73e8881017',\n",
       " '24bb0f2fdb661b82d5e683d1fc55c0b5bb993abd',\n",
       " '635c9924a91609ce43a03198c0d8da6e6d77819b',\n",
       " 'e8ab801cc4e1c7ca55a7e802dc0ac775f3e3ac01',\n",
       " '14e8980f60f83f52a5f5b179a0fa81304a2e1896',\n",
       " '078cf15b0b59c1b30fcf1d0509f994ca31169aa4',\n",
       " '5d75a2ed71ffdcc568a35bff7262b1dae01f141d',\n",
       " '890b556fb4c106b17055ff2c4bb72767dbaed76a',\n",
       " 'f4e461798f978a11cd5cdaea8e7b1df7d31ba31e',\n",
       " '3a28707a2f6509e40d5d1686d21eb583341da5a4',\n",
       " '2299a5285624a1c26077f0e152bc6f6a4d034857',\n",
       " 'cbf3bc00b85dbe3789fea753f44dcd0797c25e35',\n",
       " '2ae49e99b5e0c012a6e3d77e2da5e0b0de1ce9b9',\n",
       " 'ed78c87e4dbba9b7625eb2ac890ca5874ca52c28',\n",
       " '5da962b9eb9d5fa98c6fe04cb0badf49f84c36ce',\n",
       " '7896523e8824a90b24b045a7b02067104bec15e3',\n",
       " 'f62cbe07d3bc548142cffd21136bcc7ec601eaf2',\n",
       " 'af3e084ff82c2c978c6ca9f9c8328416eb70376e',\n",
       " '96d4e597fdb00f9d40f5a43e8f9e1e63bcd38147',\n",
       " '45cd61604d9755fca05def32de671e570bdb3cd2',\n",
       " '71d74b513571ab1a46dd67c3da2f99338f7ffd2b',\n",
       " '14867b380e7a95cc2a0235acc9ef0f349a3a7ed8',\n",
       " '3518f659075ee3e8ad3b87c19ac1e48735aca1ff',\n",
       " 'df8b2d92fa75f7ad4e3c6aad9fb574bef8280d3e',\n",
       " '2d107501a307c1606a12a3deab856e599d3f3aae',\n",
       " 'a16f7cbf66936cdafb21cd46b5ef118aea351f13',\n",
       " '4551a4fa1279fab25af499086fb7bdb5ea6b6105',\n",
       " '0be70d0a84d496b2264360b2f1860f83be9dbeb0',\n",
       " '202827cda4ed19afd574a737a1b3c962a3e61785',\n",
       " 'b4cd1eee57ad4b30e5cc789757936ce9e73ccbbb',\n",
       " 'fff3b1ee05d9750e8868de9470ea46fcb0776f66',\n",
       " '2b4f001d69613290bcb9319044f219036e9ca772',\n",
       " '3914de9862b37fd1fa3e1162af0b9b61b24e1901',\n",
       " '8e11cb4bda2dc9f79ea2b04a02f33cb17b3a5c60',\n",
       " 'da5ce109dde3ead90d50d8dd681ae179825c9a60',\n",
       " '15ad2f7cacbb2fdd5d4fc73ce2f0a66395fb496f',\n",
       " '1cc26e997524def9970844927dd260081db4ea80',\n",
       " '562433b7dbe5d3c65e6f2994a367e1f6c3292e93',\n",
       " '42d2dfed09144a9224036b1d52fa6cac34e8373c',\n",
       " '14c29a987505ec2dabe0724c26c6d6c527aec092',\n",
       " '5f0a1af1cbaeafad82e70725bf095d06e172c0ad',\n",
       " 'b21fc2feb9f591de86d9732ec0c1432a197a6c31',\n",
       " '293d5868376cbde1af44ee55544230c27eaf3069',\n",
       " '39a72c6e69ea8fc0c2c9b4ffbe5f90c2719bc39c',\n",
       " 'af2ecb365e30ec7bd6522dafbdcccaacf16160c0',\n",
       " '09f7510a54954f7746a00375739d437d8fab65e1',\n",
       " '4102d0a3fcdc5b6b02c4d5d59fa940b93118106e',\n",
       " '40f4a21d2ce97e006496020b3be58b7d358139a7',\n",
       " '713619754d60d96b656e7c346947eb45e14ba5c4',\n",
       " 'ec813f384d7e3bf5f1c6e9b68fe7d226f9d617c8',\n",
       " '430b793e3fa4c47d735a1f5727ad0e4499acad13',\n",
       " 'f46d0d4814cf346838cc03c67125f83127138c62',\n",
       " '8b79094e4e6dcff088faf50caf56c00fb5485578',\n",
       " '7cee320cac4bfb3a2d66d0dd4eb75e2eb026607c',\n",
       " 'abc11707b892bb31bbbc06562abb3a668cccad62',\n",
       " '551c836b876705280cce2daf88892263d3620b01',\n",
       " 'd59ea5b7b4a8b772e7c80ed71e7da0d4da834a32',\n",
       " 'cdbeb570d97af6ec23c8d0cded70feb5aba95d7b',\n",
       " '40a51f8c1803cd75eef2eb3d71d7ec096dd51bbc',\n",
       " '2233777ca10cde592244ada0789025587f1cfb3d',\n",
       " 'caa0baf35992f1dc700537f369ddf7a02dc26ed1',\n",
       " '5eff4dae3bef925f31656ee7c9f33d09b44515bb',\n",
       " '3598e0f536df6b07b947b645182324279df46d94',\n",
       " '9ce46eda54edd9b5e43d03bf167bd4b658d9a0a3',\n",
       " '7748cc574059360f39aa8f3b8ec751902e7b64e5',\n",
       " '34c707e910c78b2cef441c8b1d6c6f2c0f658502',\n",
       " 'da8b5405424e45323aca7e898ab41833cf9a074f',\n",
       " '0858cdf3346f2a1b08a6ee89066d7bbbcad91b0f',\n",
       " 'ac31106f8b6d0d5ac2cc141e1c52dbf45463eaff',\n",
       " 'e46ac04e930e7faf774e1b54ec55da69491f2f43',\n",
       " '481e7e858b7c69f49bc4239e5b5d193e8024171d',\n",
       " '0fb47591e4161154b61293a5bb4429477638040b',\n",
       " '31e33110fbae83ef26d5261638aea5663e3cacd1',\n",
       " '0b59546279d6fdc1274000038321927f1884282c',\n",
       " '9a24bfd90d81050795fa21ecc921c8c3c2bd94b9',\n",
       " '14e14199c4280812167f27b149d98041c4b5b8ad',\n",
       " 'cf657ff7c2ba45072d4cab5e9ea9278ffade61bc',\n",
       " '99596ca78e309e4d23367d621bbae766d5cbe7d7',\n",
       " '5672c8487c23644f0ff6a28902ca5bd32cd24804',\n",
       " 'd44d8d0fafd0e86d8de7eb584a531b1fe9574886',\n",
       " '18816fc5cdca8e623873c50fa7c2a362086e0f93',\n",
       " '8b63404382839e7383181fcb6c090157d2078907',\n",
       " '13b495f342aeb24e78fd4cca827f54ccc2f185de',\n",
       " '4fab71b1a16b2ed3be11aea5c6dba2826645c372',\n",
       " 'ec103bdd47920cf6c549da55f3cc664046315d69',\n",
       " 'd2ca7bba6b41569ed294b731ed5460d88e75b86d',\n",
       " '7a0ec5018799bfba9ea9e25e3082594f29fb489f',\n",
       " 'ec49c8faa6cb87159b6ac97d727c00aacce1b0f5',\n",
       " '4c9079f70525f9f00ef4042a3aec5554318d477f',\n",
       " '98f310e28b5b219f7201d7692ddd1892b9d477ab',\n",
       " '094d831af8998b22c3b4290c3c3bcacac07fcf2d',\n",
       " 'da2db9dfe7964bd22c762cd074d1f9f9021b3497',\n",
       " '53e02433b239e8e064680a9c5bc255f2841a062b',\n",
       " '273ec3ae1c92fbcf971c5bfa33365918867c770f',\n",
       " '9cbbcc6cc0f50500e1b576416c499e26304a7d19',\n",
       " '471557532517fc580253fcba72f3b11ec646f261',\n",
       " 'b60350a44f391aa28b4bdb40b54d6785b48dfb83',\n",
       " 'ffd73cdb9b7817c9a1d96b211cbc25bad6f021f7',\n",
       " '06b6b6804634f8cbaa2509e720803fcf284d965a',\n",
       " '13028b18f63685ac3b7ee7671d2951e89bf7a8aa',\n",
       " 'c6118ea5fc157f80d530c8704845821ca6204180',\n",
       " 'c7980bbf0215b07c468415f92591723b4eb53111',\n",
       " '693693d504bdaa2295779b90a3879c577807140c',\n",
       " 'a38c4ab9c44c676ce1c9434cd55c8b739c731598',\n",
       " 'b3c037b5594cac7cc1606bde1c405843a1ef140f',\n",
       " '31b40477428ec02eee2b7283a84f948182ac3bbc',\n",
       " 'b848a58a3c46b5d5ad91cfefa9dc59fab395d21a',\n",
       " '7fedf080e8ee31deddda3bca2e427a762417e455',\n",
       " '92646165aa77f00ad500185d7e8a2fbd8c7ddb0d',\n",
       " 'eac989524b2af37e69f0db0d3d9bb1b8820bddd7',\n",
       " '234f92b812e17023c90def3c85df3c42983f4b7d',\n",
       " 'efb76e2abb44a4435428026f0a1e4c74c49b1afa',\n",
       " '816ceafef96c48e4513478d57231801c1bfe3406',\n",
       " '91ebba4aec748ba839c9f64ace1a2f22228a16dd',\n",
       " 'eee506d2b7a411557bb0a10274200d88bc00fae5',\n",
       " 'd12c8d753f7370a3a4a8c411d5807838c204193f',\n",
       " '55ccd121bee5cc1a51cac4750517a08d44213f82',\n",
       " 'b6da03aa1f326b8145be8ca074187d78036d97ca',\n",
       " '8e9130d045d83b68b279778dc38c5f332b0c8f04',\n",
       " '8f3cd8c939e7372d636c8112869ba5b533e62b2b',\n",
       " '28f9dc2eab2343dbeca092ff210daf37c197d3bd',\n",
       " 'be4103225a00bc8d212e36acc7debb4f31d1c945',\n",
       " 'e95d38b37e6d4ba46a0991f62824339e9b5ce0bc',\n",
       " 'c1ea2b76162ff7ef875c8250bd7df57ae12c6a4c',\n",
       " '525ec1e5feaa3507210551145e8b327c5e2ab46b',\n",
       " 'b3ab84e7ec4b4472843103f996a26b2d1e1cf279',\n",
       " 'e55d5e773e20f23825a350e459bc18570f7b2acd',\n",
       " 'd2901396285e029e7fa6dc406cae82b88a98c38b',\n",
       " 'c7725c7b8343453ff5776393ebd49c27919630bb',\n",
       " '70568991f510ad8a6de17833b7ff1366c42e07a6',\n",
       " 'ead9d1e5b55ff2ab2053ef03c0c8e7257ee16ce7',\n",
       " '51e03879c4a99da886f64ee9a549e38213a9262c',\n",
       " '3c13a7b8b8c8d8e70388d46537d5e02992899691',\n",
       " '36c7cfe383fd4abf08458d4f580f07ab4d92f2b4',\n",
       " '5893cb96ab815d021aa182d9cdf4849133cdeb1c',\n",
       " 'c47025de1e2162b6e9869675de62c0f0e9f91fd2',\n",
       " '5998ad7791aed1b9ad7d078300151d04e3eb49a2',\n",
       " 'd30e18323f15426c3cdc8585252ed34459916f51',\n",
       " 'e4a444e2c45216aa1de4190ae34ff62217487a21',\n",
       " 'c70de2c26f84a90adc9ac7ccfced9bc801e8eee7',\n",
       " '509d132f20cf12864f7f3f10f48a9b07ef4bf69a',\n",
       " '947d1079f896ee0094624051e3d5aeadefcee075',\n",
       " 'bdfa92c6acad67e1f358f53298ffbd99fe30f99e',\n",
       " 'af38e907e1dc736e7a48acd1d0aee28472dc3b51',\n",
       " '0255d1dd687a640080de530afda304b152f46745',\n",
       " 'd48725bf818648770194b94ec0e70b8b2647b8fb',\n",
       " '63b51742ea98315201d601d660544fe9b078460a',\n",
       " '0254384dad4a20c0bb8cb9c61c6943fd3f9a5e0d',\n",
       " '3530900678cb76ba782ee0959e47df87cd6e53f1',\n",
       " '749fe5c4b3fac6610a4a3f6f08c4fa3b361d1c64',\n",
       " 'c08bc1c86bdf203163f804492280a360cf550500',\n",
       " 'e8969b27c0ada6696c4ec9518e1ccf8416e64112',\n",
       " 'dd89594c70b75bba47baa96cc97595aa084fe26d',\n",
       " 'fb2352057ebde766470d0a81ef1fb0c081c9715d',\n",
       " '9d71ccf6cf38b3c68f509bac466e287bf9586869',\n",
       " 'e57e7ae68f5284eecb77f5ce7b3fc33311efce87',\n",
       " '6e844650c8e48136924d57bd7f6a773e311de371',\n",
       " '5a1915ab4298c54fe4eef47e08d87fce1b882dd8',\n",
       " '0360a81ee9a27d18c56590fc330c362801cb6759',\n",
       " '5dae833be8b171f7dfa3530cade851fb63748149',\n",
       " '23090054e762b6c182ffe7070715bdac159fad85',\n",
       " 'f2842dacfb1bfbf5bab4ca1c3405f940ec65cd59',\n",
       " '52a27dd764cc00967da50d5d8aa88e806fe3fd31',\n",
       " 'c1981e2b0ae8192aac98ab6d5208ea68fc973d30',\n",
       " '4abaebeb5744cd805fadacf6a3ae5f3ab944d067',\n",
       " '17ee8586792af72c996ef25357eddb1918c7f9b1',\n",
       " '26e37c674450057f24fd0e130c736d724ef2e148',\n",
       " 'b754a4ef37df4114dfb8b9398ff777a4c6d4ecfe',\n",
       " '06e8f664b5decd47fbb11fa678cfa3c35d34fac1',\n",
       " 'f2ca3c5d0e8266eeff733d7b039378c520fabdd4',\n",
       " 'e1ad7f365f4ac03c00b5817a55944f44b4042d26',\n",
       " 'b51db3d9534d5d0d911783587009c67d901143f0',\n",
       " '005aeaee2cd0e775420f83312267597e164ce2a9',\n",
       " '28506c568a4bd18eb23e59e449dfc104333ca8f1',\n",
       " '80aa769e699852150ac542ba50f8d4729ab0decf',\n",
       " 'f0efbbb772c2d4677e78883bf38c69aaed58f0f5',\n",
       " '32f3cc020e072a4d29a1c9921d70d3bf7ba1b62e',\n",
       " '0335fd7150971b454e54d06ea15e9ba64c4c45d9',\n",
       " 'f455fc3dfa8c55da7395315140f99e816a1b1dec',\n",
       " '432ce5de2003425b634c8e6e5e483623142bba5e',\n",
       " '06c1c9aaec1688d738a44c12bc3baf082257b98b',\n",
       " '3ca72ee747862dee05ffd21a4407629f91896274',\n",
       " '083dc334f42bf66ca7b3182d7946ad40781a0e60',\n",
       " 'aba9775dcb5c4f7af1f331d972948ef324f888e7',\n",
       " 'f2e54a7364f972a2a7660aa9141bfe177a54939e',\n",
       " '722378ded5d3da1228f017efd086df97653c021a',\n",
       " 'af8d3a650b16e05d0a5f10d3d728fe176f1fa06e',\n",
       " '949742dd9da5cb8970e28b0562eef034ea8d8099',\n",
       " '0cca547eb441475c630eecf38a8359fbf3c1c447',\n",
       " 'e5b0e76a40a663ca8ce3239ecd442f5f10cfc6d2',\n",
       " '6d3b632d5aa2726cd4753c9b62a2d9643e433de8',\n",
       " '5dba53155a05d230fb488a3d8015295617429d0f',\n",
       " '666866a11911ea32d9a31c6327befd45e12c0d0b',\n",
       " '67929cb289ef22b51b3ae731352ade5a91086191',\n",
       " 'a20143b12b6097453d6093769e3c06295a539e7c',\n",
       " 'f8a128936698ecc6bad408ef71f53eb640dae287',\n",
       " 'a8645493b5fe449cf8d1d9d997e088bcb4282210',\n",
       " 'c051c2f6ce0d15da4de87c8ce6d4b383776ac62d',\n",
       " 'cc91035192f98b3e0230573ddc49aafda9033c18',\n",
       " '8f996fa38d55012b52732fb0b1bda2d3dd95f081',\n",
       " '5f945ffd50b2623799f6460cb0d98d438d0f7a6a',\n",
       " '3dc21cc394502b5cf6c27843e79052b22508c219',\n",
       " '64b6d494442bb902de820f2a429c84413016542d',\n",
       " '603949ae1c1a705b4b323d01ac79cf2acd19a431',\n",
       " '98e53506e6640ae557917c31d406c97b121367f3',\n",
       " 'fc159b0e3ad1423300954f34d1fa5111b964ab54',\n",
       " '8a8b56bc75e4095660ecf20c71b9ded043a45157',\n",
       " '4b0ec9e6572aeafaf3f8919bd357862f12f3c634',\n",
       " 'dedd4d2cffd8a419b7a7d98e05973e1e16d78c6d',\n",
       " 'b06f6af615a229c420c53c77f4640e04553e6180',\n",
       " '34e723ddc8b9aa0a8224f442fb7d1651d9b110d8',\n",
       " 'cae658b47be1516be4f6860bdb15ff11f0835607',\n",
       " '96a028dd6e376332475bfb6dab205e53cae67912',\n",
       " '0726c07166ff785e2697f2c45069d027fbcf8427',\n",
       " '9a83e9cc53ef57ea788eec83f54329df31e0c57b',\n",
       " 'cfc96b0ee56d307800244fcea3f9952d85fa405b',\n",
       " '5ac151f55054b77befd0b9dd3b4284d5ae93a507',\n",
       " '5e9cda4f23049aefde55845562ca43f6b3517049',\n",
       " 'aef6446054375e2d7e1a81086fbbcdf5e7b2e1bb',\n",
       " '91ba0ac16e48737fb524a0f4a67f475e558dcc7e',\n",
       " 'de04b516c40c395365df255f9a5e30b02e2652ea',\n",
       " '5c677e3266b6548443737de398c32654b0d61f3d',\n",
       " '3ba43bfb4fa6d3875ca8e1be45013b53b96832c8',\n",
       " '71c86bc63b251ce68ee13916cd1a4bc2a8479696',\n",
       " '39e68e2bcf7da1e0dec7d6aa548ae7a2ca41f04c',\n",
       " '713ba95c1a55106b5ef8fc1a83937a6c0b59b3ab',\n",
       " 'e8ba735b422a37400ab1a413653079eda38265b6',\n",
       " '5e3dff87dc0a0d87a6bfe3027f274810a30733f1',\n",
       " '3c1649fd273ed9600fb6ea70dd6eca0495df74a7',\n",
       " '7101cba129590ac2c4ca38be770c5ce4d4d85182',\n",
       " 'e029c4e497a3cb0281630edbeac2d4d821d5a302',\n",
       " '52790ab66931a8380ead3442c1a682c28a845e85',\n",
       " 'bbc26f53b30ed685a6a72864633b6db7df5266be',\n",
       " 'cc0ef88a5be2d0c7d87c6d373a495f5c7fb42a7f',\n",
       " '0bd4688c49ee9b7d1cafd23d6ef4fc7d846a3d06',\n",
       " 'f3b4c57f36321245d40414e539b26cdf4ce9757c',\n",
       " 'a1ea01c0169ead32cfccaed028d621042a20b219',\n",
       " '01f1a55601323e40cdffa2b7c5867e79f4977b52',\n",
       " '84e41770903375782438ce09fa96b3a87ded4259',\n",
       " 'bfa80be1895da14ac6d02475ebcd364510679ed4',\n",
       " '0b2f2c8d8f76347619e773ea0cb5f643d6c4c88c',\n",
       " 'fae97434dcfe67cc8c4b9c595ac6bc652295a2a2',\n",
       " '1e2406a72a446d52f8fedae287ffdae508a52969',\n",
       " 'b73011c5ddd04087390e6016e15b788e6941668f',\n",
       " 'a6ff5b29f479dcb94b7660e8b8fca6a89ed8b5b3',\n",
       " 'd02a3c6c8dc8fc11c512024253a97693e544d90c',\n",
       " '60e9549162c3521c3445a8dc1fdd23a59c945cd5',\n",
       " '5a0a76e01f8b9ebe37e630a70c4cf30239620fff',\n",
       " '4bcee6f672bd2f5066474a142765ba02a24938b6',\n",
       " 'd824863fe5685ea80775c50d4bd397fd602b27ca',\n",
       " '025dcc4851eee2475907a1da7ef1e560e8c6661a',\n",
       " '2ad02b1c06de08b850f74622cf2badbe52fbcd4f',\n",
       " 'b18b5901166d881bf5dc164b217717c584082c6d',\n",
       " '09f54f2bb3e66ad2023c4e2d2acf1c9ee37fa1a1',\n",
       " '1334ca3237cd22fae4e732563928f08532c42811',\n",
       " '99e1bbfcf20372c1d0cfd4ce3556de67ab5a75e4',\n",
       " 'c5a6386fe07883fd95c7bde50826dd1d7608221c',\n",
       " 'c89c9baae9ec3ce4317190ccc028444492968b07',\n",
       " 'f4a04e933c232f6568eff7859cf5fa64ec7b2fff',\n",
       " 'b0703ab3c47f4b11ac6c0b7887bd3bb4f1971998',\n",
       " 'fa0d07adae7612296ca966c70f08366ecc9f4dc7',\n",
       " '0053c661c1ff53bf584c3672b036542199df194a',\n",
       " 'fe2f959294c12d88c2fb97306f0bbaf69619c077',\n",
       " 'f654c736dc0ec8a0368188c11f2f3555a433d6e5',\n",
       " '9b8817e3f20b839b169d5a42b22f759cbe456690',\n",
       " '52636178b3a7ea5356da25c836343f878473fcc3',\n",
       " '98eb2cb23bc377c98c129b237dbec37700fee724',\n",
       " '215ddf617fd2420231be0cb989a36ac915a319bc',\n",
       " '562c3ba9101c91dfca1223f2f104b61a64013f34',\n",
       " '45f67283de3b9f79ef67b319746c07fb3257435f',\n",
       " 'f449cb67b44d3eb6308414ba8496ef1fbf0f5618',\n",
       " '4e293ad38946b483d257bfa6622c39fcf724b7f0',\n",
       " 'fdfbd30d038a0ff5da7814427c892fb79ac60d52',\n",
       " 'bb8a2397d514d4039ed2473358f1c8b46c85e4df',\n",
       " 'f811500ea22be9f46336212759e16179c41712f4',\n",
       " '857d663f90bb7ac0c8d9a091c7ca985188ec9c71',\n",
       " 'dce108e24cada265b8d08fd6cf8ac92b4de23fb8',\n",
       " '1b3d6f4a039508046dc2a60078c9d6313bec99b8',\n",
       " '9a5e54deaa9f855304e8e3ba95d2c73e0a85d24c',\n",
       " '5b30e711b128768cf06155c0466229ad253782ea',\n",
       " 'f72d9b74c50931c1a380809fb6d39f5631be5d1c',\n",
       " 'c0b28b022fdd50ea3887e91249c9c2c471ee2286',\n",
       " '97172be271726665f6812eda5d8f80f359cb9be2',\n",
       " '73627ca1c2c8adc4d8a81ad2cb2f53ab92ece345',\n",
       " '56cfbab9f7adf2cced4c6714501b98487928f615',\n",
       " '9d36c134421375e42b403fd758c24c6e29cc0ad0',\n",
       " '6ee7a374ec9187d189aec92fbc58a74f1a7a9b6d',\n",
       " 'f22492ff6752fe0f896d5dd2c02e42395076dbbe',\n",
       " '86fe9e57a99f52ff2930f67a42324a40f0c3b761',\n",
       " '850ae68af8c8130e9177e0916a50d4153e7be6cd',\n",
       " '8d752a94b4fdd8559c1b8ce80b07bbd304490348',\n",
       " '5e654340c0c0d3669e6f31a0ec1593cb229c4eac',\n",
       " 'ad8a2dd62424850e40967dd059f3c03c7caea365',\n",
       " '24d88104ca6bce196622c02d03996093b9886678',\n",
       " 'aac286848c80220996902e3aa5ad1ec48a4b0e05',\n",
       " '6a1609468ab9c9ad0d3abd48154d9bf11230fd6b',\n",
       " 'a9e5df4cba85fd6ea1e7e84bacb3c268587496b6',\n",
       " 'ed03c9db66d73ba3c7e78ae7889457f47796ab8f',\n",
       " 'dafd58448c27f645cfab8799a3182ac8a85ddd7e',\n",
       " '0199d984f385a9710f34cbd0a08d9b1c21c826af',\n",
       " '9e66e1f371ffe19cef48f9eed420be5b627d58c0',\n",
       " 'cf323ee6966fb8bac23afa5e068d69d7e06376d6',\n",
       " '3068d011254d9910dc35f6f291fca83090c3fe51',\n",
       " '16d2dc670e7992900efd1d00df24af7a556729a8',\n",
       " '490ddfa279e6afe6abf641c66f59fe0c7ad0ff64',\n",
       " 'c21208fc58ad2a61bca7e423f525d64e26357ee1',\n",
       " 'aae4dfc7f8c33d0e9ba3bc194e785b4ff8023ad6',\n",
       " '41b0c3f0c827bb27d0565847b289ebb51b92712e',\n",
       " 'c4196b708cc3e094232f793320da6397e1465fd3',\n",
       " '1c104b800fe98e0580c55ae0e4359cd9079beea6',\n",
       " '43b408c0d2a1067908e2a9496402c50246692b68',\n",
       " '54c9636aa59d4461701edd336430e21dcb728eee',\n",
       " 'b6148aeab635574708f4d13d7788b1b34ff98638',\n",
       " '8cbcb76d87da450322e454b2ae8537692d75f114',\n",
       " '434f777bfddcc4d7bbdf15dc36e3086d9d430fe1',\n",
       " '334667b72fcb44078c07ba58a16e3c690a57349c',\n",
       " 'd590bce8ffc7738f486afa9b7ab772efdfba94f2',\n",
       " '33de7ef0d01ae9d88845990e3a666d127334333b',\n",
       " '8cb98c7c7e80be1e583f404d06f45021f56ab591',\n",
       " '82a12000ab2188a535efd7d8302ecc7f221f9f9a',\n",
       " 'b4527e8b6b3c0ae1059461c6b43d9aca4e6f5965',\n",
       " '1ebe26134065d87d15dfacbdd658777bb283fbfa',\n",
       " '10dc640563511fbe5d3de3810a0bfd006c5bca42',\n",
       " '7986675baacd618143ca3911ffb3939e7629648c',\n",
       " '74af593491b7d37b05ab66ec4114e34ba716eb69',\n",
       " '9c61a21d84037d092a2983e3258d4268c80cd415',\n",
       " 'a3b029d16942550de2f438e77eeafc1aea68dc3e',\n",
       " '3a93528692c326032bb0ac03ac56a506e9ecfbee',\n",
       " 'ae2ac45f5305ca5f6d39fa9770ec623e85a77bbf',\n",
       " '30dd84b55399be47cc7f9db0e0537820b39a63f6',\n",
       " '41ed2e6bb7584c618cc2c2253aebcafbc9151ac4',\n",
       " 'e7dd6db6e2399db90f0ad888b970da7354c2204b',\n",
       " 'a151d99604e8f19ec3c40ef358f10325cc2510b6',\n",
       " 'b848f25f594a7941f97d01ea3e293c86c08f9593',\n",
       " '6ff3ff6e084ca037ce8f21d2b59ad666d69c4b4f',\n",
       " '4d01597249cca8ed1412b73eb11811124ec2ba88',\n",
       " '26d960fbe78701622dde8ca90a1f9fe0c3134baf',\n",
       " '44377f18ca588a87eb24bfa7d8c67f66c950f528',\n",
       " '364ed9353c85ed8c965847a8037f722633c29967',\n",
       " '461919f1f1a9920ac041831522d9eeead8ebf3b6',\n",
       " 'c44fad3f449ccf7e0620d3ccf8fa9e57a45679bc',\n",
       " '0445dd05302b6876a671fdb4d9f83ef95ae94696',\n",
       " 'e477015b8f4f9cb8b1911bf8b5ad20218cba179e',\n",
       " '4ed0aea150be8edd51352ec96a3dac85248fc5a6',\n",
       " '784bc3ddfd8df7df59275a50962509b61a7e1da2',\n",
       " '7a2015e900b4e722283de19190d73c8cf4c030d8',\n",
       " '80ef01ca5155ee625864d39ddbac7507b365a588',\n",
       " 'ddc44965d17d22d6a7deca65d9f54cb29ca666d6',\n",
       " 'c049ad6c21282353ff3fe25e484a6dbc54418e6b',\n",
       " 'c2881acd572835d16a83c126372eb7eb6209f38e',\n",
       " '895a008ba944a922de9d946b5c318ff87f09faaf',\n",
       " '51fb0c6f89320241c4daaf73a37d8e582d628935',\n",
       " 'd4455f4c88940e15aaf4befb7ccb1028ac8fd568',\n",
       " 'fc405e744bbe27394494e077867c28eac2cca653',\n",
       " 'ff6568af1c23b87bb5f6c4c5162cd583201f923d',\n",
       " '9ead3257999253f3eb6c91b7d1c5e6ea527b61dc',\n",
       " '0d68077869f40d9a98276c15bf363675741fe298',\n",
       " 'd994e4a53ad68f30151ac5b0b66d79e5e8c2b554',\n",
       " '0986cb17659a5af42eaa5c55de2413cf01062e7a',\n",
       " 'fc0f462ee411c9a058895afa76426ea012a69c49',\n",
       " 'c0f7fe7eb0598b946bee12d24f4bc18c4725a96e',\n",
       " '0f51f4d34f9e3d9b6a0c8e9a623ebc28d7c28371',\n",
       " '1a0f55bd7c9e37c8b6aa836069406a6d00183123',\n",
       " '46eb36bd99128b375e60387772889c1b74f3c2df',\n",
       " '3cdd0f20f3b8f50385d48972974b54c29a1794d9',\n",
       " '2be4171a73f9374405c352c1f86ef1e46daf66f0',\n",
       " '838be5671bc1bb30b00c61fd21f57943e57fed87',\n",
       " '4e5fdead1e12b29dc26dca15b16117b4b2b98bf9',\n",
       " '8a18fc3446c161a51dd97f8417ad92a212d4dc87',\n",
       " '6e36bfdcce6f82bae4c3b1b246248b52dd0f9fca',\n",
       " '2448fa03b6c7b7cff625f82d4dab0bd7c0826654',\n",
       " 'd4c4d2e7fee3572b01580e0356fadba1790ba5b3',\n",
       " '5b5159f0fe83089a7cd0e7e5d836c5fe6339b7c4',\n",
       " '8a81279f301cd93701dde4d6d0ee9f51b43f1660',\n",
       " '90495579af8514507c48d55a8c3a36cdd1f2197f',\n",
       " 'fbc481ae97f6894c34c102fd41adbc9d21110cdb',\n",
       " '6310db5510bf831458cf97a333ae0de7c047f7e1',\n",
       " '9933d97e0c14a5cf9897c8972b988de712d14803',\n",
       " '77d5a83eaf65a7f8629bb57e7c4748590826ce18',\n",
       " '857404af1fce27e33be9f4411e587028ec95b9df',\n",
       " 'ad7cf2abfb6fd83c6b06e16a9036779a041e4b58',\n",
       " '1a32e6cae0fd0f5150b20a1c5877e0601ec81fc4',\n",
       " '48f6e2b1c5678d39ebedeee6eefa9348d51f135b',\n",
       " '25758ecef85541cb818caa9f7ad194d1f087ca28',\n",
       " '03979e15bfa150d1a26fba4b0049af7d19b845f1',\n",
       " '903323a377a72a99d64bd2c426f09758be2dcde7',\n",
       " '83a07a4e0dba67b30c22962bf3e36f521ceb043f',\n",
       " 'a78607630003bb570ab2c447c388613bf39731f3',\n",
       " 'bc80ba52089baad2d89ca54eb4bd1a69be951955',\n",
       " 'b75baa8aaa98bf65008ba6e9d43ec56f39fddb15',\n",
       " '2e06f7c3b562c268f4380ab9adb7160e382e5358',\n",
       " '188f10cd3d2d5e4c17a1ba097d3421e779da5296',\n",
       " 'f045e6fb4c8519450d3503433caa611415465572',\n",
       " '82665af2e5b2142930cdb17b8e94a3c8138cd22f',\n",
       " 'd9cabfc3f82e300eead26f5d178cecb14493c58e',\n",
       " 'c67709f733ecdbe1d994f263dd15c5ec13728015',\n",
       " '594c7616d0e966d31b15decb09b6a43396da1b00',\n",
       " 'db4e24b98d094d0d2d2efeb964a8a2c4ffc4f5f2',\n",
       " '8f34090e23a9f9a3f6c48dee07dd4550a343fc03',\n",
       " 'be1d97f0fe767c2fc647d5cf8df0e26a908e035a',\n",
       " 'ea1f36c853c061a396f131f9270dbbd3c57391b0',\n",
       " '4fa3595f2f9be4eef6681629da6d654bec0b04ed',\n",
       " 'cb5da2598dcd0cfbf011fad26b54e4ad0585c818',\n",
       " '1022231a9374f893dadcd0b3990b84978c6329b6',\n",
       " 'b2f04ee18ce619eb820da3d67d4c0560c5fcece0',\n",
       " '54bde86a2a6c7148f77e85c659aabcee2ae07dad',\n",
       " '2b2bdb5f3fa615237346e43681d14655d85e9561',\n",
       " 'd3501244c5e41389244c9bdcb150ae2a14eecb64',\n",
       " '8d6e3379bf374937797e570472c5d9ad571307b4',\n",
       " 'db8ae2cf8dfad8da78a7c8a27216637c23c76b13',\n",
       " '8d7297abde7ae1d89bcdf85ed8e3bdd520fdc67f',\n",
       " 'fbdca57fbd2416b1893d8ed0f78754c379f9c223',\n",
       " '43c89bb3fbf26ae4527e4ce86061014f9de770f4',\n",
       " '8ada9d6649475c83c7b7311dd22b5f7772b49bc8',\n",
       " '4ca856b07eeae529bcef206b41737f9edc8b2416',\n",
       " 'df19264c1294358bff4b20eb621afe5a4d2919ee',\n",
       " '04ba74925091391ae675bc8f45082e6836885085',\n",
       " '60e3ee2d9b77d58b8d6ba90806ac4e2d4e37491a',\n",
       " '07260aa795b86382fbddea37b7b8f6f7d5a1db0a',\n",
       " '234c55016259fa01889b53855779bfa79e269b58',\n",
       " 'dae919c8e91904eac49f87ac44914da829ef216b',\n",
       " '44df9e918f39c72eff44598777ca7847c771c42b',\n",
       " '0648d681397806ccbc87aabbae6a1661ff536756',\n",
       " '6de1f5fa0eceafd4b1e94f75e407d36b63050680',\n",
       " '0ee4d1c164b196f3b6cc93122a7ecfb3e9d135ad',\n",
       " '902b4d15f5a8769eacc1bcdf107ab1421cfee5ca',\n",
       " 'cf95fe621b6d9ad04d3a9a907f989bd75cfc45e2',\n",
       " '96688f01d5ac49221f3664d21fbac91908840928',\n",
       " 'ebb78bf2e99cfbcbc0baa8142ebdb196a40229c7',\n",
       " 'ca3ff533bc29940747ad426f318a6cc95f29700f',\n",
       " 'd00ca2072c5d49aba0e0d8588886c4193483571f',\n",
       " 'f1ed7eff1b604c0860502a07eba91215dbf8e371',\n",
       " 'df6e72ca810f84208dbe89afc3466228a8bf6268',\n",
       " '46bf591e0d6740702460bad22ee1df0bc9dbd3d4',\n",
       " '2a2bf746b2e153399ebfda26ab32bbfdb331bc13',\n",
       " 'd212621ef32aef6c88d662924bd7dd39616b441b',\n",
       " '3dd923845ec003c4785cc43202275699cb81cc4f',\n",
       " '735eba8a36142acfedaeaf67efd4f25a31a21ea1',\n",
       " '1beea518715320eb1d96b4877f96da1f6b18ea70',\n",
       " '3493c62160b396f17ae621c59a2050ca4721d2dd',\n",
       " '74ed4dfc96621c3dbf84d71dd2342a20aa4bb9a4',\n",
       " '8328ae69ded6d69878f13bfac2672ab317c02241',\n",
       " 'ec80c7fcf5d9389faf5296f6ff1ae35aae3cff29',\n",
       " '1a47f1c2e41d6129524ff232da97c8385351503a',\n",
       " 'dea5df4a4ec22bc5bc373cc5951bb0193b444441',\n",
       " 'e0c9ea76fe097be1174fe9e0ab3ed3c0fefe9009',\n",
       " '2d1feef144a6b386f85c05d5a4fffed3388fb603',\n",
       " '8b1fc739f0333b30115b37ddc29c15a49371ba28',\n",
       " '01cb3c1be761fe6eb2ead9cc861e24ba2a9745e6',\n",
       " '3d43a50bff707c6e41b5b4f0aecefe6c000e557b',\n",
       " '3cdd897d5e113bc1dcbe9714b5b74f8336da2175',\n",
       " '38e3d76267a8928e331a3ce20a3fe71ba14a1a35',\n",
       " '042d5b74b2fd4654b3247a7efdc9b3899aac371f',\n",
       " '6f1392fdb88914bc99682ba785530df815a0e71e',\n",
       " '60634d1dec5f749357b264836d873c82be300e92',\n",
       " 'ffef132931d961bad8df82a6a8f200fa1aed7746',\n",
       " '28292f9846d0f335878fdc5de20f2d6550cb2826',\n",
       " '9db341c915c72f314460ca704b1f5e3722f43c16',\n",
       " '099a5d8918f7e13d5543e97d09eb91a7582292f6',\n",
       " '9bc1e2c791f31bca2f19c96260adee76bfef72ba',\n",
       " 'af72ea59b3d8117221bf1f5d853aaeecdf0ddc7e',\n",
       " '01052305adf0a4e8c4eab103a70aecbc2a9fadad',\n",
       " '8f5eb94bef21a9c9d134d6e7e27e57ffe5cf736f',\n",
       " 'dcf2b4bb36e201595323f606bf0426fb45aadadf',\n",
       " '13e237ef1273d0b5926424181a2de505abcf5abd',\n",
       " '9f8c700d1cacbb968b3e4bd123fe361c054d33ca',\n",
       " '448a76f77793519a512c0df01be7da89aea9b8cb',\n",
       " '58f9963b6ed30dbd6933a97eda281194de4fdc2f',\n",
       " '30a206a671e52b01d41644aee86add08433fd6e4',\n",
       " '5f99a47eac741ed76042f9b5cc45fb615c29d880',\n",
       " '4e524f06065c1180200462ac37b98d4411069298',\n",
       " 'b013347bf1a1ac9a072ef2e80d11f812c694350a',\n",
       " 'feff74ea7476acedd9e3a2cba10363b949d57685',\n",
       " 'dd85b1e40fe193bc35dd84088be75a8d01b6e211',\n",
       " '36a7a35618233d3f138030a9a8c2acef7dcdd886',\n",
       " '8982c5daa4b5a648b5237cf4666f6e88fe3cff43',\n",
       " 'ec2cbe75b9ef9bc51955471744272c141b496769',\n",
       " '5421218ae52c507e74dee995f5bf790beade00cc',\n",
       " 'f17fdad6bb32e18438824a9c791cd1279158dd08',\n",
       " 'bd75608e899074b38b71c5029f9de917e36fc58d',\n",
       " 'bef520c5183754473af3b3c2236811532ff7d297',\n",
       " 'c71e1811823f1efbd27ffb34a68340e81c1cb7fd',\n",
       " 'efca6c49818aa8912b326cbb2e2038e84c1df6b4',\n",
       " '80f3e36ca9a5a35690cba5ee5c6c5984f7a553d1',\n",
       " 'c77bde3acc51f40d58f2ce21e8d3a2829cd10573',\n",
       " '260ab52bc00c2eac27e61cb6b83fef69f125508f',\n",
       " '44f51a91d1e606965b31da701579fa733e0fea9f',\n",
       " '7398cdb7a725de88c4b116c0c0823c342731f6e3',\n",
       " 'c83db12560e3caf9fcc05db502f60ad018b497e2',\n",
       " '0e0e50785ec1cec4b2ddea255477d267923ae5c6',\n",
       " 'fb0bcf8152c16e0d2ceaccf0b7d36c90f1b80068',\n",
       " 'a465bf0ee2adbbb25b50cd728beaef8f920df485',\n",
       " 'cf0d0cc061a6d9376654b0f7148c7d7f5011a42d',\n",
       " '2b2816b22aa7c48034e83c34941ac983c16e35b6',\n",
       " '65da60576d9b2bb7bd6c4fbac2ce60ec55a070df',\n",
       " 'd62fd0b9fc57626ff8be5319dec9da0203e37df9',\n",
       " 'd7b12efd78dc10fb6f74b09304b24d2c21324c1a',\n",
       " '38b04dddb8c323a35061767fee3a36c45eda49d1',\n",
       " 'cb65dd3eabc9b9f6ac3dcacea912496494ae1891',\n",
       " 'a78102738d42883823b105cab331fbd853c99b90',\n",
       " '4fb0b95e0bbab2ed204c6d1a0b3d092a86ce8a04',\n",
       " 'f2b8d370e1e58c788acbaa598a26e3bcf9f0104a',\n",
       " '5ec2acf83c81bcd0fb2c68641afe9e7c4f65439b',\n",
       " '1696b0902f42d51582d6f73b769bc9479717f58b',\n",
       " '4016e1cfd2261c57635ca883a1ff55a7bb714131',\n",
       " '20ce25fb99cc4c05e33ad7ab1ef0a0ff99db38fc',\n",
       " '55a1e3674147d7a10a1418ad8c7e24c7f7dbc034',\n",
       " 'a768eb82210b2164608cf30db14a4abc7aed75ad',\n",
       " 'fab78408a201d9ce20f83815cc54e576b771879b',\n",
       " '25b8e20ad7d8dc3128168fdff3d105b3990e398c',\n",
       " 'fbdf7320da44a05b0e4481d6fdbb800cda93cb87',\n",
       " '91697ee9bfe9344b055214e5f46ea6bb3c55003d',\n",
       " 'ec2ac681bd67f6c61550be21b5f7b5343a0bca11',\n",
       " 'e228fe1e89db7f1694e2a6a8aeb85fa66ad0daef',\n",
       " '39886b191f227664b1b132e40e3036d95309be9b',\n",
       " 'fd50c4007b68a3737fe052d5a4f78ce8aa117f3d',\n",
       " '1fb0c30225fae7c3df02fea4d9b64877405e4241',\n",
       " 'fa50620feb6a18152f92a8268c98fec7a2d0a21d',\n",
       " '5be750cfc71d2ff9bc36f1b70a4669d806be2724',\n",
       " '37b67d931b07e7853ebee72ff54c79da28245196',\n",
       " 'fc0139c6ee50006bcf4d4b15eec795f28523685c',\n",
       " 'e8b72e18053132a2a61695f04bf2799591d48758',\n",
       " 'ef696d4fb74f77831fd914e95bb031c78f55d8c2',\n",
       " '0c210254fc2eaf598f3a1b68212d4202d91a9935',\n",
       " '375bf13a9c97da1625efb631c9947ac8b209053d',\n",
       " '9fe65fd54117cbf680949a5b45bb21af9b0d0624',\n",
       " '624d53d32202963fa6a526f731975b49044f8e1d',\n",
       " 'de99a6e6b3e4b8ed93e52129263d823111785845',\n",
       " 'cc11bc44377c6239b50245a546ac92f75d57be25',\n",
       " '3f039b01489fd36c9d014261ee2db0d3f2954802',\n",
       " '8846c318cbdba2a48074192a80ed2f93508d10bd',\n",
       " '21cb8e69d6f9cc33900be296b212c62d0eb7bf2b',\n",
       " '90bb2b812a9e0ea91f4b0ef9fc96702860bd56e9',\n",
       " '27c5876084018430b3c1dcd19cc961e7123c61e5',\n",
       " '61f4815e53930863da99aae43849b3f9b72ae456',\n",
       " 'f1eb2048fad71e70ee3b3773400b0a4de90ba38d',\n",
       " '8d84fe6fa0a13e51c2088514cc7261da42799aa7',\n",
       " 'e9ebb1243cd4b20293fb412fb7dc9db5326f2032',\n",
       " '4e0c0697128ab0e7cc7c65d09f6ede4ab0c405cd',\n",
       " '6e981d4d64dd7470f1507d022cf8973c35830658',\n",
       " '596c8a10f2f2e29832176fff52a3d7d193ace106',\n",
       " '0d60fff0a1acc26a1d1abeefd8ae99ceedf72704',\n",
       " '051a3c4417e5ce1217d25f92a349daf70bc81abe',\n",
       " '21b939aa269f9ca6580ed757c6aaf2b54263ac2a',\n",
       " 'ad44985073e6cd15af6a45b7c46b113427dd2d19',\n",
       " 'bcd49377f3e01f84c2aa8c0c052366a805524d48',\n",
       " '8f6fa54098fccb6a7cd62815d87913b0c7e9599e',\n",
       " '8d6a72e16d01181ed039782ab1ad08f6fd224f03',\n",
       " '571b1e79c92668d69fc58577e5cc4f4a794ca54a',\n",
       " '573a742beaa83e8d36e7d5df814ea4f2658fb779',\n",
       " '52a598060ca8ae44c509aa6c8a40b359349983e7',\n",
       " 'f74715b75bc04524cad784fa2b47236b63278ff9',\n",
       " '74107a26a19fd6ae0ab541c9706c36382733c67f',\n",
       " 'aa87dd2b20fba0d232caeef1afcf375ece269b87',\n",
       " '0c3f6a3f14f05af4e36c07013f97d6b0602758fe',\n",
       " '48c2f86cb7ed202c43f7d7c937528b5eb781eee7',\n",
       " '394f39460037048383a2eb402f7df90bf95d3e9c',\n",
       " 'fa878ee1927e88345adc5ccb8fb78a28f926955f',\n",
       " '6521512a9ebfbe533781e66d939f6ac971aa11d4',\n",
       " '6ff7c4756c559645f3ca65b05237eb1d7a4ad937',\n",
       " '2bfdfa46ad745b8245751f48e852b038c3c8178a',\n",
       " '1fbe1e32eb0f6c5eca7b960891fd4541a45f7cfe',\n",
       " 'c5702a4333465193e090d75728da7d6af8e25d0c',\n",
       " '87c63e12d238f66a189d3a191ddcf44ddb7fd72d',\n",
       " '92025c3c342b4d1a0958eaf513e02e8594fc273d',\n",
       " '40de680ece6a6ff0c31899fd7341ac2e76bb419e',\n",
       " '5b2d15c0a31c6ddaf78ad129d4e6257cc26de096',\n",
       " '8d7c42589e23b04b703d0bbbca98f3d546fcb229',\n",
       " '258f76adaa41535afe279c56a3ee3980de710a5a',\n",
       " 'd2240f70adf79bad0124c32fc8cdbada50aad202',\n",
       " 'fa8fcc4459210d7fdb46f4e4cc17f529cf72a9a7',\n",
       " 'b750a792b59722e1656c8f3bcfa04e25823e1a4d',\n",
       " '2711093b93fcadb27a7f420f0cdee57d67b187e8',\n",
       " '5c6f619146866fffc47593153e555e201f81ca85',\n",
       " 'b2aef066a80480d7318662695495acc2e36fc1d0',\n",
       " '7d723320090c03a28b571454b18adef1bc5416d6',\n",
       " 'b12e059649839a0e2040e6e4839c136e1ed13eaa',\n",
       " '694a46f2fd2c822ccd9cb67f6b2c8525792cce3e',\n",
       " '6070b9c27430d24e26fa03138726f19e2a469e2c',\n",
       " 'd97b56fb0099977c24a12a6d9ade4565b24e52e0',\n",
       " '38cb24f68ea8644817530063a3db231e1ef51561',\n",
       " '164d5576dbdfb0e395f472f6361eb91bf96e7b9e',\n",
       " '1ea474d7df25837f3becc477f4f1bdf29bd8adcc',\n",
       " 'ea9cded8bcc9c6c2b1344e3ba67064b81a297768',\n",
       " 'c4e3be157adaef05ae34b85227b9b51993954768',\n",
       " '5f432d544a3f51d7ddccbcde1388ed1418a8da8c',\n",
       " '44b96d71c28e8a00910535a95d26807981be28d0',\n",
       " '15184dc1ab233e362c0afe074580de7642b3bd54',\n",
       " 'e629ede4ea8b14fab3b3226eedba794dc83a1b47',\n",
       " '0509e65900c48bd7fe8d01d8460ae2edcc5a61df',\n",
       " '43f64e25328064716f91bd94ee4ea1932a7f2341',\n",
       " 'b9afd265a5873dd193ee3f348f539b54f42835ea',\n",
       " '626c087eba537b36290519476414d448c4e2696e',\n",
       " 'f52255a26608720cabe0a0883ab790247ac66542',\n",
       " 'e1d6f05b582ef27f2ceba5b0f6ad1f0d3aacc6bf',\n",
       " 'b203e654c9350ffed361b1963f961857055935a1',\n",
       " 'db907946a6a3ae06a07d5743a27c03a4241690f4',\n",
       " '342d49e73c7ad86c40d58c86bb01f16485a13d6e',\n",
       " 'a1fbc57cf66bdc512b92b93cd1846c08f924a3a3',\n",
       " '2b10fd341025c77a2f21ef6cb117a1ef0a2a8ac5',\n",
       " '7db13b4bbf8607c2ad8823844d9569c0c4262cd3',\n",
       " '8e8c73d94ad70506aae4f9b3d3cd0f1a33910e67',\n",
       " 'c772843496d047096014b8a1f044bc267d9f1cc3',\n",
       " 'fc2a83531abae50f562562ad844005fd1d055699',\n",
       " '54727c278b707881c0bdf8c157aee4b428a96948',\n",
       " '2e34bf8b218c9eb3435abba0cbe67f11a0b0d42f',\n",
       " '034b026410041df2960c27ab2b55eb5d198e6bae',\n",
       " '405a1e0df127f4374adb2521444f87b4d50aa733',\n",
       " '66d6a065fcabe1a6cdd0994836c42a095cc5ccd5',\n",
       " 'ade8b46860c9c1cd70b45549d20ae6aa95d74677',\n",
       " 'f8cc6eaaab8e6402795848d1abe14da89b8bbcdb',\n",
       " 'e97465b1bbbfb95604e0734b85eb21963207c7fe',\n",
       " '21958ae26b1b1441b00f7081b0001de4bb0890b8',\n",
       " '0b2084e3ae050d9c91e4d935e1684b5764e5a9dc',\n",
       " 'c04c2c245fec045cfdc622315b5bf7f81100a055',\n",
       " '8853de9e26a006765ad7125c51d8f7da77bc8bb6',\n",
       " 'ab9752e0c8ae8a7e357e051791f1ea3f4c77a429',\n",
       " 'e967acc971b29d175688cfdec5e5e7cfa507c9f4',\n",
       " 'a48da409b17cba8c1115b451dec8cd2307a4549f',\n",
       " 'c6a51d8219fd980fc05d1f40341427673e0ea893',\n",
       " '80c72a5c14a60e2b974804f014d91abc884c4eda',\n",
       " '114701c0354cd1954c593e51164f3ae59aee0b20',\n",
       " 'c94e7db01cec6a5683a5a9362732893590a6d532',\n",
       " '81a0e6456e8afaa0bf38b7599e90141ffc4a52e7',\n",
       " 'bba27d14d87ba96a04003d65dd9b952e677eab6c',\n",
       " 'ed5d0907f50940afb67bcd84f09d884f5d7c855c',\n",
       " '92146fd9515ce85d5e1302e2106c24dcf87aed91',\n",
       " 'e5dc56e9908381419520ba6ec94cb30318649b98',\n",
       " 'f74249613e30347884ffbb25e4f80e10dcb11803',\n",
       " 'e1c2fe757a9d6437c3b39969928b03c033a016f6',\n",
       " '0aaf62bce2e0a25d28fe1305aed75a1932a46bea',\n",
       " 'ccf047f58ca2b55d6985c8e023b6f299045dce3e',\n",
       " '417d730b4c94d2c376492c172967dd0aa4b9f647',\n",
       " '9f660492079dd4288ec2713b9fa9c28d94c8722a',\n",
       " '77265635803e25964c7ff8d6c8ccb9e1790c9870',\n",
       " '95d404d8a8569a0c445fe37aaeb1052e3236a5bd',\n",
       " 'a4dc7c9a0cbd53d268dfec6142a61d91d6a35843',\n",
       " '0c6f91c1d271ae811beadc7a3ad032c6bdfae79f',\n",
       " '227d9cc8bf3dc7b3aef48a7ce509cf5348974beb',\n",
       " 'ad348a21ea14abd30c12ebde07c83aa95f4a34c4',\n",
       " 'c68630d9a472fc1118e3761fd4b66e4286f59681',\n",
       " 'b528e0e002cb83ece01c6c507cd6a85a2b08ac6e',\n",
       " '5886e35d9a3afc4afdacbe6c888518f6313b56e5',\n",
       " 'a1511cd027cddf7d07eb73724d0ba5da0441bab3',\n",
       " '8a521d5c8dabfb0f7af86db989dc177848c83650',\n",
       " 'd2ccc08f4926111295d49a4ebc90e836af8e3a39',\n",
       " '3dc251b069b039f4031d888ca1013b1919504704',\n",
       " '700c9036c45fdbed26eeb6eb08171dcdfb9abf77',\n",
       " '14ef87d70907028d43845f39ab6d47e36732bf30',\n",
       " '95298bb6e788734dd987b8386d89348da8a53bb5',\n",
       " 'ba468e8c05ee8ca32163831ca9c0a51b955c1d2d',\n",
       " '738226bddfe1c9fe5d25d0470d2d7edb5bb22a30',\n",
       " 'b526fc044bd262feb5bc836a1d500a13f5ab3a92',\n",
       " '32271b50124a568c0f00bf018b49836f949d8f6a',\n",
       " 'a9e1cd65302914cfefc8c734edfd6cde7d06917f',\n",
       " 'bd4e8e8bd3a3e20b330817072275ef697b6d8fd8',\n",
       " '3b1aeb2e3b03872275152cf1cb2c00930b6a4413',\n",
       " 'fcadcabc587b1f71393835e0be21a80e8e875907',\n",
       " 'b4b27c456fa372de983816d80039e524054f0648',\n",
       " 'b0398f6a9507a8ad6eb4257cd7d6a08b08b6bdb9',\n",
       " '91e7c6c93784deb15c0984c39b93df2e56a6196b',\n",
       " 'f93c63132109ce236e4d08ee217210e3dc73409a',\n",
       " '786de3ce68ba1b5ea27a96e7fad39c83567eda0d',\n",
       " 'e7bdbec80550b70104eaa65407e1d90cf9708c17',\n",
       " '29cab6f37681245a9fcb9bcfb7059815b757562e',\n",
       " 'edef41ad5c694e2607508977a527486274172031',\n",
       " '1115fa9ab16c73f1b969a5874bac04cf8b9e6260',\n",
       " '0bf7714806cc9cf04f963e817a11c2763784c8d8',\n",
       " '55f13b83285d1203c8dd6e8528928194110d7037',\n",
       " '53996a2725f4bb0c3e9b03b0deac05f5f791c611',\n",
       " '9a5fae0337884789ea40d9e3546d3593f81a3f47',\n",
       " 'c6784f5ef132b1a3af52fb536329154f355d8281',\n",
       " 'c0cc0cc1ce2f43b1141660c309b5dbe1c84dcc5b',\n",
       " '0fa6617b453e874ba1cd8129e2f1193045966e09',\n",
       " '2964b4c6f0dcf54f3ccf01407ff0b77ffbb44d55',\n",
       " '87d8ba4d304b0b7572d05ecd712514fa0ef39a4e',\n",
       " '33beb01bc546dfb6a3bca754aa54c13d1086c419',\n",
       " 'bf5911d858a99c5f7b46e08b66790f3a6e6490ef',\n",
       " 'd1b915e3f3efda6913f240edb1d3dec57fb1b392',\n",
       " '51a14529f4c6223232cfb3eb269219e2fc76aba7',\n",
       " 'd61069f0ee6ca1151e9e1b694d78a7cb0876c2d2',\n",
       " 'de1bab8963cb356f655ab333b7f5f47d60cda032',\n",
       " '4a74f3efee669d3f089848510532b381fdb42621',\n",
       " 'bde4e9a77cf81b7087dc2dc4a6a05044ee4f8494',\n",
       " ...}"
      ]
     },
     "execution_count": 69,
     "metadata": {},
     "output_type": "execute_result"
    }
   ],
   "source": [
    "get_item_users(song_df,'song',song_df.song[2])"
   ]
  },
  {
   "cell_type": "markdown",
   "metadata": {},
   "source": [
    "### All Songs"
   ]
  },
  {
   "cell_type": "code",
   "execution_count": 70,
   "metadata": {},
   "outputs": [],
   "source": [
    "#Get unique items (songs) in the training data\n",
    "def get_all_items_train_data(data,item_id):\n",
    "    all_items = list(data[item_id].unique())\n",
    "    return all_items"
   ]
  },
  {
   "cell_type": "markdown",
   "metadata": {},
   "source": [
    "### cooccurence_matrix\n",
    "Given a document with a set of sentences in it, the co-occurrence matrix is a matrix form of representation of this document. ... To core idea of the co-occurrence matrix is to check if a particular word appears in the context of a focus word."
   ]
  },
  {
   "cell_type": "code",
   "execution_count": 71,
   "metadata": {},
   "outputs": [],
   "source": [
    "def construct_cooccurence_matrix(data, user_songs, all_songs,item_id,user_id):\n",
    "            \n",
    "        #Get users for all songs in user_songs.\n",
    "        user_songs_users = []        \n",
    "        for i in range(0, len(user_songs)):\n",
    "            user_songs_users.append(get_item_users(data,item_id,user_songs[i]))\n",
    "            \n",
    "        #Initialize the item cooccurence matrix of size \n",
    "        #len(user_songs) X len(songs)\n",
    "        cooccurence_matrix = np.matrix(np.zeros(shape=(len(user_songs), len(all_songs))), float)\n",
    "           \n",
    "        #Calculate similarity between user songs and all unique songs\n",
    "        #in the training data\n",
    "        for i in range(0,len(all_songs)):\n",
    "            #Calculate unique listeners (users) of song (item) i\n",
    "            songs_i_data = data[data[item_id] == all_songs[i]]\n",
    "            users_i = set(songs_i_data[user_id].unique())\n",
    "            \n",
    "            for j in range(0,len(user_songs)):       \n",
    "                    \n",
    "                #Get unique listeners (users) of song (item) j\n",
    "                users_j = user_songs_users[j]\n",
    "                    \n",
    "                #Calculate intersection of listeners of songs i and j\n",
    "                users_intersection = users_i.intersection(users_j)\n",
    "                \n",
    "                #Calculate cooccurence_matrix[i,j] as Jaccard Index\n",
    "                if len(users_intersection) != 0:\n",
    "                    #Calculate union of listeners of songs i and j\n",
    "                    users_union = users_i.union(users_j)\n",
    "                    \n",
    "                    cooccurence_matrix[j,i] = float(len(users_intersection))/float(len(users_union))\n",
    "                else:\n",
    "                    cooccurence_matrix[j,i] = 0\n",
    "                    \n",
    "        \n",
    "        return cooccurence_matrix"
   ]
  },
  {
   "cell_type": "code",
   "execution_count": 72,
   "metadata": {},
   "outputs": [],
   "source": [
    "    #Use the cooccurence matrix to make top recommendations\n",
    "    def generate_top_recommendations(user, cooccurence_matrix, all_songs, user_songs):\n",
    "        print(\"Non zero values in cooccurence_matrix :%d\" % np.count_nonzero(cooccurence_matrix))\n",
    "        \n",
    "        #Calculate a weighted average of the scores in cooccurence matrix for all user songs.\n",
    "        user_sim_scores = cooccurence_matrix.sum(axis=0)/float(cooccurence_matrix.shape[0])\n",
    "        user_sim_scores = np.array(user_sim_scores)[0].tolist()\n",
    " \n",
    "        #Sort the indices of user_sim_scores based upon their value\n",
    "        #Also maintain the corresponding score\n",
    "        sort_index = sorted(((e,i) for i,e in enumerate(list(user_sim_scores))), reverse=True)\n",
    "    \n",
    "        #Create a dataframe from the following\n",
    "        columns = ['user_id', 'song', 'score', 'rank']\n",
    "        #index = np.arange(1) # array of numbers for the number of samples\n",
    "        df = pd.DataFrame(columns=columns)\n",
    "         \n",
    "        #Fill the dataframe with top 10 item based recommendations\n",
    "        rank = 1 \n",
    "        for i in range(0,len(sort_index)):\n",
    "            if ~np.isnan(sort_index[i][0]) and all_songs[sort_index[i][1]] not in user_songs and rank <= 10:\n",
    "                df.loc[len(df)]=[user,all_songs[sort_index[i][1]],sort_index[i][0],rank]\n",
    "                rank = rank+1\n",
    "        \n",
    "        #Handle the case where there are no recommendations\n",
    "        if df.shape[0] == 0:\n",
    "            print(\"The current user has no songs for training the item similarity based recommendation model.\")\n",
    "            return -1\n",
    "        else:\n",
    "            return df\n"
   ]
  },
  {
   "cell_type": "code",
   "execution_count": 73,
   "metadata": {},
   "outputs": [],
   "source": [
    "    def recommend(data,user,user_id,item_id):\n",
    "        \n",
    "        #A. Get all unique songs for this user\n",
    "        user_songs = get_user_items(data,user,item_id)    \n",
    "            \n",
    "        print(\"No. of unique songs for the user: %d\" % len(user_songs))\n",
    "        \n",
    "        #B. Get all unique items (songs) in the training data\n",
    "        all_songs = get_all_items_train_data(data,item_id)\n",
    "        \n",
    "        print(\"no. of unique songs in the training set: %d\" % len(all_songs))\n",
    "         \n",
    "        #C. Construct item cooccurence matrix of size \n",
    "        #len(user_songs) X len(songs)\n",
    "        cooccurence_matrix = construct_cooccurence_matrix(data, user_songs, all_songs,item_id,user_id)\n",
    "        \n",
    "        #D. Use the cooccurence matrix to make recommendations\n",
    "        \n",
    "        df_recommendations = generate_top_recommendations(user, cooccurence_matrix, all_songs, user_songs)\n",
    "                \n",
    "        return df_recommendations"
   ]
  },
  {
   "cell_type": "code",
   "execution_count": 74,
   "metadata": {},
   "outputs": [],
   "source": [
    "user = user_info.index[5]"
   ]
  },
  {
   "cell_type": "code",
   "execution_count": 75,
   "metadata": {},
   "outputs": [
    {
     "data": {
      "text/plain": [
       "(1450932, 6)"
      ]
     },
     "execution_count": 75,
     "metadata": {},
     "output_type": "execute_result"
    }
   ],
   "source": [
    "song_df.shape"
   ]
  },
  {
   "cell_type": "code",
   "execution_count": 76,
   "metadata": {},
   "outputs": [
    {
     "data": {
      "text/html": [
       "<div>\n",
       "<style scoped>\n",
       "    .dataframe tbody tr th:only-of-type {\n",
       "        vertical-align: middle;\n",
       "    }\n",
       "\n",
       "    .dataframe tbody tr th {\n",
       "        vertical-align: top;\n",
       "    }\n",
       "\n",
       "    .dataframe thead th {\n",
       "        text-align: right;\n",
       "    }\n",
       "</style>\n",
       "<table border=\"1\" class=\"dataframe\">\n",
       "  <thead>\n",
       "    <tr style=\"text-align: right;\">\n",
       "      <th></th>\n",
       "      <th>user_id</th>\n",
       "      <th>song_id</th>\n",
       "      <th>freq</th>\n",
       "      <th>artist_name</th>\n",
       "      <th>title</th>\n",
       "      <th>song</th>\n",
       "    </tr>\n",
       "  </thead>\n",
       "  <tbody>\n",
       "    <tr>\n",
       "      <th>0</th>\n",
       "      <td>fd50c4007b68a3737fe052d5a4f78ce8aa117f3d</td>\n",
       "      <td>SOBONKR12A58A7A7E0</td>\n",
       "      <td>1</td>\n",
       "      <td>Dwight Yoakam</td>\n",
       "      <td>You're The One</td>\n",
       "      <td>Dwight Yoakam-You're The One</td>\n",
       "    </tr>\n",
       "    <tr>\n",
       "      <th>1</th>\n",
       "      <td>fd50c4007b68a3737fe052d5a4f78ce8aa117f3d</td>\n",
       "      <td>SOEGIYH12A6D4FC0E3</td>\n",
       "      <td>1</td>\n",
       "      <td>Barry Tuckwell/Academy of St Martin-in-the-Fie...</td>\n",
       "      <td>Horn Concerto No. 4 in E flat K495: II. Romanc...</td>\n",
       "      <td>Barry Tuckwell/Academy of St Martin-in-the-Fie...</td>\n",
       "    </tr>\n",
       "    <tr>\n",
       "      <th>2</th>\n",
       "      <td>fd50c4007b68a3737fe052d5a4f78ce8aa117f3d</td>\n",
       "      <td>SOFLJQZ12A6D4FADA6</td>\n",
       "      <td>1</td>\n",
       "      <td>Cartola</td>\n",
       "      <td>Tive Sim</td>\n",
       "      <td>Cartola-Tive Sim</td>\n",
       "    </tr>\n",
       "    <tr>\n",
       "      <th>3</th>\n",
       "      <td>fd50c4007b68a3737fe052d5a4f78ce8aa117f3d</td>\n",
       "      <td>SOHTKMO12AB01843B0</td>\n",
       "      <td>1</td>\n",
       "      <td>Lonnie Gordon</td>\n",
       "      <td>Catch You Baby (Steve Pitron &amp; Max Sanna Radio...</td>\n",
       "      <td>Lonnie Gordon-Catch You Baby (Steve Pitron &amp; M...</td>\n",
       "    </tr>\n",
       "    <tr>\n",
       "      <th>4</th>\n",
       "      <td>fd50c4007b68a3737fe052d5a4f78ce8aa117f3d</td>\n",
       "      <td>SODQZCY12A6D4F9D11</td>\n",
       "      <td>1</td>\n",
       "      <td>Miguel Calo</td>\n",
       "      <td>El Cuatrero</td>\n",
       "      <td>Miguel Calo-El Cuatrero</td>\n",
       "    </tr>\n",
       "    <tr>\n",
       "      <th>...</th>\n",
       "      <td>...</td>\n",
       "      <td>...</td>\n",
       "      <td>...</td>\n",
       "      <td>...</td>\n",
       "      <td>...</td>\n",
       "      <td>...</td>\n",
       "    </tr>\n",
       "    <tr>\n",
       "      <th>89995</th>\n",
       "      <td>fe99704b38be8b14d7245fdf64321385e26865db</td>\n",
       "      <td>SOUVGJL12AB017FC35</td>\n",
       "      <td>1</td>\n",
       "      <td>Taylor Swift</td>\n",
       "      <td>Our Song</td>\n",
       "      <td>Taylor Swift-Our Song</td>\n",
       "    </tr>\n",
       "    <tr>\n",
       "      <th>89996</th>\n",
       "      <td>fe99704b38be8b14d7245fdf64321385e26865db</td>\n",
       "      <td>SOWGCMN12A8C136E44</td>\n",
       "      <td>1</td>\n",
       "      <td>LU</td>\n",
       "      <td>Una Confusion</td>\n",
       "      <td>LU-Una Confusion</td>\n",
       "    </tr>\n",
       "    <tr>\n",
       "      <th>89997</th>\n",
       "      <td>fe99704b38be8b14d7245fdf64321385e26865db</td>\n",
       "      <td>SONNKKX12A81C22CAC</td>\n",
       "      <td>2</td>\n",
       "      <td>Theatre Of Tragedy</td>\n",
       "      <td>Crash / Concrete</td>\n",
       "      <td>Theatre Of Tragedy-Crash / Concrete</td>\n",
       "    </tr>\n",
       "    <tr>\n",
       "      <th>89998</th>\n",
       "      <td>8c7d3be7fec8a4d4ef534a683c1b700f37316333</td>\n",
       "      <td>SOMHHTD12A67ADE988</td>\n",
       "      <td>1</td>\n",
       "      <td>Arcade Fire</td>\n",
       "      <td>Ocean Of Noise</td>\n",
       "      <td>Arcade Fire-Ocean Of Noise</td>\n",
       "    </tr>\n",
       "    <tr>\n",
       "      <th>89999</th>\n",
       "      <td>8c7d3be7fec8a4d4ef534a683c1b700f37316333</td>\n",
       "      <td>SOTTGRP12A67ADE985</td>\n",
       "      <td>1</td>\n",
       "      <td>Arcade Fire</td>\n",
       "      <td>Neon Bible</td>\n",
       "      <td>Arcade Fire-Neon Bible</td>\n",
       "    </tr>\n",
       "  </tbody>\n",
       "</table>\n",
       "<p>90000 rows × 6 columns</p>\n",
       "</div>"
      ],
      "text/plain": [
       "                                        user_id             song_id  freq  \\\n",
       "0      fd50c4007b68a3737fe052d5a4f78ce8aa117f3d  SOBONKR12A58A7A7E0     1   \n",
       "1      fd50c4007b68a3737fe052d5a4f78ce8aa117f3d  SOEGIYH12A6D4FC0E3     1   \n",
       "2      fd50c4007b68a3737fe052d5a4f78ce8aa117f3d  SOFLJQZ12A6D4FADA6     1   \n",
       "3      fd50c4007b68a3737fe052d5a4f78ce8aa117f3d  SOHTKMO12AB01843B0     1   \n",
       "4      fd50c4007b68a3737fe052d5a4f78ce8aa117f3d  SODQZCY12A6D4F9D11     1   \n",
       "...                                         ...                 ...   ...   \n",
       "89995  fe99704b38be8b14d7245fdf64321385e26865db  SOUVGJL12AB017FC35     1   \n",
       "89996  fe99704b38be8b14d7245fdf64321385e26865db  SOWGCMN12A8C136E44     1   \n",
       "89997  fe99704b38be8b14d7245fdf64321385e26865db  SONNKKX12A81C22CAC     2   \n",
       "89998  8c7d3be7fec8a4d4ef534a683c1b700f37316333  SOMHHTD12A67ADE988     1   \n",
       "89999  8c7d3be7fec8a4d4ef534a683c1b700f37316333  SOTTGRP12A67ADE985     1   \n",
       "\n",
       "                                             artist_name  \\\n",
       "0                                          Dwight Yoakam   \n",
       "1      Barry Tuckwell/Academy of St Martin-in-the-Fie...   \n",
       "2                                                Cartola   \n",
       "3                                          Lonnie Gordon   \n",
       "4                                            Miguel Calo   \n",
       "...                                                  ...   \n",
       "89995                                       Taylor Swift   \n",
       "89996                                                 LU   \n",
       "89997                                 Theatre Of Tragedy   \n",
       "89998                                        Arcade Fire   \n",
       "89999                                        Arcade Fire   \n",
       "\n",
       "                                                   title  \\\n",
       "0                                         You're The One   \n",
       "1      Horn Concerto No. 4 in E flat K495: II. Romanc...   \n",
       "2                                               Tive Sim   \n",
       "3      Catch You Baby (Steve Pitron & Max Sanna Radio...   \n",
       "4                                            El Cuatrero   \n",
       "...                                                  ...   \n",
       "89995                                           Our Song   \n",
       "89996                                      Una Confusion   \n",
       "89997                                   Crash / Concrete   \n",
       "89998                                     Ocean Of Noise   \n",
       "89999                                         Neon Bible   \n",
       "\n",
       "                                                    song  \n",
       "0                           Dwight Yoakam-You're The One  \n",
       "1      Barry Tuckwell/Academy of St Martin-in-the-Fie...  \n",
       "2                                       Cartola-Tive Sim  \n",
       "3      Lonnie Gordon-Catch You Baby (Steve Pitron & M...  \n",
       "4                                Miguel Calo-El Cuatrero  \n",
       "...                                                  ...  \n",
       "89995                              Taylor Swift-Our Song  \n",
       "89996                                   LU-Una Confusion  \n",
       "89997                Theatre Of Tragedy-Crash / Concrete  \n",
       "89998                         Arcade Fire-Ocean Of Noise  \n",
       "89999                             Arcade Fire-Neon Bible  \n",
       "\n",
       "[90000 rows x 6 columns]"
      ]
     },
     "execution_count": 76,
     "metadata": {},
     "output_type": "execute_result"
    }
   ],
   "source": [
    "song_df[:90000]"
   ]
  },
  {
   "cell_type": "code",
   "execution_count": 77,
   "metadata": {},
   "outputs": [],
   "source": [
    "aa =pd.DataFrame(song_df[:90000].user_id.value_counts())"
   ]
  },
  {
   "cell_type": "code",
   "execution_count": 78,
   "metadata": {},
   "outputs": [],
   "source": [
    "user  = aa.index[6]"
   ]
  },
  {
   "cell_type": "code",
   "execution_count": 79,
   "metadata": {},
   "outputs": [
    {
     "name": "stdout",
     "output_type": "stream",
     "text": [
      "No. of unique songs for the user: 45\n",
      "no. of unique songs in the training set: 38314\n",
      "Non zero values in cooccurence_matrix :19254\n"
     ]
    },
    {
     "data": {
      "text/html": [
       "<div>\n",
       "<style scoped>\n",
       "    .dataframe tbody tr th:only-of-type {\n",
       "        vertical-align: middle;\n",
       "    }\n",
       "\n",
       "    .dataframe tbody tr th {\n",
       "        vertical-align: top;\n",
       "    }\n",
       "\n",
       "    .dataframe thead th {\n",
       "        text-align: right;\n",
       "    }\n",
       "</style>\n",
       "<table border=\"1\" class=\"dataframe\">\n",
       "  <thead>\n",
       "    <tr style=\"text-align: right;\">\n",
       "      <th></th>\n",
       "      <th>user_id</th>\n",
       "      <th>song</th>\n",
       "      <th>score</th>\n",
       "      <th>rank</th>\n",
       "    </tr>\n",
       "  </thead>\n",
       "  <tbody>\n",
       "    <tr>\n",
       "      <th>0</th>\n",
       "      <td>6f21e1ae94903ca6f82e6789344cb8d7e5fe5743</td>\n",
       "      <td>The Black Keys-Unknown Brother</td>\n",
       "      <td>0.016274</td>\n",
       "      <td>1</td>\n",
       "    </tr>\n",
       "    <tr>\n",
       "      <th>1</th>\n",
       "      <td>6f21e1ae94903ca6f82e6789344cb8d7e5fe5743</td>\n",
       "      <td>The Black Keys-Too Afraid To Love</td>\n",
       "      <td>0.014152</td>\n",
       "      <td>2</td>\n",
       "    </tr>\n",
       "    <tr>\n",
       "      <th>2</th>\n",
       "      <td>6f21e1ae94903ca6f82e6789344cb8d7e5fe5743</td>\n",
       "      <td>Cut Copy-Out There On The Ice</td>\n",
       "      <td>0.014065</td>\n",
       "      <td>3</td>\n",
       "    </tr>\n",
       "    <tr>\n",
       "      <th>3</th>\n",
       "      <td>6f21e1ae94903ca6f82e6789344cb8d7e5fe5743</td>\n",
       "      <td>Grand National-Your Rules Obey</td>\n",
       "      <td>0.012593</td>\n",
       "      <td>4</td>\n",
       "    </tr>\n",
       "    <tr>\n",
       "      <th>4</th>\n",
       "      <td>6f21e1ae94903ca6f82e6789344cb8d7e5fe5743</td>\n",
       "      <td>Grand National-Coming Round</td>\n",
       "      <td>0.012593</td>\n",
       "      <td>5</td>\n",
       "    </tr>\n",
       "    <tr>\n",
       "      <th>5</th>\n",
       "      <td>6f21e1ae94903ca6f82e6789344cb8d7e5fe5743</td>\n",
       "      <td>Dwight Yoakam-You're The One</td>\n",
       "      <td>0.012505</td>\n",
       "      <td>6</td>\n",
       "    </tr>\n",
       "    <tr>\n",
       "      <th>6</th>\n",
       "      <td>6f21e1ae94903ca6f82e6789344cb8d7e5fe5743</td>\n",
       "      <td>Cut Copy-We Fight For Diamonds</td>\n",
       "      <td>0.011728</td>\n",
       "      <td>7</td>\n",
       "    </tr>\n",
       "    <tr>\n",
       "      <th>7</th>\n",
       "      <td>6f21e1ae94903ca6f82e6789344cb8d7e5fe5743</td>\n",
       "      <td>The Black Keys-Sinister Kid</td>\n",
       "      <td>0.011526</td>\n",
       "      <td>8</td>\n",
       "    </tr>\n",
       "    <tr>\n",
       "      <th>8</th>\n",
       "      <td>6f21e1ae94903ca6f82e6789344cb8d7e5fe5743</td>\n",
       "      <td>Rick Cua-Crossfire</td>\n",
       "      <td>0.011488</td>\n",
       "      <td>9</td>\n",
       "    </tr>\n",
       "    <tr>\n",
       "      <th>9</th>\n",
       "      <td>6f21e1ae94903ca6f82e6789344cb8d7e5fe5743</td>\n",
       "      <td>Allen Toussaint-Soul Sister</td>\n",
       "      <td>0.011111</td>\n",
       "      <td>10</td>\n",
       "    </tr>\n",
       "  </tbody>\n",
       "</table>\n",
       "</div>"
      ],
      "text/plain": [
       "                                    user_id  \\\n",
       "0  6f21e1ae94903ca6f82e6789344cb8d7e5fe5743   \n",
       "1  6f21e1ae94903ca6f82e6789344cb8d7e5fe5743   \n",
       "2  6f21e1ae94903ca6f82e6789344cb8d7e5fe5743   \n",
       "3  6f21e1ae94903ca6f82e6789344cb8d7e5fe5743   \n",
       "4  6f21e1ae94903ca6f82e6789344cb8d7e5fe5743   \n",
       "5  6f21e1ae94903ca6f82e6789344cb8d7e5fe5743   \n",
       "6  6f21e1ae94903ca6f82e6789344cb8d7e5fe5743   \n",
       "7  6f21e1ae94903ca6f82e6789344cb8d7e5fe5743   \n",
       "8  6f21e1ae94903ca6f82e6789344cb8d7e5fe5743   \n",
       "9  6f21e1ae94903ca6f82e6789344cb8d7e5fe5743   \n",
       "\n",
       "                                song     score rank  \n",
       "0     The Black Keys-Unknown Brother  0.016274    1  \n",
       "1  The Black Keys-Too Afraid To Love  0.014152    2  \n",
       "2      Cut Copy-Out There On The Ice  0.014065    3  \n",
       "3     Grand National-Your Rules Obey  0.012593    4  \n",
       "4        Grand National-Coming Round  0.012593    5  \n",
       "5       Dwight Yoakam-You're The One  0.012505    6  \n",
       "6     Cut Copy-We Fight For Diamonds  0.011728    7  \n",
       "7        The Black Keys-Sinister Kid  0.011526    8  \n",
       "8                 Rick Cua-Crossfire  0.011488    9  \n",
       "9        Allen Toussaint-Soul Sister  0.011111   10  "
      ]
     },
     "execution_count": 79,
     "metadata": {},
     "output_type": "execute_result"
    }
   ],
   "source": [
    "recommend(song_df[:90000],user,'user_id','song')"
   ]
  },
  {
   "cell_type": "code",
   "execution_count": 84,
   "metadata": {},
   "outputs": [],
   "source": [
    "user1 = aa.index[30]"
   ]
  },
  {
   "cell_type": "code",
   "execution_count": 85,
   "metadata": {},
   "outputs": [
    {
     "name": "stdout",
     "output_type": "stream",
     "text": [
      "No. of unique songs for the user: 42\n",
      "no. of unique songs in the training set: 38314\n",
      "Non zero values in cooccurence_matrix :9577\n"
     ]
    },
    {
     "data": {
      "text/html": [
       "<div>\n",
       "<style scoped>\n",
       "    .dataframe tbody tr th:only-of-type {\n",
       "        vertical-align: middle;\n",
       "    }\n",
       "\n",
       "    .dataframe tbody tr th {\n",
       "        vertical-align: top;\n",
       "    }\n",
       "\n",
       "    .dataframe thead th {\n",
       "        text-align: right;\n",
       "    }\n",
       "</style>\n",
       "<table border=\"1\" class=\"dataframe\">\n",
       "  <thead>\n",
       "    <tr style=\"text-align: right;\">\n",
       "      <th></th>\n",
       "      <th>user_id</th>\n",
       "      <th>song</th>\n",
       "      <th>score</th>\n",
       "      <th>rank</th>\n",
       "    </tr>\n",
       "  </thead>\n",
       "  <tbody>\n",
       "    <tr>\n",
       "      <th>0</th>\n",
       "      <td>2f46634ee81fed0870b6698d31216a7a42dc5540</td>\n",
       "      <td>tobyMac-I'm For You</td>\n",
       "      <td>0.017857</td>\n",
       "      <td>1</td>\n",
       "    </tr>\n",
       "    <tr>\n",
       "      <th>1</th>\n",
       "      <td>2f46634ee81fed0870b6698d31216a7a42dc5540</td>\n",
       "      <td>Natalie Grant-Shout To The Lord</td>\n",
       "      <td>0.017857</td>\n",
       "      <td>2</td>\n",
       "    </tr>\n",
       "    <tr>\n",
       "      <th>2</th>\n",
       "      <td>2f46634ee81fed0870b6698d31216a7a42dc5540</td>\n",
       "      <td>Hans Zimmer-Daniel's 9th Cipher</td>\n",
       "      <td>0.016667</td>\n",
       "      <td>3</td>\n",
       "    </tr>\n",
       "    <tr>\n",
       "      <th>3</th>\n",
       "      <td>2f46634ee81fed0870b6698d31216a7a42dc5540</td>\n",
       "      <td>Jan A.P. Kaczmarek / Nick Ingman-Why Does She ...</td>\n",
       "      <td>0.016667</td>\n",
       "      <td>4</td>\n",
       "    </tr>\n",
       "    <tr>\n",
       "      <th>4</th>\n",
       "      <td>2f46634ee81fed0870b6698d31216a7a42dc5540</td>\n",
       "      <td>The Gathering-Adrenaline</td>\n",
       "      <td>0.016667</td>\n",
       "      <td>5</td>\n",
       "    </tr>\n",
       "    <tr>\n",
       "      <th>5</th>\n",
       "      <td>2f46634ee81fed0870b6698d31216a7a42dc5540</td>\n",
       "      <td>Martin O'Donnell And Michael Salvatori-Truth A...</td>\n",
       "      <td>0.016667</td>\n",
       "      <td>6</td>\n",
       "    </tr>\n",
       "    <tr>\n",
       "      <th>6</th>\n",
       "      <td>2f46634ee81fed0870b6698d31216a7a42dc5540</td>\n",
       "      <td>Jean-Yves Thibaudet-Another Dance</td>\n",
       "      <td>0.016667</td>\n",
       "      <td>7</td>\n",
       "    </tr>\n",
       "    <tr>\n",
       "      <th>7</th>\n",
       "      <td>2f46634ee81fed0870b6698d31216a7a42dc5540</td>\n",
       "      <td>Jean-Yves Thibaudet-The Secret Life of Daydreams</td>\n",
       "      <td>0.016667</td>\n",
       "      <td>8</td>\n",
       "    </tr>\n",
       "    <tr>\n",
       "      <th>8</th>\n",
       "      <td>2f46634ee81fed0870b6698d31216a7a42dc5540</td>\n",
       "      <td>Jean-Yves Thibaudet-A Postcard to Henry Purcell</td>\n",
       "      <td>0.016667</td>\n",
       "      <td>9</td>\n",
       "    </tr>\n",
       "    <tr>\n",
       "      <th>9</th>\n",
       "      <td>2f46634ee81fed0870b6698d31216a7a42dc5540</td>\n",
       "      <td>Dario Marianelli-The Half Killed</td>\n",
       "      <td>0.016667</td>\n",
       "      <td>10</td>\n",
       "    </tr>\n",
       "  </tbody>\n",
       "</table>\n",
       "</div>"
      ],
      "text/plain": [
       "                                    user_id  \\\n",
       "0  2f46634ee81fed0870b6698d31216a7a42dc5540   \n",
       "1  2f46634ee81fed0870b6698d31216a7a42dc5540   \n",
       "2  2f46634ee81fed0870b6698d31216a7a42dc5540   \n",
       "3  2f46634ee81fed0870b6698d31216a7a42dc5540   \n",
       "4  2f46634ee81fed0870b6698d31216a7a42dc5540   \n",
       "5  2f46634ee81fed0870b6698d31216a7a42dc5540   \n",
       "6  2f46634ee81fed0870b6698d31216a7a42dc5540   \n",
       "7  2f46634ee81fed0870b6698d31216a7a42dc5540   \n",
       "8  2f46634ee81fed0870b6698d31216a7a42dc5540   \n",
       "9  2f46634ee81fed0870b6698d31216a7a42dc5540   \n",
       "\n",
       "                                                song     score rank  \n",
       "0                                tobyMac-I'm For You  0.017857    1  \n",
       "1                    Natalie Grant-Shout To The Lord  0.017857    2  \n",
       "2                    Hans Zimmer-Daniel's 9th Cipher  0.016667    3  \n",
       "3  Jan A.P. Kaczmarek / Nick Ingman-Why Does She ...  0.016667    4  \n",
       "4                           The Gathering-Adrenaline  0.016667    5  \n",
       "5  Martin O'Donnell And Michael Salvatori-Truth A...  0.016667    6  \n",
       "6                  Jean-Yves Thibaudet-Another Dance  0.016667    7  \n",
       "7   Jean-Yves Thibaudet-The Secret Life of Daydreams  0.016667    8  \n",
       "8    Jean-Yves Thibaudet-A Postcard to Henry Purcell  0.016667    9  \n",
       "9                   Dario Marianelli-The Half Killed  0.016667   10  "
      ]
     },
     "execution_count": 85,
     "metadata": {},
     "output_type": "execute_result"
    }
   ],
   "source": [
    "recommend(song_df[:90000],user1,'user_id','song')"
   ]
  },
  {
   "cell_type": "markdown",
   "metadata": {},
   "source": [
    "The first model is popularity based recommender, meaning it is not personalized toward any user and will output the same list of recommended songs. The second model is personalized recommender leveraging the item similarity based collaborative filtering model (ie the cooccurence matrix) to find a personalized list of song that a user might like based on what other similar user have liked.\n"
   ]
  }
 ],
 "metadata": {
  "kernelspec": {
   "display_name": "Python 3",
   "language": "python",
   "name": "python3"
  },
  "language_info": {
   "codemirror_mode": {
    "name": "ipython",
    "version": 3
   },
   "file_extension": ".py",
   "mimetype": "text/x-python",
   "name": "python",
   "nbconvert_exporter": "python",
   "pygments_lexer": "ipython3",
   "version": "3.8.5"
  }
 },
 "nbformat": 4,
 "nbformat_minor": 4
}
